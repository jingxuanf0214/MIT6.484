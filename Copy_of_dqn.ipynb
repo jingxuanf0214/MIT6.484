{
  "nbformat": 4,
  "nbformat_minor": 0,
  "metadata": {
    "colab": {
      "provenance": [],
      "collapsed_sections": [],
      "include_colab_link": true
    },
    "kernelspec": {
      "name": "python3",
      "display_name": "Python 3"
    },
    "widgets": {
      "application/vnd.jupyter.widget-state+json": {
        "46a57b91bb864e1cbd2535b9a95894cb": {
          "model_module": "@jupyter-widgets/controls",
          "model_name": "HBoxModel",
          "model_module_version": "1.5.0",
          "state": {
            "_dom_classes": [],
            "_model_module": "@jupyter-widgets/controls",
            "_model_module_version": "1.5.0",
            "_model_name": "HBoxModel",
            "_view_count": null,
            "_view_module": "@jupyter-widgets/controls",
            "_view_module_version": "1.5.0",
            "_view_name": "HBoxView",
            "box_style": "",
            "children": [
              "IPY_MODEL_1b137d9ef2c246cab3197f52f676871a",
              "IPY_MODEL_f442a183a40e46dda985056b6cc72d1b",
              "IPY_MODEL_a4e4884167114465947857619f50b5c6"
            ],
            "layout": "IPY_MODEL_5c96b0ab60384c52b238f064838ba2d6"
          }
        },
        "1b137d9ef2c246cab3197f52f676871a": {
          "model_module": "@jupyter-widgets/controls",
          "model_name": "HTMLModel",
          "model_module_version": "1.5.0",
          "state": {
            "_dom_classes": [],
            "_model_module": "@jupyter-widgets/controls",
            "_model_module_version": "1.5.0",
            "_model_name": "HTMLModel",
            "_view_count": null,
            "_view_module": "@jupyter-widgets/controls",
            "_view_module_version": "1.5.0",
            "_view_name": "HTMLView",
            "description": "",
            "description_tooltip": null,
            "layout": "IPY_MODEL_dc6c694c65b24a2895bf18b943792c53",
            "placeholder": "​",
            "style": "IPY_MODEL_351a59e18594403489752cadaf0cbb7d",
            "value": "100%"
          }
        },
        "f442a183a40e46dda985056b6cc72d1b": {
          "model_module": "@jupyter-widgets/controls",
          "model_name": "FloatProgressModel",
          "model_module_version": "1.5.0",
          "state": {
            "_dom_classes": [],
            "_model_module": "@jupyter-widgets/controls",
            "_model_module_version": "1.5.0",
            "_model_name": "FloatProgressModel",
            "_view_count": null,
            "_view_module": "@jupyter-widgets/controls",
            "_view_module_version": "1.5.0",
            "_view_name": "ProgressView",
            "bar_style": "success",
            "description": "",
            "description_tooltip": null,
            "layout": "IPY_MODEL_a2ca86540abe477691554493724a9308",
            "max": 1,
            "min": 0,
            "orientation": "horizontal",
            "style": "IPY_MODEL_56ab4c04d7b148e3a37cb7ace555339d",
            "value": 1
          }
        },
        "a4e4884167114465947857619f50b5c6": {
          "model_module": "@jupyter-widgets/controls",
          "model_name": "HTMLModel",
          "model_module_version": "1.5.0",
          "state": {
            "_dom_classes": [],
            "_model_module": "@jupyter-widgets/controls",
            "_model_module_version": "1.5.0",
            "_model_name": "HTMLModel",
            "_view_count": null,
            "_view_module": "@jupyter-widgets/controls",
            "_view_module_version": "1.5.0",
            "_view_name": "HTMLView",
            "description": "",
            "description_tooltip": null,
            "layout": "IPY_MODEL_259fd40224514adda5b240beb3301c54",
            "placeholder": "​",
            "style": "IPY_MODEL_af7fb310bd5f4f7fb820defdd763fc19",
            "value": " 1/1 [00:09&lt;00:00,  9.22s/it]"
          }
        },
        "5c96b0ab60384c52b238f064838ba2d6": {
          "model_module": "@jupyter-widgets/base",
          "model_name": "LayoutModel",
          "model_module_version": "1.2.0",
          "state": {
            "_model_module": "@jupyter-widgets/base",
            "_model_module_version": "1.2.0",
            "_model_name": "LayoutModel",
            "_view_count": null,
            "_view_module": "@jupyter-widgets/base",
            "_view_module_version": "1.2.0",
            "_view_name": "LayoutView",
            "align_content": null,
            "align_items": null,
            "align_self": null,
            "border": null,
            "bottom": null,
            "display": null,
            "flex": null,
            "flex_flow": null,
            "grid_area": null,
            "grid_auto_columns": null,
            "grid_auto_flow": null,
            "grid_auto_rows": null,
            "grid_column": null,
            "grid_gap": null,
            "grid_row": null,
            "grid_template_areas": null,
            "grid_template_columns": null,
            "grid_template_rows": null,
            "height": null,
            "justify_content": null,
            "justify_items": null,
            "left": null,
            "margin": null,
            "max_height": null,
            "max_width": null,
            "min_height": null,
            "min_width": null,
            "object_fit": null,
            "object_position": null,
            "order": null,
            "overflow": null,
            "overflow_x": null,
            "overflow_y": null,
            "padding": null,
            "right": null,
            "top": null,
            "visibility": null,
            "width": null
          }
        },
        "dc6c694c65b24a2895bf18b943792c53": {
          "model_module": "@jupyter-widgets/base",
          "model_name": "LayoutModel",
          "model_module_version": "1.2.0",
          "state": {
            "_model_module": "@jupyter-widgets/base",
            "_model_module_version": "1.2.0",
            "_model_name": "LayoutModel",
            "_view_count": null,
            "_view_module": "@jupyter-widgets/base",
            "_view_module_version": "1.2.0",
            "_view_name": "LayoutView",
            "align_content": null,
            "align_items": null,
            "align_self": null,
            "border": null,
            "bottom": null,
            "display": null,
            "flex": null,
            "flex_flow": null,
            "grid_area": null,
            "grid_auto_columns": null,
            "grid_auto_flow": null,
            "grid_auto_rows": null,
            "grid_column": null,
            "grid_gap": null,
            "grid_row": null,
            "grid_template_areas": null,
            "grid_template_columns": null,
            "grid_template_rows": null,
            "height": null,
            "justify_content": null,
            "justify_items": null,
            "left": null,
            "margin": null,
            "max_height": null,
            "max_width": null,
            "min_height": null,
            "min_width": null,
            "object_fit": null,
            "object_position": null,
            "order": null,
            "overflow": null,
            "overflow_x": null,
            "overflow_y": null,
            "padding": null,
            "right": null,
            "top": null,
            "visibility": null,
            "width": null
          }
        },
        "351a59e18594403489752cadaf0cbb7d": {
          "model_module": "@jupyter-widgets/controls",
          "model_name": "DescriptionStyleModel",
          "model_module_version": "1.5.0",
          "state": {
            "_model_module": "@jupyter-widgets/controls",
            "_model_module_version": "1.5.0",
            "_model_name": "DescriptionStyleModel",
            "_view_count": null,
            "_view_module": "@jupyter-widgets/base",
            "_view_module_version": "1.2.0",
            "_view_name": "StyleView",
            "description_width": ""
          }
        },
        "a2ca86540abe477691554493724a9308": {
          "model_module": "@jupyter-widgets/base",
          "model_name": "LayoutModel",
          "model_module_version": "1.2.0",
          "state": {
            "_model_module": "@jupyter-widgets/base",
            "_model_module_version": "1.2.0",
            "_model_name": "LayoutModel",
            "_view_count": null,
            "_view_module": "@jupyter-widgets/base",
            "_view_module_version": "1.2.0",
            "_view_name": "LayoutView",
            "align_content": null,
            "align_items": null,
            "align_self": null,
            "border": null,
            "bottom": null,
            "display": null,
            "flex": null,
            "flex_flow": null,
            "grid_area": null,
            "grid_auto_columns": null,
            "grid_auto_flow": null,
            "grid_auto_rows": null,
            "grid_column": null,
            "grid_gap": null,
            "grid_row": null,
            "grid_template_areas": null,
            "grid_template_columns": null,
            "grid_template_rows": null,
            "height": null,
            "justify_content": null,
            "justify_items": null,
            "left": null,
            "margin": null,
            "max_height": null,
            "max_width": null,
            "min_height": null,
            "min_width": null,
            "object_fit": null,
            "object_position": null,
            "order": null,
            "overflow": null,
            "overflow_x": null,
            "overflow_y": null,
            "padding": null,
            "right": null,
            "top": null,
            "visibility": null,
            "width": null
          }
        },
        "56ab4c04d7b148e3a37cb7ace555339d": {
          "model_module": "@jupyter-widgets/controls",
          "model_name": "ProgressStyleModel",
          "model_module_version": "1.5.0",
          "state": {
            "_model_module": "@jupyter-widgets/controls",
            "_model_module_version": "1.5.0",
            "_model_name": "ProgressStyleModel",
            "_view_count": null,
            "_view_module": "@jupyter-widgets/base",
            "_view_module_version": "1.2.0",
            "_view_name": "StyleView",
            "bar_color": null,
            "description_width": ""
          }
        },
        "259fd40224514adda5b240beb3301c54": {
          "model_module": "@jupyter-widgets/base",
          "model_name": "LayoutModel",
          "model_module_version": "1.2.0",
          "state": {
            "_model_module": "@jupyter-widgets/base",
            "_model_module_version": "1.2.0",
            "_model_name": "LayoutModel",
            "_view_count": null,
            "_view_module": "@jupyter-widgets/base",
            "_view_module_version": "1.2.0",
            "_view_name": "LayoutView",
            "align_content": null,
            "align_items": null,
            "align_self": null,
            "border": null,
            "bottom": null,
            "display": null,
            "flex": null,
            "flex_flow": null,
            "grid_area": null,
            "grid_auto_columns": null,
            "grid_auto_flow": null,
            "grid_auto_rows": null,
            "grid_column": null,
            "grid_gap": null,
            "grid_row": null,
            "grid_template_areas": null,
            "grid_template_columns": null,
            "grid_template_rows": null,
            "height": null,
            "justify_content": null,
            "justify_items": null,
            "left": null,
            "margin": null,
            "max_height": null,
            "max_width": null,
            "min_height": null,
            "min_width": null,
            "object_fit": null,
            "object_position": null,
            "order": null,
            "overflow": null,
            "overflow_x": null,
            "overflow_y": null,
            "padding": null,
            "right": null,
            "top": null,
            "visibility": null,
            "width": null
          }
        },
        "af7fb310bd5f4f7fb820defdd763fc19": {
          "model_module": "@jupyter-widgets/controls",
          "model_name": "DescriptionStyleModel",
          "model_module_version": "1.5.0",
          "state": {
            "_model_module": "@jupyter-widgets/controls",
            "_model_module_version": "1.5.0",
            "_model_name": "DescriptionStyleModel",
            "_view_count": null,
            "_view_module": "@jupyter-widgets/base",
            "_view_module_version": "1.2.0",
            "_view_name": "StyleView",
            "description_width": ""
          }
        },
        "8c4bd089c8174ce3ae822f859695a1de": {
          "model_module": "@jupyter-widgets/controls",
          "model_name": "HBoxModel",
          "model_module_version": "1.5.0",
          "state": {
            "_dom_classes": [],
            "_model_module": "@jupyter-widgets/controls",
            "_model_module_version": "1.5.0",
            "_model_name": "HBoxModel",
            "_view_count": null,
            "_view_module": "@jupyter-widgets/controls",
            "_view_module_version": "1.5.0",
            "_view_name": "HBoxView",
            "box_style": "",
            "children": [
              "IPY_MODEL_60f40dd76d814d3fadcda5e541597294",
              "IPY_MODEL_f988c59acfbf4a48ae9917db5d71a32e",
              "IPY_MODEL_5e418615bfbd4c09adffcd6d920dfb6e"
            ],
            "layout": "IPY_MODEL_61cb6f9ce4e04e9e97698a1bead7445e"
          }
        },
        "60f40dd76d814d3fadcda5e541597294": {
          "model_module": "@jupyter-widgets/controls",
          "model_name": "HTMLModel",
          "model_module_version": "1.5.0",
          "state": {
            "_dom_classes": [],
            "_model_module": "@jupyter-widgets/controls",
            "_model_module_version": "1.5.0",
            "_model_name": "HTMLModel",
            "_view_count": null,
            "_view_module": "@jupyter-widgets/controls",
            "_view_module_version": "1.5.0",
            "_view_name": "HTMLView",
            "description": "",
            "description_tooltip": null,
            "layout": "IPY_MODEL_9d1de7ecc6b04f02b5679df881b3c7e6",
            "placeholder": "​",
            "style": "IPY_MODEL_388832ab502446da9c171b6aca7a4fe4",
            "value": "Runs: 100%"
          }
        },
        "f988c59acfbf4a48ae9917db5d71a32e": {
          "model_module": "@jupyter-widgets/controls",
          "model_name": "FloatProgressModel",
          "model_module_version": "1.5.0",
          "state": {
            "_dom_classes": [],
            "_model_module": "@jupyter-widgets/controls",
            "_model_module_version": "1.5.0",
            "_model_name": "FloatProgressModel",
            "_view_count": null,
            "_view_module": "@jupyter-widgets/controls",
            "_view_module_version": "1.5.0",
            "_view_name": "ProgressView",
            "bar_style": "success",
            "description": "",
            "description_tooltip": null,
            "layout": "IPY_MODEL_6f5e228fd2af4ccca80e46aab677963f",
            "max": 1,
            "min": 0,
            "orientation": "horizontal",
            "style": "IPY_MODEL_f6068dca93944f91942e7cd814d770a2",
            "value": 1
          }
        },
        "5e418615bfbd4c09adffcd6d920dfb6e": {
          "model_module": "@jupyter-widgets/controls",
          "model_name": "HTMLModel",
          "model_module_version": "1.5.0",
          "state": {
            "_dom_classes": [],
            "_model_module": "@jupyter-widgets/controls",
            "_model_module_version": "1.5.0",
            "_model_name": "HTMLModel",
            "_view_count": null,
            "_view_module": "@jupyter-widgets/controls",
            "_view_module_version": "1.5.0",
            "_view_name": "HTMLView",
            "description": "",
            "description_tooltip": null,
            "layout": "IPY_MODEL_d423ec7e9bd549d4aa262871ba4b24cf",
            "placeholder": "​",
            "style": "IPY_MODEL_38f7e9e0ce954954b44386ea71726b1b",
            "value": " 1/1 [00:09&lt;00:00,  9.18s/it]"
          }
        },
        "61cb6f9ce4e04e9e97698a1bead7445e": {
          "model_module": "@jupyter-widgets/base",
          "model_name": "LayoutModel",
          "model_module_version": "1.2.0",
          "state": {
            "_model_module": "@jupyter-widgets/base",
            "_model_module_version": "1.2.0",
            "_model_name": "LayoutModel",
            "_view_count": null,
            "_view_module": "@jupyter-widgets/base",
            "_view_module_version": "1.2.0",
            "_view_name": "LayoutView",
            "align_content": null,
            "align_items": null,
            "align_self": null,
            "border": null,
            "bottom": null,
            "display": null,
            "flex": null,
            "flex_flow": null,
            "grid_area": null,
            "grid_auto_columns": null,
            "grid_auto_flow": null,
            "grid_auto_rows": null,
            "grid_column": null,
            "grid_gap": null,
            "grid_row": null,
            "grid_template_areas": null,
            "grid_template_columns": null,
            "grid_template_rows": null,
            "height": null,
            "justify_content": null,
            "justify_items": null,
            "left": null,
            "margin": null,
            "max_height": null,
            "max_width": null,
            "min_height": null,
            "min_width": null,
            "object_fit": null,
            "object_position": null,
            "order": null,
            "overflow": null,
            "overflow_x": null,
            "overflow_y": null,
            "padding": null,
            "right": null,
            "top": null,
            "visibility": null,
            "width": null
          }
        },
        "9d1de7ecc6b04f02b5679df881b3c7e6": {
          "model_module": "@jupyter-widgets/base",
          "model_name": "LayoutModel",
          "model_module_version": "1.2.0",
          "state": {
            "_model_module": "@jupyter-widgets/base",
            "_model_module_version": "1.2.0",
            "_model_name": "LayoutModel",
            "_view_count": null,
            "_view_module": "@jupyter-widgets/base",
            "_view_module_version": "1.2.0",
            "_view_name": "LayoutView",
            "align_content": null,
            "align_items": null,
            "align_self": null,
            "border": null,
            "bottom": null,
            "display": null,
            "flex": null,
            "flex_flow": null,
            "grid_area": null,
            "grid_auto_columns": null,
            "grid_auto_flow": null,
            "grid_auto_rows": null,
            "grid_column": null,
            "grid_gap": null,
            "grid_row": null,
            "grid_template_areas": null,
            "grid_template_columns": null,
            "grid_template_rows": null,
            "height": null,
            "justify_content": null,
            "justify_items": null,
            "left": null,
            "margin": null,
            "max_height": null,
            "max_width": null,
            "min_height": null,
            "min_width": null,
            "object_fit": null,
            "object_position": null,
            "order": null,
            "overflow": null,
            "overflow_x": null,
            "overflow_y": null,
            "padding": null,
            "right": null,
            "top": null,
            "visibility": null,
            "width": null
          }
        },
        "388832ab502446da9c171b6aca7a4fe4": {
          "model_module": "@jupyter-widgets/controls",
          "model_name": "DescriptionStyleModel",
          "model_module_version": "1.5.0",
          "state": {
            "_model_module": "@jupyter-widgets/controls",
            "_model_module_version": "1.5.0",
            "_model_name": "DescriptionStyleModel",
            "_view_count": null,
            "_view_module": "@jupyter-widgets/base",
            "_view_module_version": "1.2.0",
            "_view_name": "StyleView",
            "description_width": ""
          }
        },
        "6f5e228fd2af4ccca80e46aab677963f": {
          "model_module": "@jupyter-widgets/base",
          "model_name": "LayoutModel",
          "model_module_version": "1.2.0",
          "state": {
            "_model_module": "@jupyter-widgets/base",
            "_model_module_version": "1.2.0",
            "_model_name": "LayoutModel",
            "_view_count": null,
            "_view_module": "@jupyter-widgets/base",
            "_view_module_version": "1.2.0",
            "_view_name": "LayoutView",
            "align_content": null,
            "align_items": null,
            "align_self": null,
            "border": null,
            "bottom": null,
            "display": null,
            "flex": null,
            "flex_flow": null,
            "grid_area": null,
            "grid_auto_columns": null,
            "grid_auto_flow": null,
            "grid_auto_rows": null,
            "grid_column": null,
            "grid_gap": null,
            "grid_row": null,
            "grid_template_areas": null,
            "grid_template_columns": null,
            "grid_template_rows": null,
            "height": null,
            "justify_content": null,
            "justify_items": null,
            "left": null,
            "margin": null,
            "max_height": null,
            "max_width": null,
            "min_height": null,
            "min_width": null,
            "object_fit": null,
            "object_position": null,
            "order": null,
            "overflow": null,
            "overflow_x": null,
            "overflow_y": null,
            "padding": null,
            "right": null,
            "top": null,
            "visibility": null,
            "width": null
          }
        },
        "f6068dca93944f91942e7cd814d770a2": {
          "model_module": "@jupyter-widgets/controls",
          "model_name": "ProgressStyleModel",
          "model_module_version": "1.5.0",
          "state": {
            "_model_module": "@jupyter-widgets/controls",
            "_model_module_version": "1.5.0",
            "_model_name": "ProgressStyleModel",
            "_view_count": null,
            "_view_module": "@jupyter-widgets/base",
            "_view_module_version": "1.2.0",
            "_view_name": "StyleView",
            "bar_color": null,
            "description_width": ""
          }
        },
        "d423ec7e9bd549d4aa262871ba4b24cf": {
          "model_module": "@jupyter-widgets/base",
          "model_name": "LayoutModel",
          "model_module_version": "1.2.0",
          "state": {
            "_model_module": "@jupyter-widgets/base",
            "_model_module_version": "1.2.0",
            "_model_name": "LayoutModel",
            "_view_count": null,
            "_view_module": "@jupyter-widgets/base",
            "_view_module_version": "1.2.0",
            "_view_name": "LayoutView",
            "align_content": null,
            "align_items": null,
            "align_self": null,
            "border": null,
            "bottom": null,
            "display": null,
            "flex": null,
            "flex_flow": null,
            "grid_area": null,
            "grid_auto_columns": null,
            "grid_auto_flow": null,
            "grid_auto_rows": null,
            "grid_column": null,
            "grid_gap": null,
            "grid_row": null,
            "grid_template_areas": null,
            "grid_template_columns": null,
            "grid_template_rows": null,
            "height": null,
            "justify_content": null,
            "justify_items": null,
            "left": null,
            "margin": null,
            "max_height": null,
            "max_width": null,
            "min_height": null,
            "min_width": null,
            "object_fit": null,
            "object_position": null,
            "order": null,
            "overflow": null,
            "overflow_x": null,
            "overflow_y": null,
            "padding": null,
            "right": null,
            "top": null,
            "visibility": null,
            "width": null
          }
        },
        "38f7e9e0ce954954b44386ea71726b1b": {
          "model_module": "@jupyter-widgets/controls",
          "model_name": "DescriptionStyleModel",
          "model_module_version": "1.5.0",
          "state": {
            "_model_module": "@jupyter-widgets/controls",
            "_model_module_version": "1.5.0",
            "_model_name": "DescriptionStyleModel",
            "_view_count": null,
            "_view_module": "@jupyter-widgets/base",
            "_view_module_version": "1.2.0",
            "_view_name": "StyleView",
            "description_width": ""
          }
        },
        "482e8a4e72e6489a9d9c45a047629a78": {
          "model_module": "@jupyter-widgets/controls",
          "model_name": "HBoxModel",
          "model_module_version": "1.5.0",
          "state": {
            "_dom_classes": [],
            "_model_module": "@jupyter-widgets/controls",
            "_model_module_version": "1.5.0",
            "_model_name": "HBoxModel",
            "_view_count": null,
            "_view_module": "@jupyter-widgets/controls",
            "_view_module_version": "1.5.0",
            "_view_name": "HBoxView",
            "box_style": "",
            "children": [
              "IPY_MODEL_c9d96056214f47f492b9ae8702888ec3",
              "IPY_MODEL_f0ff8139261c48d2af85894cf73b4c6f",
              "IPY_MODEL_13cbdb9dc38f494dac5932f89aa58c9e"
            ],
            "layout": "IPY_MODEL_d73f2866e4fc4b498901988b3195b1d4"
          }
        },
        "c9d96056214f47f492b9ae8702888ec3": {
          "model_module": "@jupyter-widgets/controls",
          "model_name": "HTMLModel",
          "model_module_version": "1.5.0",
          "state": {
            "_dom_classes": [],
            "_model_module": "@jupyter-widgets/controls",
            "_model_module_version": "1.5.0",
            "_model_name": "HTMLModel",
            "_view_count": null,
            "_view_module": "@jupyter-widgets/controls",
            "_view_module_version": "1.5.0",
            "_view_name": "HTMLView",
            "description": "",
            "description_tooltip": null,
            "layout": "IPY_MODEL_046843799e564a66bf1a03a14ae93229",
            "placeholder": "​",
            "style": "IPY_MODEL_a87d450c29dc4aa5ae53bf6949927376",
            "value": "Step: 100%"
          }
        },
        "f0ff8139261c48d2af85894cf73b4c6f": {
          "model_module": "@jupyter-widgets/controls",
          "model_name": "FloatProgressModel",
          "model_module_version": "1.5.0",
          "state": {
            "_dom_classes": [],
            "_model_module": "@jupyter-widgets/controls",
            "_model_module_version": "1.5.0",
            "_model_name": "FloatProgressModel",
            "_view_count": null,
            "_view_module": "@jupyter-widgets/controls",
            "_view_module_version": "1.5.0",
            "_view_name": "ProgressView",
            "bar_style": "success",
            "description": "",
            "description_tooltip": null,
            "layout": "IPY_MODEL_3c4bad71f31048d5a487926564527c16",
            "max": 1000,
            "min": 0,
            "orientation": "horizontal",
            "style": "IPY_MODEL_20b03cda568541e587efe574038024bb",
            "value": 1000
          }
        },
        "13cbdb9dc38f494dac5932f89aa58c9e": {
          "model_module": "@jupyter-widgets/controls",
          "model_name": "HTMLModel",
          "model_module_version": "1.5.0",
          "state": {
            "_dom_classes": [],
            "_model_module": "@jupyter-widgets/controls",
            "_model_module_version": "1.5.0",
            "_model_name": "HTMLModel",
            "_view_count": null,
            "_view_module": "@jupyter-widgets/controls",
            "_view_module_version": "1.5.0",
            "_view_name": "HTMLView",
            "description": "",
            "description_tooltip": null,
            "layout": "IPY_MODEL_1cce0599c0c04355905f2c4cf3099cf4",
            "placeholder": "​",
            "style": "IPY_MODEL_6e954366708d405ebc8605e0317bdddc",
            "value": " 1000/1000 [00:09&lt;00:00, 58.56it/s]"
          }
        },
        "d73f2866e4fc4b498901988b3195b1d4": {
          "model_module": "@jupyter-widgets/base",
          "model_name": "LayoutModel",
          "model_module_version": "1.2.0",
          "state": {
            "_model_module": "@jupyter-widgets/base",
            "_model_module_version": "1.2.0",
            "_model_name": "LayoutModel",
            "_view_count": null,
            "_view_module": "@jupyter-widgets/base",
            "_view_module_version": "1.2.0",
            "_view_name": "LayoutView",
            "align_content": null,
            "align_items": null,
            "align_self": null,
            "border": null,
            "bottom": null,
            "display": null,
            "flex": null,
            "flex_flow": null,
            "grid_area": null,
            "grid_auto_columns": null,
            "grid_auto_flow": null,
            "grid_auto_rows": null,
            "grid_column": null,
            "grid_gap": null,
            "grid_row": null,
            "grid_template_areas": null,
            "grid_template_columns": null,
            "grid_template_rows": null,
            "height": null,
            "justify_content": null,
            "justify_items": null,
            "left": null,
            "margin": null,
            "max_height": null,
            "max_width": null,
            "min_height": null,
            "min_width": null,
            "object_fit": null,
            "object_position": null,
            "order": null,
            "overflow": null,
            "overflow_x": null,
            "overflow_y": null,
            "padding": null,
            "right": null,
            "top": null,
            "visibility": null,
            "width": null
          }
        },
        "046843799e564a66bf1a03a14ae93229": {
          "model_module": "@jupyter-widgets/base",
          "model_name": "LayoutModel",
          "model_module_version": "1.2.0",
          "state": {
            "_model_module": "@jupyter-widgets/base",
            "_model_module_version": "1.2.0",
            "_model_name": "LayoutModel",
            "_view_count": null,
            "_view_module": "@jupyter-widgets/base",
            "_view_module_version": "1.2.0",
            "_view_name": "LayoutView",
            "align_content": null,
            "align_items": null,
            "align_self": null,
            "border": null,
            "bottom": null,
            "display": null,
            "flex": null,
            "flex_flow": null,
            "grid_area": null,
            "grid_auto_columns": null,
            "grid_auto_flow": null,
            "grid_auto_rows": null,
            "grid_column": null,
            "grid_gap": null,
            "grid_row": null,
            "grid_template_areas": null,
            "grid_template_columns": null,
            "grid_template_rows": null,
            "height": null,
            "justify_content": null,
            "justify_items": null,
            "left": null,
            "margin": null,
            "max_height": null,
            "max_width": null,
            "min_height": null,
            "min_width": null,
            "object_fit": null,
            "object_position": null,
            "order": null,
            "overflow": null,
            "overflow_x": null,
            "overflow_y": null,
            "padding": null,
            "right": null,
            "top": null,
            "visibility": null,
            "width": null
          }
        },
        "a87d450c29dc4aa5ae53bf6949927376": {
          "model_module": "@jupyter-widgets/controls",
          "model_name": "DescriptionStyleModel",
          "model_module_version": "1.5.0",
          "state": {
            "_model_module": "@jupyter-widgets/controls",
            "_model_module_version": "1.5.0",
            "_model_name": "DescriptionStyleModel",
            "_view_count": null,
            "_view_module": "@jupyter-widgets/base",
            "_view_module_version": "1.2.0",
            "_view_name": "StyleView",
            "description_width": ""
          }
        },
        "3c4bad71f31048d5a487926564527c16": {
          "model_module": "@jupyter-widgets/base",
          "model_name": "LayoutModel",
          "model_module_version": "1.2.0",
          "state": {
            "_model_module": "@jupyter-widgets/base",
            "_model_module_version": "1.2.0",
            "_model_name": "LayoutModel",
            "_view_count": null,
            "_view_module": "@jupyter-widgets/base",
            "_view_module_version": "1.2.0",
            "_view_name": "LayoutView",
            "align_content": null,
            "align_items": null,
            "align_self": null,
            "border": null,
            "bottom": null,
            "display": null,
            "flex": null,
            "flex_flow": null,
            "grid_area": null,
            "grid_auto_columns": null,
            "grid_auto_flow": null,
            "grid_auto_rows": null,
            "grid_column": null,
            "grid_gap": null,
            "grid_row": null,
            "grid_template_areas": null,
            "grid_template_columns": null,
            "grid_template_rows": null,
            "height": null,
            "justify_content": null,
            "justify_items": null,
            "left": null,
            "margin": null,
            "max_height": null,
            "max_width": null,
            "min_height": null,
            "min_width": null,
            "object_fit": null,
            "object_position": null,
            "order": null,
            "overflow": null,
            "overflow_x": null,
            "overflow_y": null,
            "padding": null,
            "right": null,
            "top": null,
            "visibility": null,
            "width": null
          }
        },
        "20b03cda568541e587efe574038024bb": {
          "model_module": "@jupyter-widgets/controls",
          "model_name": "ProgressStyleModel",
          "model_module_version": "1.5.0",
          "state": {
            "_model_module": "@jupyter-widgets/controls",
            "_model_module_version": "1.5.0",
            "_model_name": "ProgressStyleModel",
            "_view_count": null,
            "_view_module": "@jupyter-widgets/base",
            "_view_module_version": "1.2.0",
            "_view_name": "StyleView",
            "bar_color": null,
            "description_width": ""
          }
        },
        "1cce0599c0c04355905f2c4cf3099cf4": {
          "model_module": "@jupyter-widgets/base",
          "model_name": "LayoutModel",
          "model_module_version": "1.2.0",
          "state": {
            "_model_module": "@jupyter-widgets/base",
            "_model_module_version": "1.2.0",
            "_model_name": "LayoutModel",
            "_view_count": null,
            "_view_module": "@jupyter-widgets/base",
            "_view_module_version": "1.2.0",
            "_view_name": "LayoutView",
            "align_content": null,
            "align_items": null,
            "align_self": null,
            "border": null,
            "bottom": null,
            "display": null,
            "flex": null,
            "flex_flow": null,
            "grid_area": null,
            "grid_auto_columns": null,
            "grid_auto_flow": null,
            "grid_auto_rows": null,
            "grid_column": null,
            "grid_gap": null,
            "grid_row": null,
            "grid_template_areas": null,
            "grid_template_columns": null,
            "grid_template_rows": null,
            "height": null,
            "justify_content": null,
            "justify_items": null,
            "left": null,
            "margin": null,
            "max_height": null,
            "max_width": null,
            "min_height": null,
            "min_width": null,
            "object_fit": null,
            "object_position": null,
            "order": null,
            "overflow": null,
            "overflow_x": null,
            "overflow_y": null,
            "padding": null,
            "right": null,
            "top": null,
            "visibility": null,
            "width": null
          }
        },
        "6e954366708d405ebc8605e0317bdddc": {
          "model_module": "@jupyter-widgets/controls",
          "model_name": "DescriptionStyleModel",
          "model_module_version": "1.5.0",
          "state": {
            "_model_module": "@jupyter-widgets/controls",
            "_model_module_version": "1.5.0",
            "_model_name": "DescriptionStyleModel",
            "_view_count": null,
            "_view_module": "@jupyter-widgets/base",
            "_view_module_version": "1.2.0",
            "_view_name": "StyleView",
            "description_width": ""
          }
        },
        "2359e28cbe2341d5b934097d2573a33b": {
          "model_module": "@jupyter-widgets/controls",
          "model_name": "HBoxModel",
          "model_module_version": "1.5.0",
          "state": {
            "_dom_classes": [],
            "_model_module": "@jupyter-widgets/controls",
            "_model_module_version": "1.5.0",
            "_model_name": "HBoxModel",
            "_view_count": null,
            "_view_module": "@jupyter-widgets/controls",
            "_view_module_version": "1.5.0",
            "_view_name": "HBoxView",
            "box_style": "",
            "children": [
              "IPY_MODEL_cc6e0a4855ee4f8e9f83c51a4213d56f",
              "IPY_MODEL_1c66a97e6bf145bbac8584cf8c98f2b5",
              "IPY_MODEL_1cb7d91a4afe4b36b32c64b2c8c450bb"
            ],
            "layout": "IPY_MODEL_6f0be990ac854455af9a1c8af764cf5e"
          }
        },
        "cc6e0a4855ee4f8e9f83c51a4213d56f": {
          "model_module": "@jupyter-widgets/controls",
          "model_name": "HTMLModel",
          "model_module_version": "1.5.0",
          "state": {
            "_dom_classes": [],
            "_model_module": "@jupyter-widgets/controls",
            "_model_module_version": "1.5.0",
            "_model_name": "HTMLModel",
            "_view_count": null,
            "_view_module": "@jupyter-widgets/controls",
            "_view_module_version": "1.5.0",
            "_view_name": "HTMLView",
            "description": "",
            "description_tooltip": null,
            "layout": "IPY_MODEL_90ea65a86e6c45a4af2a70cc64fe49f8",
            "placeholder": "​",
            "style": "IPY_MODEL_164b747d8e784bf08a8d49f5ad0e1058",
            "value": "100%"
          }
        },
        "1c66a97e6bf145bbac8584cf8c98f2b5": {
          "model_module": "@jupyter-widgets/controls",
          "model_name": "FloatProgressModel",
          "model_module_version": "1.5.0",
          "state": {
            "_dom_classes": [],
            "_model_module": "@jupyter-widgets/controls",
            "_model_module_version": "1.5.0",
            "_model_name": "FloatProgressModel",
            "_view_count": null,
            "_view_module": "@jupyter-widgets/controls",
            "_view_module_version": "1.5.0",
            "_view_name": "ProgressView",
            "bar_style": "success",
            "description": "",
            "description_tooltip": null,
            "layout": "IPY_MODEL_38be81ed0a474298b5e4297dc839dccc",
            "max": 1,
            "min": 0,
            "orientation": "horizontal",
            "style": "IPY_MODEL_1b96f35daede4dea871be5b1d4a85a6e",
            "value": 1
          }
        },
        "1cb7d91a4afe4b36b32c64b2c8c450bb": {
          "model_module": "@jupyter-widgets/controls",
          "model_name": "HTMLModel",
          "model_module_version": "1.5.0",
          "state": {
            "_dom_classes": [],
            "_model_module": "@jupyter-widgets/controls",
            "_model_module_version": "1.5.0",
            "_model_name": "HTMLModel",
            "_view_count": null,
            "_view_module": "@jupyter-widgets/controls",
            "_view_module_version": "1.5.0",
            "_view_name": "HTMLView",
            "description": "",
            "description_tooltip": null,
            "layout": "IPY_MODEL_117e8b01d37740caa5c0f41221a66cc5",
            "placeholder": "​",
            "style": "IPY_MODEL_5d860f52eacc446c99bc95e829bec375",
            "value": " 1/1 [23:46&lt;00:00, 1426.19s/it]"
          }
        },
        "6f0be990ac854455af9a1c8af764cf5e": {
          "model_module": "@jupyter-widgets/base",
          "model_name": "LayoutModel",
          "model_module_version": "1.2.0",
          "state": {
            "_model_module": "@jupyter-widgets/base",
            "_model_module_version": "1.2.0",
            "_model_name": "LayoutModel",
            "_view_count": null,
            "_view_module": "@jupyter-widgets/base",
            "_view_module_version": "1.2.0",
            "_view_name": "LayoutView",
            "align_content": null,
            "align_items": null,
            "align_self": null,
            "border": null,
            "bottom": null,
            "display": null,
            "flex": null,
            "flex_flow": null,
            "grid_area": null,
            "grid_auto_columns": null,
            "grid_auto_flow": null,
            "grid_auto_rows": null,
            "grid_column": null,
            "grid_gap": null,
            "grid_row": null,
            "grid_template_areas": null,
            "grid_template_columns": null,
            "grid_template_rows": null,
            "height": null,
            "justify_content": null,
            "justify_items": null,
            "left": null,
            "margin": null,
            "max_height": null,
            "max_width": null,
            "min_height": null,
            "min_width": null,
            "object_fit": null,
            "object_position": null,
            "order": null,
            "overflow": null,
            "overflow_x": null,
            "overflow_y": null,
            "padding": null,
            "right": null,
            "top": null,
            "visibility": null,
            "width": null
          }
        },
        "90ea65a86e6c45a4af2a70cc64fe49f8": {
          "model_module": "@jupyter-widgets/base",
          "model_name": "LayoutModel",
          "model_module_version": "1.2.0",
          "state": {
            "_model_module": "@jupyter-widgets/base",
            "_model_module_version": "1.2.0",
            "_model_name": "LayoutModel",
            "_view_count": null,
            "_view_module": "@jupyter-widgets/base",
            "_view_module_version": "1.2.0",
            "_view_name": "LayoutView",
            "align_content": null,
            "align_items": null,
            "align_self": null,
            "border": null,
            "bottom": null,
            "display": null,
            "flex": null,
            "flex_flow": null,
            "grid_area": null,
            "grid_auto_columns": null,
            "grid_auto_flow": null,
            "grid_auto_rows": null,
            "grid_column": null,
            "grid_gap": null,
            "grid_row": null,
            "grid_template_areas": null,
            "grid_template_columns": null,
            "grid_template_rows": null,
            "height": null,
            "justify_content": null,
            "justify_items": null,
            "left": null,
            "margin": null,
            "max_height": null,
            "max_width": null,
            "min_height": null,
            "min_width": null,
            "object_fit": null,
            "object_position": null,
            "order": null,
            "overflow": null,
            "overflow_x": null,
            "overflow_y": null,
            "padding": null,
            "right": null,
            "top": null,
            "visibility": null,
            "width": null
          }
        },
        "164b747d8e784bf08a8d49f5ad0e1058": {
          "model_module": "@jupyter-widgets/controls",
          "model_name": "DescriptionStyleModel",
          "model_module_version": "1.5.0",
          "state": {
            "_model_module": "@jupyter-widgets/controls",
            "_model_module_version": "1.5.0",
            "_model_name": "DescriptionStyleModel",
            "_view_count": null,
            "_view_module": "@jupyter-widgets/base",
            "_view_module_version": "1.2.0",
            "_view_name": "StyleView",
            "description_width": ""
          }
        },
        "38be81ed0a474298b5e4297dc839dccc": {
          "model_module": "@jupyter-widgets/base",
          "model_name": "LayoutModel",
          "model_module_version": "1.2.0",
          "state": {
            "_model_module": "@jupyter-widgets/base",
            "_model_module_version": "1.2.0",
            "_model_name": "LayoutModel",
            "_view_count": null,
            "_view_module": "@jupyter-widgets/base",
            "_view_module_version": "1.2.0",
            "_view_name": "LayoutView",
            "align_content": null,
            "align_items": null,
            "align_self": null,
            "border": null,
            "bottom": null,
            "display": null,
            "flex": null,
            "flex_flow": null,
            "grid_area": null,
            "grid_auto_columns": null,
            "grid_auto_flow": null,
            "grid_auto_rows": null,
            "grid_column": null,
            "grid_gap": null,
            "grid_row": null,
            "grid_template_areas": null,
            "grid_template_columns": null,
            "grid_template_rows": null,
            "height": null,
            "justify_content": null,
            "justify_items": null,
            "left": null,
            "margin": null,
            "max_height": null,
            "max_width": null,
            "min_height": null,
            "min_width": null,
            "object_fit": null,
            "object_position": null,
            "order": null,
            "overflow": null,
            "overflow_x": null,
            "overflow_y": null,
            "padding": null,
            "right": null,
            "top": null,
            "visibility": null,
            "width": null
          }
        },
        "1b96f35daede4dea871be5b1d4a85a6e": {
          "model_module": "@jupyter-widgets/controls",
          "model_name": "ProgressStyleModel",
          "model_module_version": "1.5.0",
          "state": {
            "_model_module": "@jupyter-widgets/controls",
            "_model_module_version": "1.5.0",
            "_model_name": "ProgressStyleModel",
            "_view_count": null,
            "_view_module": "@jupyter-widgets/base",
            "_view_module_version": "1.2.0",
            "_view_name": "StyleView",
            "bar_color": null,
            "description_width": ""
          }
        },
        "117e8b01d37740caa5c0f41221a66cc5": {
          "model_module": "@jupyter-widgets/base",
          "model_name": "LayoutModel",
          "model_module_version": "1.2.0",
          "state": {
            "_model_module": "@jupyter-widgets/base",
            "_model_module_version": "1.2.0",
            "_model_name": "LayoutModel",
            "_view_count": null,
            "_view_module": "@jupyter-widgets/base",
            "_view_module_version": "1.2.0",
            "_view_name": "LayoutView",
            "align_content": null,
            "align_items": null,
            "align_self": null,
            "border": null,
            "bottom": null,
            "display": null,
            "flex": null,
            "flex_flow": null,
            "grid_area": null,
            "grid_auto_columns": null,
            "grid_auto_flow": null,
            "grid_auto_rows": null,
            "grid_column": null,
            "grid_gap": null,
            "grid_row": null,
            "grid_template_areas": null,
            "grid_template_columns": null,
            "grid_template_rows": null,
            "height": null,
            "justify_content": null,
            "justify_items": null,
            "left": null,
            "margin": null,
            "max_height": null,
            "max_width": null,
            "min_height": null,
            "min_width": null,
            "object_fit": null,
            "object_position": null,
            "order": null,
            "overflow": null,
            "overflow_x": null,
            "overflow_y": null,
            "padding": null,
            "right": null,
            "top": null,
            "visibility": null,
            "width": null
          }
        },
        "5d860f52eacc446c99bc95e829bec375": {
          "model_module": "@jupyter-widgets/controls",
          "model_name": "DescriptionStyleModel",
          "model_module_version": "1.5.0",
          "state": {
            "_model_module": "@jupyter-widgets/controls",
            "_model_module_version": "1.5.0",
            "_model_name": "DescriptionStyleModel",
            "_view_count": null,
            "_view_module": "@jupyter-widgets/base",
            "_view_module_version": "1.2.0",
            "_view_name": "StyleView",
            "description_width": ""
          }
        },
        "cb71b7c6413a4eca88e55c213e4dcbd8": {
          "model_module": "@jupyter-widgets/controls",
          "model_name": "HBoxModel",
          "model_module_version": "1.5.0",
          "state": {
            "_dom_classes": [],
            "_model_module": "@jupyter-widgets/controls",
            "_model_module_version": "1.5.0",
            "_model_name": "HBoxModel",
            "_view_count": null,
            "_view_module": "@jupyter-widgets/controls",
            "_view_module_version": "1.5.0",
            "_view_name": "HBoxView",
            "box_style": "",
            "children": [
              "IPY_MODEL_3078090f0f19449dbc9beecd5161652c",
              "IPY_MODEL_f4e0adb0570948db87639e7e278bd257",
              "IPY_MODEL_113508445104477ebf92dd3827a1f65e"
            ],
            "layout": "IPY_MODEL_6b30cad000c54e0baeff5fc8968210a3"
          }
        },
        "3078090f0f19449dbc9beecd5161652c": {
          "model_module": "@jupyter-widgets/controls",
          "model_name": "HTMLModel",
          "model_module_version": "1.5.0",
          "state": {
            "_dom_classes": [],
            "_model_module": "@jupyter-widgets/controls",
            "_model_module_version": "1.5.0",
            "_model_name": "HTMLModel",
            "_view_count": null,
            "_view_module": "@jupyter-widgets/controls",
            "_view_module_version": "1.5.0",
            "_view_name": "HTMLView",
            "description": "",
            "description_tooltip": null,
            "layout": "IPY_MODEL_fcfc86ae54c14656854cf7b123b08a03",
            "placeholder": "​",
            "style": "IPY_MODEL_9f7acd57be024823ad6a4d192c7804c9",
            "value": "Runs: 100%"
          }
        },
        "f4e0adb0570948db87639e7e278bd257": {
          "model_module": "@jupyter-widgets/controls",
          "model_name": "FloatProgressModel",
          "model_module_version": "1.5.0",
          "state": {
            "_dom_classes": [],
            "_model_module": "@jupyter-widgets/controls",
            "_model_module_version": "1.5.0",
            "_model_name": "FloatProgressModel",
            "_view_count": null,
            "_view_module": "@jupyter-widgets/controls",
            "_view_module_version": "1.5.0",
            "_view_name": "ProgressView",
            "bar_style": "success",
            "description": "",
            "description_tooltip": null,
            "layout": "IPY_MODEL_0731073fff7447f9a8b8d7aae11aef59",
            "max": 1,
            "min": 0,
            "orientation": "horizontal",
            "style": "IPY_MODEL_422976b3a8e74be9bb923871e494644b",
            "value": 1
          }
        },
        "113508445104477ebf92dd3827a1f65e": {
          "model_module": "@jupyter-widgets/controls",
          "model_name": "HTMLModel",
          "model_module_version": "1.5.0",
          "state": {
            "_dom_classes": [],
            "_model_module": "@jupyter-widgets/controls",
            "_model_module_version": "1.5.0",
            "_model_name": "HTMLModel",
            "_view_count": null,
            "_view_module": "@jupyter-widgets/controls",
            "_view_module_version": "1.5.0",
            "_view_name": "HTMLView",
            "description": "",
            "description_tooltip": null,
            "layout": "IPY_MODEL_5577173328314607b87939bdca525dd1",
            "placeholder": "​",
            "style": "IPY_MODEL_ecd32d7eedb149feac1cf8d646f26099",
            "value": " 1/1 [23:46&lt;00:00, 1426.15s/it]"
          }
        },
        "6b30cad000c54e0baeff5fc8968210a3": {
          "model_module": "@jupyter-widgets/base",
          "model_name": "LayoutModel",
          "model_module_version": "1.2.0",
          "state": {
            "_model_module": "@jupyter-widgets/base",
            "_model_module_version": "1.2.0",
            "_model_name": "LayoutModel",
            "_view_count": null,
            "_view_module": "@jupyter-widgets/base",
            "_view_module_version": "1.2.0",
            "_view_name": "LayoutView",
            "align_content": null,
            "align_items": null,
            "align_self": null,
            "border": null,
            "bottom": null,
            "display": null,
            "flex": null,
            "flex_flow": null,
            "grid_area": null,
            "grid_auto_columns": null,
            "grid_auto_flow": null,
            "grid_auto_rows": null,
            "grid_column": null,
            "grid_gap": null,
            "grid_row": null,
            "grid_template_areas": null,
            "grid_template_columns": null,
            "grid_template_rows": null,
            "height": null,
            "justify_content": null,
            "justify_items": null,
            "left": null,
            "margin": null,
            "max_height": null,
            "max_width": null,
            "min_height": null,
            "min_width": null,
            "object_fit": null,
            "object_position": null,
            "order": null,
            "overflow": null,
            "overflow_x": null,
            "overflow_y": null,
            "padding": null,
            "right": null,
            "top": null,
            "visibility": null,
            "width": null
          }
        },
        "fcfc86ae54c14656854cf7b123b08a03": {
          "model_module": "@jupyter-widgets/base",
          "model_name": "LayoutModel",
          "model_module_version": "1.2.0",
          "state": {
            "_model_module": "@jupyter-widgets/base",
            "_model_module_version": "1.2.0",
            "_model_name": "LayoutModel",
            "_view_count": null,
            "_view_module": "@jupyter-widgets/base",
            "_view_module_version": "1.2.0",
            "_view_name": "LayoutView",
            "align_content": null,
            "align_items": null,
            "align_self": null,
            "border": null,
            "bottom": null,
            "display": null,
            "flex": null,
            "flex_flow": null,
            "grid_area": null,
            "grid_auto_columns": null,
            "grid_auto_flow": null,
            "grid_auto_rows": null,
            "grid_column": null,
            "grid_gap": null,
            "grid_row": null,
            "grid_template_areas": null,
            "grid_template_columns": null,
            "grid_template_rows": null,
            "height": null,
            "justify_content": null,
            "justify_items": null,
            "left": null,
            "margin": null,
            "max_height": null,
            "max_width": null,
            "min_height": null,
            "min_width": null,
            "object_fit": null,
            "object_position": null,
            "order": null,
            "overflow": null,
            "overflow_x": null,
            "overflow_y": null,
            "padding": null,
            "right": null,
            "top": null,
            "visibility": null,
            "width": null
          }
        },
        "9f7acd57be024823ad6a4d192c7804c9": {
          "model_module": "@jupyter-widgets/controls",
          "model_name": "DescriptionStyleModel",
          "model_module_version": "1.5.0",
          "state": {
            "_model_module": "@jupyter-widgets/controls",
            "_model_module_version": "1.5.0",
            "_model_name": "DescriptionStyleModel",
            "_view_count": null,
            "_view_module": "@jupyter-widgets/base",
            "_view_module_version": "1.2.0",
            "_view_name": "StyleView",
            "description_width": ""
          }
        },
        "0731073fff7447f9a8b8d7aae11aef59": {
          "model_module": "@jupyter-widgets/base",
          "model_name": "LayoutModel",
          "model_module_version": "1.2.0",
          "state": {
            "_model_module": "@jupyter-widgets/base",
            "_model_module_version": "1.2.0",
            "_model_name": "LayoutModel",
            "_view_count": null,
            "_view_module": "@jupyter-widgets/base",
            "_view_module_version": "1.2.0",
            "_view_name": "LayoutView",
            "align_content": null,
            "align_items": null,
            "align_self": null,
            "border": null,
            "bottom": null,
            "display": null,
            "flex": null,
            "flex_flow": null,
            "grid_area": null,
            "grid_auto_columns": null,
            "grid_auto_flow": null,
            "grid_auto_rows": null,
            "grid_column": null,
            "grid_gap": null,
            "grid_row": null,
            "grid_template_areas": null,
            "grid_template_columns": null,
            "grid_template_rows": null,
            "height": null,
            "justify_content": null,
            "justify_items": null,
            "left": null,
            "margin": null,
            "max_height": null,
            "max_width": null,
            "min_height": null,
            "min_width": null,
            "object_fit": null,
            "object_position": null,
            "order": null,
            "overflow": null,
            "overflow_x": null,
            "overflow_y": null,
            "padding": null,
            "right": null,
            "top": null,
            "visibility": null,
            "width": null
          }
        },
        "422976b3a8e74be9bb923871e494644b": {
          "model_module": "@jupyter-widgets/controls",
          "model_name": "ProgressStyleModel",
          "model_module_version": "1.5.0",
          "state": {
            "_model_module": "@jupyter-widgets/controls",
            "_model_module_version": "1.5.0",
            "_model_name": "ProgressStyleModel",
            "_view_count": null,
            "_view_module": "@jupyter-widgets/base",
            "_view_module_version": "1.2.0",
            "_view_name": "StyleView",
            "bar_color": null,
            "description_width": ""
          }
        },
        "5577173328314607b87939bdca525dd1": {
          "model_module": "@jupyter-widgets/base",
          "model_name": "LayoutModel",
          "model_module_version": "1.2.0",
          "state": {
            "_model_module": "@jupyter-widgets/base",
            "_model_module_version": "1.2.0",
            "_model_name": "LayoutModel",
            "_view_count": null,
            "_view_module": "@jupyter-widgets/base",
            "_view_module_version": "1.2.0",
            "_view_name": "LayoutView",
            "align_content": null,
            "align_items": null,
            "align_self": null,
            "border": null,
            "bottom": null,
            "display": null,
            "flex": null,
            "flex_flow": null,
            "grid_area": null,
            "grid_auto_columns": null,
            "grid_auto_flow": null,
            "grid_auto_rows": null,
            "grid_column": null,
            "grid_gap": null,
            "grid_row": null,
            "grid_template_areas": null,
            "grid_template_columns": null,
            "grid_template_rows": null,
            "height": null,
            "justify_content": null,
            "justify_items": null,
            "left": null,
            "margin": null,
            "max_height": null,
            "max_width": null,
            "min_height": null,
            "min_width": null,
            "object_fit": null,
            "object_position": null,
            "order": null,
            "overflow": null,
            "overflow_x": null,
            "overflow_y": null,
            "padding": null,
            "right": null,
            "top": null,
            "visibility": null,
            "width": null
          }
        },
        "ecd32d7eedb149feac1cf8d646f26099": {
          "model_module": "@jupyter-widgets/controls",
          "model_name": "DescriptionStyleModel",
          "model_module_version": "1.5.0",
          "state": {
            "_model_module": "@jupyter-widgets/controls",
            "_model_module_version": "1.5.0",
            "_model_name": "DescriptionStyleModel",
            "_view_count": null,
            "_view_module": "@jupyter-widgets/base",
            "_view_module_version": "1.2.0",
            "_view_name": "StyleView",
            "description_width": ""
          }
        },
        "6c3fe0c0e62e4aea8d2393f9a5f87605": {
          "model_module": "@jupyter-widgets/controls",
          "model_name": "HBoxModel",
          "model_module_version": "1.5.0",
          "state": {
            "_dom_classes": [],
            "_model_module": "@jupyter-widgets/controls",
            "_model_module_version": "1.5.0",
            "_model_name": "HBoxModel",
            "_view_count": null,
            "_view_module": "@jupyter-widgets/controls",
            "_view_module_version": "1.5.0",
            "_view_name": "HBoxView",
            "box_style": "",
            "children": [
              "IPY_MODEL_1806fa422cac4707b67bc8bfc5ea5550",
              "IPY_MODEL_88c4043b2612453380e2ddd57e3ab5c8",
              "IPY_MODEL_5f013feb77314ad0b55054d4912c0b8f"
            ],
            "layout": "IPY_MODEL_c17ffe5745b84792a13d2a5d58086a9b"
          }
        },
        "1806fa422cac4707b67bc8bfc5ea5550": {
          "model_module": "@jupyter-widgets/controls",
          "model_name": "HTMLModel",
          "model_module_version": "1.5.0",
          "state": {
            "_dom_classes": [],
            "_model_module": "@jupyter-widgets/controls",
            "_model_module_version": "1.5.0",
            "_model_name": "HTMLModel",
            "_view_count": null,
            "_view_module": "@jupyter-widgets/controls",
            "_view_module_version": "1.5.0",
            "_view_name": "HTMLView",
            "description": "",
            "description_tooltip": null,
            "layout": "IPY_MODEL_a002fc27979f4586aacb6f91c4857c86",
            "placeholder": "​",
            "style": "IPY_MODEL_c4669d3c183d45e9a86dfaa395ae7565",
            "value": "Step: 100%"
          }
        },
        "88c4043b2612453380e2ddd57e3ab5c8": {
          "model_module": "@jupyter-widgets/controls",
          "model_name": "FloatProgressModel",
          "model_module_version": "1.5.0",
          "state": {
            "_dom_classes": [],
            "_model_module": "@jupyter-widgets/controls",
            "_model_module_version": "1.5.0",
            "_model_name": "FloatProgressModel",
            "_view_count": null,
            "_view_module": "@jupyter-widgets/controls",
            "_view_module_version": "1.5.0",
            "_view_name": "ProgressView",
            "bar_style": "success",
            "description": "",
            "description_tooltip": null,
            "layout": "IPY_MODEL_439feabc981f43f0bd4b212f63ea844f",
            "max": 100000,
            "min": 0,
            "orientation": "horizontal",
            "style": "IPY_MODEL_700bc6f8ba24405aa61803237d037092",
            "value": 100000
          }
        },
        "5f013feb77314ad0b55054d4912c0b8f": {
          "model_module": "@jupyter-widgets/controls",
          "model_name": "HTMLModel",
          "model_module_version": "1.5.0",
          "state": {
            "_dom_classes": [],
            "_model_module": "@jupyter-widgets/controls",
            "_model_module_version": "1.5.0",
            "_model_name": "HTMLModel",
            "_view_count": null,
            "_view_module": "@jupyter-widgets/controls",
            "_view_module_version": "1.5.0",
            "_view_name": "HTMLView",
            "description": "",
            "description_tooltip": null,
            "layout": "IPY_MODEL_8dcde8ed41744adca4e09c00ee7c2e96",
            "placeholder": "​",
            "style": "IPY_MODEL_65527276152a4f708389bd7b46fefe2e",
            "value": " 100000/100000 [23:45&lt;00:00, 69.18it/s]"
          }
        },
        "c17ffe5745b84792a13d2a5d58086a9b": {
          "model_module": "@jupyter-widgets/base",
          "model_name": "LayoutModel",
          "model_module_version": "1.2.0",
          "state": {
            "_model_module": "@jupyter-widgets/base",
            "_model_module_version": "1.2.0",
            "_model_name": "LayoutModel",
            "_view_count": null,
            "_view_module": "@jupyter-widgets/base",
            "_view_module_version": "1.2.0",
            "_view_name": "LayoutView",
            "align_content": null,
            "align_items": null,
            "align_self": null,
            "border": null,
            "bottom": null,
            "display": null,
            "flex": null,
            "flex_flow": null,
            "grid_area": null,
            "grid_auto_columns": null,
            "grid_auto_flow": null,
            "grid_auto_rows": null,
            "grid_column": null,
            "grid_gap": null,
            "grid_row": null,
            "grid_template_areas": null,
            "grid_template_columns": null,
            "grid_template_rows": null,
            "height": null,
            "justify_content": null,
            "justify_items": null,
            "left": null,
            "margin": null,
            "max_height": null,
            "max_width": null,
            "min_height": null,
            "min_width": null,
            "object_fit": null,
            "object_position": null,
            "order": null,
            "overflow": null,
            "overflow_x": null,
            "overflow_y": null,
            "padding": null,
            "right": null,
            "top": null,
            "visibility": null,
            "width": null
          }
        },
        "a002fc27979f4586aacb6f91c4857c86": {
          "model_module": "@jupyter-widgets/base",
          "model_name": "LayoutModel",
          "model_module_version": "1.2.0",
          "state": {
            "_model_module": "@jupyter-widgets/base",
            "_model_module_version": "1.2.0",
            "_model_name": "LayoutModel",
            "_view_count": null,
            "_view_module": "@jupyter-widgets/base",
            "_view_module_version": "1.2.0",
            "_view_name": "LayoutView",
            "align_content": null,
            "align_items": null,
            "align_self": null,
            "border": null,
            "bottom": null,
            "display": null,
            "flex": null,
            "flex_flow": null,
            "grid_area": null,
            "grid_auto_columns": null,
            "grid_auto_flow": null,
            "grid_auto_rows": null,
            "grid_column": null,
            "grid_gap": null,
            "grid_row": null,
            "grid_template_areas": null,
            "grid_template_columns": null,
            "grid_template_rows": null,
            "height": null,
            "justify_content": null,
            "justify_items": null,
            "left": null,
            "margin": null,
            "max_height": null,
            "max_width": null,
            "min_height": null,
            "min_width": null,
            "object_fit": null,
            "object_position": null,
            "order": null,
            "overflow": null,
            "overflow_x": null,
            "overflow_y": null,
            "padding": null,
            "right": null,
            "top": null,
            "visibility": null,
            "width": null
          }
        },
        "c4669d3c183d45e9a86dfaa395ae7565": {
          "model_module": "@jupyter-widgets/controls",
          "model_name": "DescriptionStyleModel",
          "model_module_version": "1.5.0",
          "state": {
            "_model_module": "@jupyter-widgets/controls",
            "_model_module_version": "1.5.0",
            "_model_name": "DescriptionStyleModel",
            "_view_count": null,
            "_view_module": "@jupyter-widgets/base",
            "_view_module_version": "1.2.0",
            "_view_name": "StyleView",
            "description_width": ""
          }
        },
        "439feabc981f43f0bd4b212f63ea844f": {
          "model_module": "@jupyter-widgets/base",
          "model_name": "LayoutModel",
          "model_module_version": "1.2.0",
          "state": {
            "_model_module": "@jupyter-widgets/base",
            "_model_module_version": "1.2.0",
            "_model_name": "LayoutModel",
            "_view_count": null,
            "_view_module": "@jupyter-widgets/base",
            "_view_module_version": "1.2.0",
            "_view_name": "LayoutView",
            "align_content": null,
            "align_items": null,
            "align_self": null,
            "border": null,
            "bottom": null,
            "display": null,
            "flex": null,
            "flex_flow": null,
            "grid_area": null,
            "grid_auto_columns": null,
            "grid_auto_flow": null,
            "grid_auto_rows": null,
            "grid_column": null,
            "grid_gap": null,
            "grid_row": null,
            "grid_template_areas": null,
            "grid_template_columns": null,
            "grid_template_rows": null,
            "height": null,
            "justify_content": null,
            "justify_items": null,
            "left": null,
            "margin": null,
            "max_height": null,
            "max_width": null,
            "min_height": null,
            "min_width": null,
            "object_fit": null,
            "object_position": null,
            "order": null,
            "overflow": null,
            "overflow_x": null,
            "overflow_y": null,
            "padding": null,
            "right": null,
            "top": null,
            "visibility": null,
            "width": null
          }
        },
        "700bc6f8ba24405aa61803237d037092": {
          "model_module": "@jupyter-widgets/controls",
          "model_name": "ProgressStyleModel",
          "model_module_version": "1.5.0",
          "state": {
            "_model_module": "@jupyter-widgets/controls",
            "_model_module_version": "1.5.0",
            "_model_name": "ProgressStyleModel",
            "_view_count": null,
            "_view_module": "@jupyter-widgets/base",
            "_view_module_version": "1.2.0",
            "_view_name": "StyleView",
            "bar_color": null,
            "description_width": ""
          }
        },
        "8dcde8ed41744adca4e09c00ee7c2e96": {
          "model_module": "@jupyter-widgets/base",
          "model_name": "LayoutModel",
          "model_module_version": "1.2.0",
          "state": {
            "_model_module": "@jupyter-widgets/base",
            "_model_module_version": "1.2.0",
            "_model_name": "LayoutModel",
            "_view_count": null,
            "_view_module": "@jupyter-widgets/base",
            "_view_module_version": "1.2.0",
            "_view_name": "LayoutView",
            "align_content": null,
            "align_items": null,
            "align_self": null,
            "border": null,
            "bottom": null,
            "display": null,
            "flex": null,
            "flex_flow": null,
            "grid_area": null,
            "grid_auto_columns": null,
            "grid_auto_flow": null,
            "grid_auto_rows": null,
            "grid_column": null,
            "grid_gap": null,
            "grid_row": null,
            "grid_template_areas": null,
            "grid_template_columns": null,
            "grid_template_rows": null,
            "height": null,
            "justify_content": null,
            "justify_items": null,
            "left": null,
            "margin": null,
            "max_height": null,
            "max_width": null,
            "min_height": null,
            "min_width": null,
            "object_fit": null,
            "object_position": null,
            "order": null,
            "overflow": null,
            "overflow_x": null,
            "overflow_y": null,
            "padding": null,
            "right": null,
            "top": null,
            "visibility": null,
            "width": null
          }
        },
        "65527276152a4f708389bd7b46fefe2e": {
          "model_module": "@jupyter-widgets/controls",
          "model_name": "DescriptionStyleModel",
          "model_module_version": "1.5.0",
          "state": {
            "_model_module": "@jupyter-widgets/controls",
            "_model_module_version": "1.5.0",
            "_model_name": "DescriptionStyleModel",
            "_view_count": null,
            "_view_module": "@jupyter-widgets/base",
            "_view_module_version": "1.2.0",
            "_view_name": "StyleView",
            "description_width": ""
          }
        }
      }
    },
    "accelerator": "GPU"
  },
  "cells": [
    {
      "cell_type": "markdown",
      "metadata": {
        "id": "view-in-github",
        "colab_type": "text"
      },
      "source": [
        "<a href=\"https://colab.research.google.com/github/jingxuanf0214/MIT6.484/blob/main/Copy_of_dqn.ipynb\" target=\"_parent\"><img src=\"https://colab.research.google.com/assets/colab-badge.svg\" alt=\"Open In Colab\"/></a>"
      ]
    },
    {
      "cell_type": "markdown",
      "metadata": {
        "id": "w5R7gbE9Emuy"
      },
      "source": [
        "# Spring 2022 6.484 Computational Sensorimotor Learning Assignment 8\n",
        "\n",
        "In this assignment, we will implement Deep Q Network algorithm.\n",
        "\n",
        "You will need to <font color='blue'>answer the bolded questions</font> and <font color='blue'>fill in the missing code snippets (marked by **TODO**)</font>.\n",
        "\n",
        "There are (approximately) 140 total points to be had in this PSET.  `ctrl-f` for \"pts\" to ensure you don't miss questions.\n",
        "\n",
        "**_Please fill in your name below:_**\n",
        "\n",
        "**Name**: Jingxuan Fan\n",
        "\n",
        "For this assignment, you might find GPU machines to be helpful. You can enable GPUs by:\n",
        "\n",
        "- Navigate to Edit→Notebook Settings\n",
        "- Select GPU from the Hardware Accelerator drop-down\n",
        "\n",
        "<font color='red'> Make sure you set `show_progress=False` in `dqn_sweep` when you are ready to submit the homework to remove unneccessary outputs."
      ]
    },
    {
      "cell_type": "markdown",
      "metadata": {
        "id": "Z8NC_sZo0hsw"
      },
      "source": [
        "# Setup"
      ]
    },
    {
      "cell_type": "code",
      "metadata": {
        "id": "dqJSim8fwhmL"
      },
      "source": [
        "!pip install gym-minigrid > /dev/null 2>&1"
      ],
      "execution_count": null,
      "outputs": []
    },
    {
      "cell_type": "code",
      "metadata": {
        "id": "cdvIlE6-cYvu"
      },
      "source": [
        "%matplotlib inline\n",
        "import numpy as np\n",
        "import random\n",
        "import gym\n",
        "import torch\n",
        "import seaborn as sns\n",
        "import gym_minigrid\n",
        "from tqdm.notebook import tqdm\n",
        "from dataclasses import dataclass\n",
        "\n",
        "from torch import nn\n",
        "import pandas as pd\n",
        "from torch import optim\n",
        "from typing import Any\n",
        "from copy import deepcopy\n",
        "from gym.wrappers import Monitor\n",
        "from collections import deque\n",
        "from gym_minigrid.wrappers import ImgObsWrapper\n",
        "from gym_minigrid.envs.doorkey import DoorKeyEnv"
      ],
      "execution_count": null,
      "outputs": []
    },
    {
      "cell_type": "code",
      "metadata": {
        "id": "WAzQA6W6ck4C"
      },
      "source": [
        "def set_random_seed(seed):\n",
        "    np.random.seed(seed)\n",
        "    random.seed(seed)\n",
        "    torch.manual_seed(seed)\n",
        "\n",
        "# set random seed\n",
        "seed = 0\n",
        "set_random_seed(seed=seed)\n",
        "\n"
      ],
      "execution_count": null,
      "outputs": []
    },
    {
      "cell_type": "code",
      "metadata": {
        "id": "U1uI2PDywHM6"
      },
      "source": [
        "\"\"\"\n",
        "Utility functions to enable video recording of gym environment and displaying it\n",
        "To enable video, just do \"env = wrap_env(env)\"\"\n",
        "stolen from https://colab.research.google.com/drive/1flu31ulJlgiRL1dnN2ir8wGh9p7Zij2t#scrollTo=8nj5sjsk15IT\n",
        "\"\"\"\n",
        "\n",
        "def show_video():\n",
        "  mp4list = glob.glob('video/*.mp4')\n",
        "  if len(mp4list) > 0:\n",
        "    mp4 = mp4list[0]\n",
        "    video = io.open(mp4, 'r+b').read()\n",
        "    encoded = base64.b64encode(video)\n",
        "    ipythondisplay.display(HTML(data='''<video alt=\"test\" autoplay \n",
        "                loop controls style=\"height: 400px;\">\n",
        "                <source src=\"data:video/mp4;base64,{0}\" type=\"video/mp4\" />\n",
        "             </video>'''.format(encoded.decode('ascii'))))\n",
        "  else: \n",
        "    print(\"Could not find video\")\n",
        "    \n",
        "\n",
        "def wrap_env_monitor(env):\n",
        "  env = Monitor(env, './video', force=True)\n",
        "  return env\n",
        "\n",
        "def plot(logs, x_key, y_key, legend_key, **kwargs):\n",
        "    nums = len(logs[legend_key].unique())\n",
        "    palette = sns.color_palette(\"hls\", nums)\n",
        "    if 'palette' not in kwargs:\n",
        "        kwargs['palette'] = palette\n",
        "    sns.lineplot(x=x_key, y=y_key, data=logs, hue=legend_key, **kwargs)\n",
        "\n",
        "\n",
        "class DoorKeyEnv5x5(DoorKeyEnv):\n",
        "    def __init__(self):\n",
        "        super().__init__(size=5)\n",
        "    \n",
        "    def _reward(self):\n",
        "        \"\"\"\n",
        "        Compute the reward to be given upon success\n",
        "        \"\"\"\n",
        "        return 1"
      ],
      "execution_count": null,
      "outputs": []
    },
    {
      "cell_type": "markdown",
      "metadata": {
        "id": "44DsxgFf0n8x"
      },
      "source": [
        "# Task (Environment)\n",
        "\n",
        "In this assignment, we will work with the `DoorKeyEnv5x5` environment from [gym_miniworld](https://github.com/maximecb/gym-minigrid). This environment is a $5\\times 5$ gridworld that we previously used in the policy gradients assignment. The agent needs to pick up the key, open the door, and then go the the green cell. The agent gets a $+1$ reward if it reaches the green cell, and a $0$ reward otherwise.\n",
        "\n",
        "The environment is visually shown below:\n",
        "\n",
        "![image.png](data:image/png;base64,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)\n"
      ]
    },
    {
      "cell_type": "code",
      "metadata": {
        "id": "zVlbJsQ13KwM"
      },
      "source": [
        "env = DoorKeyEnv5x5()"
      ],
      "execution_count": null,
      "outputs": []
    },
    {
      "cell_type": "code",
      "source": [
        "env.action_space"
      ],
      "metadata": {
        "id": "9ZUujTLPtI4B"
      },
      "execution_count": null,
      "outputs": []
    },
    {
      "cell_type": "markdown",
      "metadata": {
        "id": "1xY4P9aE35Ge"
      },
      "source": [
        "As a refresher, `env.reset()` returns an observation variable, which is a dictionary that contains the current view of the environment (as an image)., agent's facing direction (0: right, 1: down, 2: left, 3: up), and a mission description as a string. The current view of the environment has a similar format as a normal 3-channel image (shape: $7\\times7\\times3$), but it is not an actual image. The values are not pixels. Each value represents a state of the object on that location. Checkout [the source code](https://github.com/maximecb/gym-minigrid/blob/master/gym_minigrid/minigrid.py) for more details. The action space is $7$-dimensional: 0: turn left, 1: turn right, 2: forward, 3: pickup an object, 4: drop an object, 5: activate an object, 6: done completing task."
      ]
    },
    {
      "cell_type": "markdown",
      "metadata": {
        "id": "e2UqI0tiFXik"
      },
      "source": [
        "# Deep Q Network\n",
        "In the last assignment, we used tabular Q learning for learning to solve FrozenLake. The tabular approach requires a table to store the $Q$ values for all the possible states and actions pairs. This is only feasible when the state space is discrete and low-dimensional. However, in many more practical domains, the state space is high-dimensional, such as images. For example, in video game environments, each frame can be a state. Even a small change in the pixel value (the agent moves by a little bit) will result in a new state. In such scenarios, it becomes impractical to create a $Q$ table for such a big state space as it would require a huge amount of RAM. To overcome this issue, we will make use of function approximators (e.g., neural networks) to approximate the $Q$ table. This leads to the development of an algorithm called _Deep $Q$ Network (DQN)_. Let's implement this. Feel free to refer to the original [DQN](https://web.stanford.edu/class/psych209/Readings/MnihEtAlHassibis15NatureControlDeepRL.pdf) paper."
      ]
    },
    {
      "cell_type": "markdown",
      "metadata": {
        "id": "VXNkyaKT7niv"
      },
      "source": [
        "## Define the Network architecture"
      ]
    },
    {
      "cell_type": "code",
      "metadata": {
        "id": "H-CX5FsiEUYe"
      },
      "source": [
        "class DQNetwork(nn.Module):\n",
        "    def __init__(self, action_dim):\n",
        "        super().__init__()\n",
        "        #### A simple convoluntional network that takes\n",
        "        #### as input the observation (image), and outputs the \n",
        "        #### Q values for each possible action.\n",
        "        self.conv_net = nn.Sequential(\n",
        "            nn.Conv2d(3, 16, (3, 3)),\n",
        "            nn.ReLU(),\n",
        "            nn.Conv2d(16, 32, (3, 3)),\n",
        "            nn.ReLU(),\n",
        "            nn.Conv2d(32, 64, (3, 3)),\n",
        "            nn.ReLU()\n",
        "        )\n",
        "        self.fcs = nn.Sequential(\n",
        "            nn.Linear(64, 64),\n",
        "            nn.ReLU(),\n",
        "            nn.Linear(64, action_dim)\n",
        "        )\n",
        "\n",
        "    def forward(self, ob):\n",
        "        #### TODO: get the Q values for each action given the input\n",
        "        #### the input shape is: [batch_size, H, W, 3]\n",
        "        #### output shape should be: [batch_size, # of actions]\n",
        "        conv_in = ob.transpose(1, 3).transpose(2, 3)\n",
        "        #print(conv_in.size())\n",
        "        intermed = self.conv_net(conv_in)\n",
        "        #print(intermed.size())\n",
        "        intermed = torch.flatten(intermed, 1)\n",
        "        out = self.fcs(intermed)\n",
        "        #assert False\n",
        "        return out"
      ],
      "execution_count": null,
      "outputs": []
    },
    {
      "cell_type": "markdown",
      "metadata": {
        "id": "Cl3aWF7T6df_"
      },
      "source": [
        "**Q1.1 (5 pts)**: What does each argument in `nn.Conv2d(3, 16, (3, 3))` mean?\n",
        "\n",
        "**A**: 3 means number of channels in the input image: 3 channels usually indicate RGB. 16 means number of channels produced by the convolution. (3, 3) means a square kernel with 3 pixels on each side of the image.\n",
        "\n",
        "**Q1.2 (10 pts)**: Fill in the missing code for `DQNetwork`."
      ]
    },
    {
      "cell_type": "markdown",
      "metadata": {
        "id": "5a__tgvy7sTn"
      },
      "source": [
        "## Build a replay buffer\n",
        "\n",
        "**Q2.1 (20 pts)**: Fill in the missing code for `CyclicBuffer`."
      ]
    },
    {
      "cell_type": "code",
      "metadata": {
        "id": "CEjSZI4tFNv_"
      },
      "source": [
        "# create a replay buffer\n",
        "class CyclicBuffer:\n",
        "    def __init__(self, capacity):\n",
        "        self.buffer = []\n",
        "        self.capacity = capacity\n",
        "        self.cur_pos = 0\n",
        "\n",
        "    def __len__(self):\n",
        "        return len(self.buffer)\n",
        "\n",
        "    def __getitem__(self, item):\n",
        "        return self.buffer[item]\n",
        "\n",
        "    def append(self, data):\n",
        "        #### TODO: add data to the buffer\n",
        "        #### if the buffer is not full yet, you can simply append the data to the buffer\n",
        "        #### otherwise, you need to replace the oldest data with the current data (FIFO)\n",
        "        #### Hint: you may find self.cur_pos useful, it can be used as a position index\n",
        "        #assert False\n",
        "        #print(len(self.buffer))\n",
        "        self.cur_pos += 1\n",
        "        if self.cur_pos>self.capacity:\n",
        "          self.cur_pos = self.cur_pos - self.capacity\n",
        "        if len(self.buffer)<self.capacity:\n",
        "          self.buffer.append(data)\n",
        "          #self.cur_pos += 1\n",
        "        else:\n",
        "          #self.cur_pos = self.cur_pos - self.capacity + 1\n",
        "          self.buffer[self.cur_pos-1] = data\n",
        "\n",
        "\n",
        "    def sample(self, batch_size):\n",
        "        #### TODO: sample a batch from the buffer\n",
        "        #assert False\n",
        "        return random.sample(self.buffer, batch_size)\n",
        "\n",
        "    def get_all(self):\n",
        "        return deepcopy(self.buffer)\n",
        "\n",
        "    def clear(self):\n",
        "        self.buffer.clear()"
      ],
      "execution_count": null,
      "outputs": []
    },
    {
      "cell_type": "markdown",
      "metadata": {
        "id": "VYgaycSQ7xKU"
      },
      "source": [
        "## Create a DQN agent\n",
        "\n",
        "Note: In the original DQN paper, the authors proposed to use a hard update on the target $Q$ network every $K$ steps. Later on, people find that using polyak averaging to soft update the target $Q$ network leads to more stable training. We will implement both these ideas in `DQNAgent`.  \n",
        "\n",
        "In the experiments in the following sections, we will use the soft update scheme to update our target $Q$ network. The soft update has the following formula:\n",
        "$$\\theta_{Q_{tgt}} = \\tau\\theta_{Q_{tgt}}+(1-\\tau)\\theta_Q $$\n",
        "\n",
        "where $\\tau$ is typically set to be very close to $1$."
      ]
    },
    {
      "cell_type": "code",
      "metadata": {
        "id": "YXSuFJWR8EZv"
      },
      "source": [
        "@dataclass\n",
        "class DQNAgent:\n",
        "    env: gym.Env\n",
        "    learning_rate: float\n",
        "    gamma: float\n",
        "    memory_size: int\n",
        "    initial_epsilon: float\n",
        "    min_epsilon: float\n",
        "    max_epsilon_decay_steps: int\n",
        "    warmup_steps: int\n",
        "    batch_size: int\n",
        "    target_update_freq: int\n",
        "    enable_double_q: bool = False\n",
        "    disable_target_net: bool = False\n",
        "    device: str = None\n",
        "    tau: float = 0.995\n",
        "\n",
        "    def __post_init__(self):\n",
        "        self.reset()\n",
        "\n",
        "    def reset(self):\n",
        "        if self.device is None:\n",
        "            self.device = 'cuda' if torch.cuda.is_available() else 'cpu'\n",
        "\n",
        "        # self.qnet.to(self.device)\n",
        "        # self.target_qnet.to(self.device)\n",
        "        #### TODO: create a Deep Q network instance, \n",
        "        #### a replay buffer with capacity=self.memory_size\n",
        "        #### an Adam optimizer with lr=self.learning_rate.\n",
        "        #### make sure the networks are on the correct device.\n",
        "        #### Note that we are using a Huber loss as the loss function (already defined for you)\n",
        "        self.qnet = DQNetwork(env.action_space.n).to(self.device)\n",
        "        self.target_qnet = DQNetwork(env.action_space.n).to(self.device)\n",
        "        self.memory = CyclicBuffer(self.memory_size)\n",
        "        self.optim = torch.optim.Adam(self.qnet.parameters(), lr=self.learning_rate)\n",
        "        ####\n",
        "        self.loss_criterion = nn.HuberLoss()\n",
        "        self.epsilon = self.initial_epsilon\n",
        "        self.ep_reduction = (self.epsilon - self.min_epsilon) / float(self.max_epsilon_decay_steps)\n",
        "        if self.disable_target_net:\n",
        "            #### TODO: set self.target_update_freq such that the \n",
        "            #### target Q network will always be same as the Q network\n",
        "            #### You don't need to fill in this value until Q4.3\n",
        "            self.target_update_freq = 1\n",
        "        \n",
        "    \n",
        "    @torch.no_grad()\n",
        "    def get_action(self, ob, greedy_only=False):\n",
        "        ob = torch.from_numpy(np.expand_dims(ob, axis=0)).float().to(self.device)\n",
        "        #print(ob.size())\n",
        "        q_val = self.qnet(ob)\n",
        "        #print(q_val)\n",
        "        action = self.epsilon_greedy_policy(q_val, greedy_only=greedy_only)\n",
        "        return action\n",
        "\n",
        "    def epsilon_greedy_policy(self, q_values, greedy_only=False):\n",
        "        #### TODO: epsilon greedy exploration\n",
        "        #### we have an extra flag `greedy_only` here, \n",
        "        #### if greedy_only is True, then we need to return the action that \n",
        "        #### has the maximum Q values.\n",
        "        #### if greedy_only is False, we do epsilon greedy.\n",
        "        #assert False\n",
        "        if greedy_only:\n",
        "          action = torch.max(q_values, dim=1)[1]\n",
        "        else:\n",
        "          if np.random.uniform(0,1) < self.epsilon:\n",
        "            action = env.action_space.sample()\n",
        "          else:\n",
        "            action = torch.max(q_values, dim=1)[1]\n",
        "        #print(action)\n",
        "        return action\n",
        "\n",
        "    def add_to_memory(self, ob, next_ob, action, reward, done):\n",
        "        #### TODO: add data to the replay buffer\n",
        "        #assert False\n",
        "        data = (ob, action, reward, next_ob, done)\n",
        "        self.memory.append(data)\n",
        "    \n",
        "    def update_Q(self):\n",
        "        # we only start updating the Q network if there are enough samples in the replay buffer\n",
        "        if len(self.memory) < self.warmup_steps:\n",
        "            return 0\n",
        "\n",
        "        #### TODO: sample a batch of data from the replay buffer, and put\n",
        "        #### them on the correct device. you need to make sure the variables\n",
        "        #### are in the right tensor shape. (e.g., some scalars might need to be\n",
        "        #### of shape (batch size, 1) instead of (batch size))\n",
        "        #print(self.memory)\n",
        "        sample_batch = self.memory.sample(self.batch_size)\n",
        "        states = torch.tensor([exp[0] for exp in sample_batch]).float().to(self.device)\n",
        "        actions = torch.tensor([exp[1] for exp in sample_batch]).long().to(self.device)\n",
        "        rewards = torch.tensor([exp[2] for exp in sample_batch]).float().to(self.device)\n",
        "        next_states = torch.tensor([exp[3] for exp in sample_batch if exp[3] is not None]).float().to(self.device)\n",
        "        done = torch.tensor([exp[4] for exp in sample_batch]).bool().to(agent.device)\n",
        "        #### TODO: update Q function with Bellman backup\n",
        "        ##### get Q(s_t, a_t)\n",
        "        #print(not_done)\n",
        "        q_val = self.qnet(states).gather(1, actions.unsqueeze(1))\n",
        "        ##### TODO: get maxQ(s_{t+1}, a_{t+1})\n",
        "        ##### you will need to implement both DQN and double DQN here\n",
        "        ##### i.e., you need to check `if self.enable_double_q` in 4.4\n",
        "        #####\n",
        "        if self.enable_double_q:\n",
        "          #assert False\n",
        "          actions_q = self.qnet(next_states).detach().max(1)[1].unsqueeze(1).long()\n",
        "          next_state_val = self.target_qnet(next_states).gather(1,actions_q)\n",
        "        else:\n",
        "          next_state_val = torch.zeros(self.batch_size, device=self.device)\n",
        "          next_state_val = agent.target_qnet(next_states).max(1)[0].detach()\n",
        "        ##### TODO: get the target Q value from the bellman equation\n",
        "        expected_q_val = (next_state_val * (~done) * agent.gamma) + rewards\n",
        "        ##### TODO: update the Q network (i.e,. calculate the loss, take a gradient step)\n",
        "        loss = self.loss_criterion(q_val, expected_q_val.unsqueeze(1))\n",
        "        self.optim.zero_grad()\n",
        "        loss.backward()\n",
        "        for param in self.qnet.parameters():\n",
        "            param.grad.data.clamp_(-1, 1)\n",
        "        self.optim.step()\n",
        "        ######\n",
        "        #print(loss.item())\n",
        "        return loss.item()\n",
        "    \n",
        "    def decay_epsilon(self):\n",
        "        #### TODO: linearly decay epsilon\n",
        "        #### reduce epsilon value by ep_reduction every time the function is called,\n",
        "        #### make sure epsilon is not smaller than self.min_epsilon\n",
        "        #assert False\n",
        "        self.epsilon = max(self.epsilon-self.ep_reduction, self.min_epsilon)\n",
        "    \n",
        "    def update_target_qnet(self, step, soft=True):\n",
        "        if not soft:\n",
        "            if step % self.target_update_freq == 0:\n",
        "                #### TODO: update the target Q function in a \"hard\" way\n",
        "                #### copy the parameter values in self.qnet into self.target_qnet\n",
        "                #assert False\n",
        "                self.target_qnet.load_state_dict(self.qnet.state_dict())\n",
        "        else:\n",
        "            #### TODO: soft update on taget Q network.\n",
        "            #### similar to polyak averaging, we update the target Q network slowly\n",
        "            #### $\\theta_Qtgt = \\tau*\\theta_Qtgt + (1-\\tau)*\\theta_Q\n",
        "            #assert False\n",
        "            target_q_dict = self.target_qnet.state_dict()\n",
        "            q_dict = self.qnet.state_dict()\n",
        "            update_dict = {}\n",
        "            for param_tensor in target_q_dict:\n",
        "              update_dict[param_tensor] = self.tau*target_q_dict[param_tensor]+(1-self.tau)*q_dict[param_tensor]\n",
        "            self.target_qnet.load_state_dict(update_dict)\n",
        "\n"
      ],
      "execution_count": null,
      "outputs": []
    },
    {
      "cell_type": "code",
      "source": [
        "config['enable_double_q'] = True\n",
        "agent = DQNAgent(**config)\n",
        "doubleq_logs = dqn_sweep([agent], ['double_dqn'], max_steps=1000, show_progress=True)\n"
      ],
      "metadata": {
        "colab": {
          "base_uri": "https://localhost:8080/",
          "height": 237,
          "referenced_widgets": [
            "46a57b91bb864e1cbd2535b9a95894cb",
            "1b137d9ef2c246cab3197f52f676871a",
            "f442a183a40e46dda985056b6cc72d1b",
            "a4e4884167114465947857619f50b5c6",
            "5c96b0ab60384c52b238f064838ba2d6",
            "dc6c694c65b24a2895bf18b943792c53",
            "351a59e18594403489752cadaf0cbb7d",
            "a2ca86540abe477691554493724a9308",
            "56ab4c04d7b148e3a37cb7ace555339d",
            "259fd40224514adda5b240beb3301c54",
            "af7fb310bd5f4f7fb820defdd763fc19",
            "8c4bd089c8174ce3ae822f859695a1de",
            "60f40dd76d814d3fadcda5e541597294",
            "f988c59acfbf4a48ae9917db5d71a32e",
            "5e418615bfbd4c09adffcd6d920dfb6e",
            "61cb6f9ce4e04e9e97698a1bead7445e",
            "9d1de7ecc6b04f02b5679df881b3c7e6",
            "388832ab502446da9c171b6aca7a4fe4",
            "6f5e228fd2af4ccca80e46aab677963f",
            "f6068dca93944f91942e7cd814d770a2",
            "d423ec7e9bd549d4aa262871ba4b24cf",
            "38f7e9e0ce954954b44386ea71726b1b",
            "482e8a4e72e6489a9d9c45a047629a78",
            "c9d96056214f47f492b9ae8702888ec3",
            "f0ff8139261c48d2af85894cf73b4c6f",
            "13cbdb9dc38f494dac5932f89aa58c9e",
            "d73f2866e4fc4b498901988b3195b1d4",
            "046843799e564a66bf1a03a14ae93229",
            "a87d450c29dc4aa5ae53bf6949927376",
            "3c4bad71f31048d5a487926564527c16",
            "20b03cda568541e587efe574038024bb",
            "1cce0599c0c04355905f2c4cf3099cf4",
            "6e954366708d405ebc8605e0317bdddc"
          ]
        },
        "id": "sUH_t19K6nO7",
        "outputId": "919178df-3ee7-4b4c-d6e6-acf53f9bc9d4"
      },
      "execution_count": null,
      "outputs": [
        {
          "output_type": "display_data",
          "data": {
            "text/plain": [
              "  0%|          | 0/1 [00:00<?, ?it/s]"
            ],
            "application/vnd.jupyter.widget-view+json": {
              "version_major": 2,
              "version_minor": 0,
              "model_id": "46a57b91bb864e1cbd2535b9a95894cb"
            }
          },
          "metadata": {}
        },
        {
          "output_type": "display_data",
          "data": {
            "text/plain": [
              "Runs:   0%|          | 0/1 [00:00<?, ?it/s]"
            ],
            "application/vnd.jupyter.widget-view+json": {
              "version_major": 2,
              "version_minor": 0,
              "model_id": "8c4bd089c8174ce3ae822f859695a1de"
            }
          },
          "metadata": {}
        },
        {
          "output_type": "display_data",
          "data": {
            "text/plain": [
              "Step:   0%|          | 0/1000 [00:00<?, ?it/s]"
            ],
            "application/vnd.jupyter.widget-view+json": {
              "version_major": 2,
              "version_minor": 0,
              "model_id": "482e8a4e72e6489a9d9c45a047629a78"
            }
          },
          "metadata": {}
        },
        {
          "output_type": "stream",
          "name": "stdout",
          "text": [
            "Step:249  epsilon:0.9985060000000123  Smoothed Training Return:0.0\n"
          ]
        },
        {
          "output_type": "stream",
          "name": "stderr",
          "text": [
            "/usr/local/lib/python3.7/dist-packages/torch/nn/modules/loss.py:972: UserWarning: Using a target size (torch.Size([32, 1, 32])) that is different to the input size (torch.Size([32, 1])). This will likely lead to incorrect results due to broadcasting. Please ensure they have the same size.\n",
            "  return F.huber_loss(input, target, reduction=self.reduction, delta=self.delta)\n"
          ]
        },
        {
          "output_type": "stream",
          "name": "stdout",
          "text": [
            "Step:499  epsilon:0.9970060000000247  Smoothed Training Return:0.0\n",
            "Step:649  epsilon:0.9961060000000321  Smoothed Training Return:0.3333333333333333\n",
            "Step:899  epsilon:0.9946060000000445  Smoothed Training Return:0.25\n"
          ]
        }
      ]
    },
    {
      "cell_type": "code",
      "source": [
        "sample_batch = agent.memory.sample(agent.batch_size)\n",
        "states = torch.tensor([exp[0] for exp in sample_batch]).float().to(agent.device)\n",
        "actions = torch.tensor([exp[1] for exp in sample_batch]).long().to(agent.device)\n",
        "rewards = torch.tensor([exp[2] for exp in sample_batch]).float().to(agent.device)\n",
        "next_states = torch.tensor([exp[3] for exp in sample_batch if exp[3] is not None]).float().to(agent.device)\n",
        "done = torch.tensor([exp[4] for exp in sample_batch]).bool().to(agent.device)\n",
        "#### TODO: update Q function with Bellman backup\n",
        "##### get Q(s_t, a_t)\n",
        "#print(not_done)\n",
        "q_val = agent.qnet(states).gather(1, actions.unsqueeze(1))\n",
        "##### TODO: get maxQ(s_{t+1}, a_{t+1})\n",
        "##### you will need to implement both DQN and double DQN here\n",
        "##### i.e., you need to check `if self.enable_double_q` in 4.4\n",
        "#####\n",
        "if agent.enable_double_q:\n",
        "  actions_q = agent.qnet(next_states).detach().max(1)[1].unsqueeze(1).long()\n",
        "  next_state_val = agent.target_qnet(next_states).gather(1,actions_q)\n",
        "else:\n",
        "  next_state_val = torch.zeros(agent.batch_size, device=agent.device)\n",
        "  next_state_val = agent.target_qnet(next_states).max(1)[0].detach()\n",
        "##### TODO: get the target Q value from the bellman equation\n",
        "expected_q_val = (next_state_val * (~done) * agent.gamma) + rewards\n",
        "##### TODO: update the Q network (i.e,. calculate the loss, take a gradient step)\n",
        "loss = agent.loss_criterion(q_val, expected_q_val.unsqueeze(1))\n",
        "agent.optim.zero_grad()\n",
        "loss.backward()\n",
        "for param in agent.qnet.parameters():\n",
        "    param.grad.data.clamp_(-1, 1)\n",
        "agent.optim.step()"
      ],
      "metadata": {
        "colab": {
          "base_uri": "https://localhost:8080/"
        },
        "id": "xRWvBkdiBdES",
        "outputId": "626c1945-d335-40e4-e28d-0ce1bef1691c"
      },
      "execution_count": null,
      "outputs": [
        {
          "output_type": "stream",
          "name": "stderr",
          "text": [
            "/usr/local/lib/python3.7/dist-packages/torch/nn/modules/loss.py:972: UserWarning: Using a target size (torch.Size([32, 1, 32])) that is different to the input size (torch.Size([32, 1])). This will likely lead to incorrect results due to broadcasting. Please ensure they have the same size.\n",
            "  return F.huber_loss(input, target, reduction=self.reduction, delta=self.delta)\n"
          ]
        }
      ]
    },
    {
      "cell_type": "markdown",
      "metadata": {
        "id": "BfM0YnBNCOIw"
      },
      "source": [
        "**Q3.1 (40 pts)**: Fill in the missing code in `DQNAgent` (you don't need to write the code for double DQN yet).\n",
        "\n",
        "**Q3.2 (5 pts)**: What is Huber loss? And what's the advantage of using Huber loss compared to MSE loss in updating the $Q$ function?\n",
        "\n",
        "**A**: Huber loss is a loss function that's defined to be piecewise: if the error is within the range of a small value delta, the loss is quadratic but for larger error the loss is linear. The advantage of Huber loss is that the training is not as affected by outliers as the MSE loss. For the case of updating Q function, HUber loss makes the training more stable and robust to outliers."
      ]
    },
    {
      "cell_type": "markdown",
      "metadata": {
        "id": "9ZY-P0KF72iT"
      },
      "source": [
        "## Utils for running experiment"
      ]
    },
    {
      "cell_type": "code",
      "metadata": {
        "id": "UAh55V7VQPlM"
      },
      "source": [
        "# you don't need to modify the following code.\n",
        "@dataclass\n",
        "class DQNEngine:\n",
        "    env: gym.Env\n",
        "    agent: Any\n",
        "    max_steps: int\n",
        "    show_progress: bool = False\n",
        "    show_video: bool = False\n",
        "\n",
        "    def test(self, env=None, render=False):\n",
        "        env = self.env if env is None else env\n",
        "        ob = env.reset()\n",
        "        ret = 0\n",
        "        while True:\n",
        "            if render:\n",
        "                env.render()\n",
        "            action = self.agent.get_action(ob, greedy_only=True)\n",
        "            next_ob, reward, done, info = env.step(action)\n",
        "            ret += reward\n",
        "            ob = next_ob\n",
        "            if done:\n",
        "                break\n",
        "        return ret\n",
        "    \n",
        "    def run(self, n_runs=1):\n",
        "        rewards = []\n",
        "        log = []\n",
        "\n",
        "        for i in tqdm(range(n_runs), desc='Runs'):\n",
        "            ep_rewards = []\n",
        "            ep_steps = []\n",
        "            self.agent.reset()\n",
        "            # we plot the smoothed return values\n",
        "            smooth_ep_return = deque(maxlen=10)\n",
        "            ob = self.env.reset()\n",
        "            ret = 0\n",
        "            num_ep = 0\n",
        "            for t in tqdm(range(self.max_steps), desc='Step'):\n",
        "                if len(self.agent.memory) < self.agent.warmup_steps:\n",
        "                    action = self.env.action_space.sample()\n",
        "                else:\n",
        "                    action = self.agent.get_action(ob)\n",
        "                next_ob, reward, done, info = self.env.step(action)\n",
        "                true_done = done and not info.get('TimeLimit.truncated', False)\n",
        "                self.agent.add_to_memory(ob, next_ob, action, reward, true_done)\n",
        "                self.agent.update_Q()\n",
        "                ret += reward\n",
        "                ob = next_ob\n",
        "                if done:\n",
        "                    ob = self.env.reset()\n",
        "                    smooth_ep_return.append(ret)\n",
        "                    ep_rewards.append(np.mean(smooth_ep_return))\n",
        "                    ep_steps.append(t)\n",
        "                    ret = 0\n",
        "                    num_ep += 1\n",
        "                    if self.show_progress:\n",
        "                        print(f'Step:{t}  epsilon:{self.agent.epsilon}  '\n",
        "                            f'Smoothed Training Return:{np.mean(smooth_ep_return)}')\n",
        "                    if num_ep % 10 == 0:\n",
        "                        test_ret = self.test()\n",
        "                        if self.show_progress:\n",
        "                            print('==========================')\n",
        "                            print(f'Step:{t} Testing Return: {test_ret}')\n",
        "                self.agent.decay_epsilon()\n",
        "                self.agent.update_target_qnet(t, soft=not self.agent.disable_target_net)\n",
        "\n",
        "            rewards.append(ep_rewards)\n",
        "            run_log = pd.DataFrame({'return': ep_rewards,  \n",
        "                                    'steps': ep_steps,\n",
        "                                    'episode': np.arange(len(ep_rewards)), \n",
        "                                    'epsilon': self.agent.initial_epsilon})\n",
        "            log.append(run_log)\n",
        "        return log\n",
        "\n",
        "\n",
        "\n",
        "def dqn_sweep(agents, labels, n_runs=1, max_steps=1000000, show_progress=False):\n",
        "    logs = dict()\n",
        "    for idx, agent in enumerate(tqdm(agents)):\n",
        "        engine = DQNEngine(env=agent.env, agent=agent, \n",
        "                           max_steps=max_steps, show_progress=show_progress)\n",
        "        ep_log = engine.run(n_runs)\n",
        "        ep_log = pd.concat(ep_log, ignore_index=True)\n",
        "        ep_log['Agent'] = labels[idx]\n",
        "        logs[f'{idx}'] = ep_log\n",
        "    logs = pd.concat(logs, ignore_index=True)\n",
        "    return logs\n"
      ],
      "execution_count": null,
      "outputs": []
    },
    {
      "cell_type": "markdown",
      "metadata": {
        "id": "b8BzgBT98GNj"
      },
      "source": [
        "## Run experiments"
      ]
    },
    {
      "cell_type": "markdown",
      "metadata": {
        "id": "HjlyQjUsFH--"
      },
      "source": [
        "We have provided for you default hyperparameters to use in `get_default_config` to train your DQN agent. Within 100,000 steps your vanilla DQN should be getting reasonable performance and solving the task (smoothed return for the last 10,000 consecutive episodes is above 0.8). Use the same set of hyperparameters throughout the assignment unless we tell you to modify the config.\n",
        "\n",
        "You can use `show_progress = True` while testing your code for a faster feedback cycle."
      ]
    },
    {
      "cell_type": "code",
      "metadata": {
        "id": "6KeCN1oOFEoG"
      },
      "source": [
        "\n",
        "def get_default_config():\n",
        "    env = DoorKeyEnv5x5()\n",
        "    env = ImgObsWrapper(env)\n",
        "    set_random_seed(0)\n",
        "    config = dict(\n",
        "        env=env,\n",
        "        learning_rate=0.00025,\n",
        "        gamma=0.99,\n",
        "        memory_size=200000,\n",
        "        initial_epsilon=1.0,\n",
        "        min_epsilon=0.1,\n",
        "        max_epsilon_decay_steps=150000,\n",
        "        warmup_steps=500,\n",
        "        target_update_freq=2000,\n",
        "        batch_size=32,\n",
        "        device=None,\n",
        "        disable_target_net=False,\n",
        "        enable_double_q=False\n",
        "    )\n",
        "    return config"
      ],
      "execution_count": null,
      "outputs": []
    },
    {
      "cell_type": "markdown",
      "metadata": {
        "id": "9tY6TcehHwlk"
      },
      "source": [
        "**Q4.1 (5 pts)**: Train your DQN agent and plot its return curve. We have provided you with a `plot` function where the `x_keys` should be `steps`, and `y_keys` should be `return`. Note that `return` corresponds to the return from an episode and that our environment only provides a reward of 1 when the goal is reached."
      ]
    },
    {
      "cell_type": "code",
      "metadata": {
        "id": "XVQCbVdswWKF"
      },
      "source": [
        "config = get_default_config()\n",
        "agent = DQNAgent(**config)\n",
        "dqn_logs = dqn_sweep([agent], ['dqn'], max_steps=100000, show_progress=True)\n",
        "\n",
        "#### TODO: plot the return curves"
      ],
      "execution_count": null,
      "outputs": []
    },
    {
      "cell_type": "code",
      "source": [
        "plot(dqn_logs, 'steps', 'return', 'Agent')"
      ],
      "metadata": {
        "colab": {
          "base_uri": "https://localhost:8080/",
          "height": 279
        },
        "id": "O-Xmos7PGbyS",
        "outputId": "5f28a0e1-08b9-44cb-afc9-e5f4315004f6"
      },
      "execution_count": null,
      "outputs": [
        {
          "output_type": "display_data",
          "data": {
            "text/plain": [
              "<Figure size 432x288 with 1 Axes>"
            ],
            "image/png": "[encoded data removed]"
          },
          "metadata": {
            "needs_background": "light"
          }
        }
      ]
    },
    {
      "cell_type": "markdown",
      "metadata": {
        "id": "M1UE7q-qJQOR"
      },
      "source": [
        "Do we really need a target network? Let's see what if we don't use a target network.\n",
        "\n",
        "**Q4.2 (10 pts)**: Fill in the missing code in `reset` in `DQNAgent` for the case where we don't use a target Q network (i.e., when `disable_target_net = True`). Plot the return curve for this agent."
      ]
    },
    {
      "cell_type": "code",
      "metadata": {
        "id": "HcCgC7LnxB6e"
      },
      "source": [
        "config = get_default_config()\n",
        "config['disable_target_net'] = True\n",
        "agent = DQNAgent(**config)\n",
        "no_tgt_logs = dqn_sweep([agent], ['no_tgt'], max_steps=100000, show_progress=False)\n",
        "\n",
        "#### TODO: plot the return curves"
      ],
      "execution_count": null,
      "outputs": []
    },
    {
      "cell_type": "code",
      "source": [
        "plot(no_tgt_logs, 'steps', 'return', 'Agent')"
      ],
      "metadata": {
        "colab": {
          "base_uri": "https://localhost:8080/",
          "height": 279
        },
        "id": "vUt3fZQwNB9P",
        "outputId": "53916420-2efe-4736-e0fe-16ef97527c62"
      },
      "execution_count": null,
      "outputs": [
        {
          "output_type": "display_data",
          "data": {
            "text/plain": [
              "<Figure size 432x288 with 1 Axes>"
            ],
            "image/png": "[encoded data removed]"
          },
          "metadata": {
            "needs_background": "light"
          }
        }
      ]
    },
    {
      "cell_type": "markdown",
      "metadata": {
        "id": "BLwb0ViOKgVx"
      },
      "source": [
        "Do we really need a replay buffer? Let's see what happens if we do not use a replay buffer. Since we are doing batch update on `Q` function, we can try using a very small replay buffer instead. We can make the size of the replay buffer same as the batch size.\n",
        "\n",
        "**Q4.3 (10 pts)**: Set the size of the replay buffer and `warmup_steps` to be the same as the batch size in the config. Run the training for this case and plot the return curves."
      ]
    },
    {
      "cell_type": "code",
      "metadata": {
        "id": "5Dh5dLfU4FLY",
        "colab": {
          "base_uri": "https://localhost:8080/",
          "height": 375,
          "referenced_widgets": [
            "2359e28cbe2341d5b934097d2573a33b",
            "cc6e0a4855ee4f8e9f83c51a4213d56f",
            "1c66a97e6bf145bbac8584cf8c98f2b5",
            "1cb7d91a4afe4b36b32c64b2c8c450bb",
            "6f0be990ac854455af9a1c8af764cf5e",
            "90ea65a86e6c45a4af2a70cc64fe49f8",
            "164b747d8e784bf08a8d49f5ad0e1058",
            "38be81ed0a474298b5e4297dc839dccc",
            "1b96f35daede4dea871be5b1d4a85a6e",
            "117e8b01d37740caa5c0f41221a66cc5",
            "5d860f52eacc446c99bc95e829bec375",
            "cb71b7c6413a4eca88e55c213e4dcbd8",
            "3078090f0f19449dbc9beecd5161652c",
            "f4e0adb0570948db87639e7e278bd257",
            "113508445104477ebf92dd3827a1f65e",
            "6b30cad000c54e0baeff5fc8968210a3",
            "fcfc86ae54c14656854cf7b123b08a03",
            "9f7acd57be024823ad6a4d192c7804c9",
            "0731073fff7447f9a8b8d7aae11aef59",
            "422976b3a8e74be9bb923871e494644b",
            "5577173328314607b87939bdca525dd1",
            "ecd32d7eedb149feac1cf8d646f26099",
            "6c3fe0c0e62e4aea8d2393f9a5f87605",
            "1806fa422cac4707b67bc8bfc5ea5550",
            "88c4043b2612453380e2ddd57e3ab5c8",
            "5f013feb77314ad0b55054d4912c0b8f",
            "c17ffe5745b84792a13d2a5d58086a9b",
            "a002fc27979f4586aacb6f91c4857c86",
            "c4669d3c183d45e9a86dfaa395ae7565",
            "439feabc981f43f0bd4b212f63ea844f",
            "700bc6f8ba24405aa61803237d037092",
            "8dcde8ed41744adca4e09c00ee7c2e96",
            "65527276152a4f708389bd7b46fefe2e"
          ]
        },
        "outputId": "6a9889d3-adc8-482b-c058-3942b52614b3"
      },
      "source": [
        "config = get_default_config()\n",
        "#### TODO: change some keys in config properly\n",
        "config['memory_size'] = config['batch_size']\n",
        "config['warmup_steps'] = config['batch_size']\n",
        "####\n",
        "agent = DQNAgent(**config)\n",
        "small_buffer_logs = dqn_sweep([agent], ['small_buffer'], max_steps=100000, show_progress=False)\n",
        "#### TODO: plot the return curves\n",
        "plot(small_buffer_logs, 'steps', 'return', 'Agent')"
      ],
      "execution_count": null,
      "outputs": [
        {
          "output_type": "display_data",
          "data": {
            "text/plain": [
              "  0%|          | 0/1 [00:00<?, ?it/s]"
            ],
            "application/vnd.jupyter.widget-view+json": {
              "version_major": 2,
              "version_minor": 0,
              "model_id": "2359e28cbe2341d5b934097d2573a33b"
            }
          },
          "metadata": {}
        },
        {
          "output_type": "display_data",
          "data": {
            "text/plain": [
              "Runs:   0%|          | 0/1 [00:00<?, ?it/s]"
            ],
            "application/vnd.jupyter.widget-view+json": {
              "version_major": 2,
              "version_minor": 0,
              "model_id": "cb71b7c6413a4eca88e55c213e4dcbd8"
            }
          },
          "metadata": {}
        },
        {
          "output_type": "display_data",
          "data": {
            "text/plain": [
              "Step:   0%|          | 0/100000 [00:00<?, ?it/s]"
            ],
            "application/vnd.jupyter.widget-view+json": {
              "version_major": 2,
              "version_minor": 0,
              "model_id": "6c3fe0c0e62e4aea8d2393f9a5f87605"
            }
          },
          "metadata": {}
        },
        {
          "output_type": "display_data",
          "data": {
            "text/plain": [
              "<Figure size 432x288 with 1 Axes>"
            ],
            "image/png": "[encoded data removed]"
          },
          "metadata": {
            "needs_background": "light"
          }
        }
      ]
    },
    {
      "cell_type": "markdown",
      "metadata": {
        "id": "4ux2zOdMIXCI"
      },
      "source": [
        "**Q4.4 (10 pts)**: Fill in the missing code for double DQN in `update_Q` in `DQNAgent` (when `enable_double_q=True`, your code should work for both cases). Train the double DQN agent, and plot the return curve."
      ]
    },
    {
      "cell_type": "code",
      "metadata": {
        "id": "jU83g6GhxBcq"
      },
      "source": [
        "config = get_default_config()\n",
        "config['enable_double_q'] = True\n",
        "agent = DQNAgent(**config)\n",
        "doubleq_logs = dqn_sweep([agent], ['double_dqn'], max_steps=100000, show_progress=True)\n",
        "#### TODO: plot the return curves"
      ],
      "execution_count": null,
      "outputs": []
    },
    {
      "cell_type": "code",
      "source": [
        "plot(doubleq_logs, 'steps', 'return', 'Agent')"
      ],
      "metadata": {
        "id": "DpQdOlIwVSFj"
      },
      "execution_count": null,
      "outputs": []
    },
    {
      "cell_type": "markdown",
      "metadata": {
        "id": "RqGo5J2gNfST"
      },
      "source": [
        "**Q4.5 (10 pts)**: Plot all the logs (DQN, double DQN, no target network, small replay buffer) in the same figure. Note any differences in success performance between the variants. \n",
        "\n",
        "**A**:\n",
        "\n",
        "**Q4.6 (15 pts)**: Explain why each of our ablations (removing the target network, using a small buffer, and using double DQN) are more or less sucessfull than the vanilla DQN agent.\n",
        "\n",
        "**A**:"
      ]
    },
    {
      "cell_type": "code",
      "metadata": {
        "id": "hLSDB7a84WFa"
      },
      "source": [
        "#### TODO: plot all the logs together\n"
      ],
      "execution_count": null,
      "outputs": []
    },
    {
      "cell_type": "markdown",
      "metadata": {
        "id": "5NryAM1QVO26"
      },
      "source": [
        "# Survey (bonus, 10 pts)\n",
        "Please fill out [this anonymous survey](https://docs.google.com/forms/d/e/1FAIpQLSczytsld7GBnGokPzIrSH6zsbmhsOa6ivYYH-01qOianAtRWA/viewform?usp=sf_link) and enter the code below to receive credit. Thanks!\n",
        "\n",
        "**Bonus code**: double_rainbow_all_the_way"
      ]
    },
    {
      "cell_type": "markdown",
      "source": [
        "# Submission\n",
        "Run the below cell to generate an html file with your notebook. You can also follow the piazza instructions for PDF generation"
      ],
      "metadata": {
        "id": "GrNs2c8Y2YLR"
      }
    },
    {
      "cell_type": "code",
      "metadata": {
        "id": "S3T2aE9bRwyh"
      },
      "source": [
        "from google.colab import drive\n",
        "\n",
        "drive.mount('/content/drive/')\n",
        "!jupyter nbconvert --to html '/content/drive/My Drive/path_to_notebook.ipynb'"
      ],
      "execution_count": null,
      "outputs": []
    }
  ]
}