{
  "cells": [
    {
      "cell_type": "markdown",
      "metadata": {
        "id": "view-in-github",
        "colab_type": "text"
      },
      "source": [
        "<a href=\"https://colab.research.google.com/github/jingxuanf0214/MIT6.484/blob/main/Copy_of_lfd.ipynb\" target=\"_parent\"><img src=\"https://colab.research.google.com/assets/colab-badge.svg\" alt=\"Open In Colab\"/></a>"
      ]
    },
    {
      "cell_type": "markdown",
      "metadata": {
        "id": "NcyVmjGrSE-C"
      },
      "source": [
        "# Spring 2022 6.484 Computational Sensorimotor Learning Assignment 4\n",
        "\n",
        "In this assignment, we will work on learning from demonstrations. \n",
        "\n",
        "You will need to **answer the bolded questions** and **fill in the missing code snippets** (marked by **TODO**).\n",
        "\n",
        "There are **130** total points to be had in this PSET.  `ctrl-f` for \"pts\" to ensure you don't miss questions.\n",
        "\n",
        "**_Please fill in your name below:_**\n",
        "\n",
        "**Name**: Jingxuan Fan"
      ]
    },
    {
      "cell_type": "code",
      "execution_count": null,
      "metadata": {
        "id": "fQNYcagOR0_D"
      },
      "outputs": [],
      "source": [
        "!pip install pybullet > /dev/null 2>&1\n",
        "!pip install git+https://github.com/taochenshh/easyrl.git > /dev/null 2>&1\n",
        "!pip install git+https://github.com/Improbable-AI/airobot.git > /dev/null 2>&1\n",
        "!pip install gym pyvirtualdisplay > /dev/null 2>&1\n",
        "!apt-get install -y xvfb python-opengl ffmpeg > /dev/null 2>&1"
      ]
    },
    {
      "cell_type": "code",
      "execution_count": null,
      "metadata": {
        "id": "zyrsDfdwj_S1"
      },
      "outputs": [],
      "source": [
        "import os\n",
        "import torch\n",
        "import gym\n",
        "import pprint\n",
        "import time\n",
        "import pybullet as p\n",
        "import pybullet_data as pd\n",
        "import pybullet_envs\n",
        "import airobot as ar\n",
        "import numpy as np\n",
        "import matplotlib.pyplot as plt\n",
        "import torch.optim as optim\n",
        "import torch.nn.functional as F\n",
        "from typing import Any\n",
        "from matplotlib import animation\n",
        "from IPython.display import HTML\n",
        "from matplotlib import pylab\n",
        "from dataclasses import dataclass\n",
        "from airobot import Robot\n",
        "from airobot.utils.common import quat2euler\n",
        "from airobot.utils.common import euler2quat\n",
        "from gym import spaces\n",
        "from gym.envs.registration import registry, register\n",
        "from gym.wrappers import Monitor\n",
        "from tensorboard.backend.event_processing.event_accumulator import EventAccumulator\n",
        "from tqdm.notebook import tqdm\n",
        "from torch import nn\n",
        "from torch.utils.data import Dataset\n",
        "from torch.utils.data import DataLoader\n",
        "from pathlib import Path\n",
        "from copy import deepcopy\n",
        "from itertools import count\n",
        "from easyrl.agents.ppo_agent import PPOAgent\n",
        "from easyrl.utils.common import save_traj\n",
        "from easyrl.configs import cfg\n",
        "from easyrl.configs import set_config\n",
        "from easyrl.configs.command_line import cfg_from_cmd\n",
        "from easyrl.engine.ppo_engine import PPOEngine\n",
        "from easyrl.models.categorical_policy import CategoricalPolicy\n",
        "from easyrl.models.diag_gaussian_policy import DiagGaussianPolicy\n",
        "from easyrl.models.mlp import MLP\n",
        "from easyrl.models.value_net import ValueNet\n",
        "from easyrl.agents.base_agent import BaseAgent\n",
        "from easyrl.utils.torch_util import DictDataset\n",
        "from easyrl.utils.torch_util import load_state_dict\n",
        "from easyrl.utils.torch_util import load_torch_model\n",
        "from easyrl.runner.nstep_runner import EpisodicRunner\n",
        "from easyrl.utils.torch_util import save_model\n",
        "from easyrl.utils.torch_util import action_entropy\n",
        "from easyrl.utils.torch_util import action_from_dist\n",
        "from easyrl.utils.torch_util import action_log_prob\n",
        "from easyrl.utils.torch_util import clip_grad\n",
        "from easyrl.utils.common import set_random_seed\n",
        "from easyrl.utils.gym_util import make_vec_env\n",
        "from easyrl.utils.common import load_from_json\n",
        "from easyrl.utils.torch_util import freeze_model\n",
        "from easyrl.utils.torch_util import move_to\n",
        "from easyrl.utils.torch_util import torch_float\n",
        "from easyrl.utils.torch_util import torch_to_np\n",
        "from base64 import b64encode\n",
        "from IPython import display as ipythondisplay\n",
        "%matplotlib inline"
      ]
    },
    {
      "cell_type": "code",
      "execution_count": null,
      "metadata": {
        "colab": {
          "base_uri": "https://localhost:8080/"
        },
        "id": "G-jPEdR40oJx",
        "outputId": "341c7eb5-b220-4830-d75d-3a04a178fcaa"
      },
      "outputs": [
        {
          "output_type": "execute_result",
          "data": {
            "text/plain": [
              "<pyvirtualdisplay.display.Display at 0x7f2f3a2c6490>"
            ]
          },
          "metadata": {},
          "execution_count": 3
        }
      ],
      "source": [
        "from pyvirtualdisplay import Display\n",
        "display = Display(visible=0, size=(1400, 900))\n",
        "display.start()"
      ]
    },
    {
      "cell_type": "code",
      "execution_count": null,
      "metadata": {
        "id": "D7rlsrslkGDK"
      },
      "outputs": [],
      "source": [
        "def play_video(video_dir, video_file=None, video_id=None):\n",
        "    if video_file is None:\n",
        "        video_dir = Path(video_dir)\n",
        "        video_files = list(video_dir.glob(f'**/render_video.mp4'))\n",
        "        if video_id is not None:\n",
        "            video_files = [x for x in video_files if f'{video_id:06d}' in x.as_posix()]\n",
        "        video_files.sort()\n",
        "        video_file = video_files[-1]\n",
        "    else:\n",
        "        video_file = Path(video_file)\n",
        "    compressed_file = video_file.parent.joinpath('comp.mp4')\n",
        "    os.system(f\"ffmpeg -i {video_file} -filter:v 'setpts=2.0*PTS' -vcodec libx264 {compressed_file.as_posix()}\")\n",
        "    mp4 = open(compressed_file.as_posix(),'rb').read()\n",
        "    data_url = \"data:video/mp4;base64,\" + b64encode(mp4).decode()\n",
        "    ipythondisplay.display(HTML(\"\"\"\n",
        "    <video width=400 controls>\n",
        "        <source src=\"%s\" type=\"video/mp4\">\n",
        "    </video>\n",
        "    \"\"\" % data_url))\n",
        "\n",
        "# read tf log file\n",
        "def read_tf_log(log_dir):\n",
        "    log_dir = Path(log_dir)\n",
        "    log_files = list(log_dir.glob(f'**/events.*'))\n",
        "    if len(log_files) < 1:\n",
        "        return None\n",
        "    log_file = log_files[0]\n",
        "    event_acc = EventAccumulator(log_file.as_posix())\n",
        "    event_acc.Reload()\n",
        "    tags = event_acc.Tags()\n",
        "    try:\n",
        "        scalar_success = event_acc.Scalars('train/episode_success')\n",
        "        success_rate = [x.value for x in scalar_success]\n",
        "        steps = [x.step for x in scalar_success]\n",
        "        scalar_return = event_acc.Scalars('train/episode_return/mean')\n",
        "        returns = [x.value for x in scalar_return]\n",
        "    except:\n",
        "        return None\n",
        "    return steps, returns, success_rate\n",
        "\n",
        "\n",
        "def plot_curves(data_dict, title):\n",
        "    # {label: [x, y]}\n",
        "    fig, ax = plt.subplots(figsize=(4, 3))\n",
        "    labels = data_dict.keys()\n",
        "    for label, data in data_dict.items():\n",
        "        x = data[0]\n",
        "        y = data[1]\n",
        "        ax.plot(x, y, label=label)\n",
        "    ax.set_title(title)\n",
        "    ax.legend()\n",
        "\n",
        "def set_random_seed(seed):\n",
        "    np.random.seed(seed)\n",
        "    torch.manual_seed(seed)\n",
        "\n",
        "# set random seed\n",
        "seed = 0\n",
        "set_random_seed(seed=seed)\n"
      ]
    },
    {
      "cell_type": "markdown",
      "metadata": {
        "id": "TzsXGdpQ0Lno"
      },
      "source": [
        "# Environment (Pusher)\n",
        "\n",
        "In this assignment, we will use the Pusher environment that we used in HW3. We modified the environment so that the goal locations are randomly sampled within a small region."
      ]
    },
    {
      "cell_type": "code",
      "execution_count": null,
      "metadata": {
        "id": "rjjLgXclGC1k"
      },
      "outputs": [],
      "source": [
        "class URRobotPusherGym(gym.Env):\n",
        "    def __init__(self,\n",
        "                 action_repeat=10,\n",
        "                 gui=False,\n",
        "                 max_episode_length=30,\n",
        "                 dist_threshold=0.05):\n",
        "        self._action_repeat = action_repeat\n",
        "        self._max_episode_length = max_episode_length\n",
        "        self._dist_threshold = dist_threshold\n",
        "\n",
        "        self._xy_bounds = np.array([[0.23, 0.78],  # [xmin, xmax]\n",
        "                                    [-0.35, 0.3]])  # [ymin, ymax]\n",
        "        self._goal_bounds = np.array([[0.3, 0.65],  # [xmin, xmax]\n",
        "                                      [0.0, 0.25]])  # [ymin, ymax]\n",
        "        self.robot = Robot('ur5e_stick',\n",
        "                           pb_cfg={'gui': gui,\n",
        "                                   'realtime': False,\n",
        "                                   'opengl_render': torch.cuda.is_available()})\n",
        "        self._arm_reset_pos = np.array([-0.38337763,\n",
        "                                        -2.02650575,\n",
        "                                        -2.01989619,\n",
        "                                        -0.64477803,\n",
        "                                        1.571439041,\n",
        "                                        -0.38331266])\n",
        "        self._table_id = self.robot.pb_client.load_urdf('table/table.urdf',\n",
        "                                                        [.5, 0, 0.4],\n",
        "                                                        euler2quat([0, 0, np.pi / 2]),\n",
        "                                                        scaling=0.9)\n",
        "\n",
        "        # create a ball at the start location (for visualization purpose)\n",
        "        self._start_pos = np.array([0.45, -0.32, 1.0])\n",
        "        self._start_urdf_id = self.robot.pb_client.load_geom('sphere', size=0.04, mass=0,\n",
        "                                                             base_pos=self._start_pos,\n",
        "                                                             rgba=[1, 1, 0, 0.8])\n",
        "\n",
        "        # create a ball at the goal location\n",
        "        self._goal_pos = np.array([0.5, 0.2, 1.0])\n",
        "        self._goal_urdf_id = self.robot.pb_client.load_geom('sphere', size=0.04, mass=0,\n",
        "                                                            base_pos=self._goal_pos,\n",
        "                                                            rgba=[1, 0, 0, 0.8])\n",
        "\n",
        "        # disable the collision checking between the robot and the ball at the goal location\n",
        "        for i in range(self.robot.pb_client.getNumJoints(self.robot.arm.robot_id)):\n",
        "            self.robot.pb_client.setCollisionFilterPair(self.robot.arm.robot_id,\n",
        "                                                        self._goal_urdf_id,\n",
        "                                                        i,\n",
        "                                                        -1,\n",
        "                                                        enableCollision=0)\n",
        "        # disable the collision checking between the robot and the ball at the start location\n",
        "        for i in range(self.robot.pb_client.getNumJoints(self.robot.arm.robot_id)):\n",
        "            self.robot.pb_client.setCollisionFilterPair(self.robot.arm.robot_id,\n",
        "                                                        self._start_urdf_id,\n",
        "                                                        i,\n",
        "                                                        -1,\n",
        "                                                        enableCollision=0)\n",
        "\n",
        "        self._box_pos = np.array([0.45, -0.1, 0.996])\n",
        "        self._box_id = self.robot.pb_client.load_geom('cylinder', size=[0.05, 0.05], mass=1.,\n",
        "                                                      base_pos=self._box_pos,\n",
        "                                                      rgba=[1., 0.6, 0.6, 1])\n",
        "\n",
        "        self.robot.pb_client.changeDynamics(self._box_id, -1, lateralFriction=0.9)\n",
        "\n",
        "        self.robot.pb_client.setCollisionFilterPair(self._box_id,\n",
        "                                                    self._start_urdf_id,\n",
        "                                                    -1,\n",
        "                                                    -1,\n",
        "                                                    enableCollision=0)\n",
        "        self.robot.pb_client.setCollisionFilterPair(self._box_id,\n",
        "                                                    self._goal_urdf_id,\n",
        "                                                    -1,\n",
        "                                                    -1,\n",
        "                                                    enableCollision=0)\n",
        "\n",
        "        self._action_bound = 1.0\n",
        "        self._ee_pos_scale = 0.04\n",
        "        self._action_high = np.array([self._action_bound] * 2)\n",
        "        self.action_space = spaces.Box(low=-self._action_high,\n",
        "                                       high=self._action_high,\n",
        "                                       dtype=np.float32)\n",
        "        state_low = np.full(len(self._get_obs()), -float('inf'))\n",
        "        state_high = np.full(len(self._get_obs()), float('inf'))\n",
        "        self.observation_space = spaces.Box(state_low,\n",
        "                                            state_high,\n",
        "                                            dtype=np.float32)\n",
        "        self.reset()\n",
        "\n",
        "    def reset(self):\n",
        "        self.robot.arm.set_jpos(self._arm_reset_pos, ignore_physics=True)\n",
        "        self.robot.pb_client.reset_body(self._box_id, base_pos=self._box_pos)\n",
        "\n",
        "        starts = self._goal_bounds[:, 0]\n",
        "        ends = self._goal_bounds[:, 1]\n",
        "        width = ends - starts\n",
        "        # different from HW3, we are setting the goal to a random location\n",
        "        ran = np.random.random(2)\n",
        "        goal_pos = starts + width * ran\n",
        "        goal_pos = np.append(goal_pos, 1)\n",
        "        self._goal_pos = goal_pos\n",
        "        self.robot.pb_client.reset_body(self._goal_urdf_id, base_pos=self._goal_pos)\n",
        "\n",
        "        self._t = 0\n",
        "        self._ref_ee_pos = self.robot.arm.get_ee_pose()[0]\n",
        "        self._ref_ee_ori = self.robot.arm.get_ee_pose()[1]\n",
        "        return self._get_obs()\n",
        "\n",
        "    def step(self, action):\n",
        "        previous_state = self._get_obs()\n",
        "        collision = self._apply_action(action)\n",
        "        self._t += 1\n",
        "        state = self._get_obs()\n",
        "\n",
        "        reward, info = self._get_reward(state=state, action=action, previous_state=previous_state)\n",
        "        done = self._t >= self._max_episode_length or info['success']\n",
        "        info['collision'] = collision\n",
        "        return state, reward, done, info\n",
        "\n",
        "    def _get_reward(self, state, action, previous_state):\n",
        "        object_pos = state[2:4]\n",
        "        dist_to_goal = np.linalg.norm(object_pos - self._goal_pos[:2])\n",
        "        success = dist_to_goal < self._dist_threshold\n",
        "        gripper_pos = state[:2]\n",
        "        prev_object_pos = previous_state[2:4]\n",
        "        prev_dist_to_goal = np.linalg.norm(prev_object_pos - self._goal_pos[:2])\n",
        "\n",
        "        gripper_obj_dist = np.linalg.norm(gripper_pos - object_pos)\n",
        "        reach_reward = -gripper_obj_dist\n",
        "        touch_reward = int(gripper_obj_dist < 0.08) * 0.03 if dist_to_goal < prev_dist_to_goal else 0\n",
        "\n",
        "        push_reward = np.exp(-dist_to_goal * 8) * 1. if touch_reward > 0 else 0\n",
        "        if success:\n",
        "            push_reward += 10\n",
        "        reward = touch_reward + push_reward + reach_reward\n",
        "        info = dict(success=success)\n",
        "        return reward, info\n",
        "\n",
        "    def _get_obs(self):\n",
        "        gripper_pos = self.robot.arm.get_ee_pose()[0][:2]\n",
        "        object_pos, object_quat = self.robot.pb_client.get_body_state(self._box_id)[:2]\n",
        "        state = np.concatenate([gripper_pos, object_pos[:2], self._goal_pos[:2]])\n",
        "        return state\n",
        "\n",
        "    def _apply_action(self, action):\n",
        "        if not isinstance(action, np.ndarray):\n",
        "            action = np.array(action).flatten()\n",
        "        if action.size != 2:\n",
        "            raise ValueError('Action should be [d_x, d_y].')\n",
        "        # we set dz=0\n",
        "        action = np.append(action, 0)\n",
        "        pos, quat, rot_mat, euler = self.robot.arm.get_ee_pose()\n",
        "        pos += action[:3] * self._ee_pos_scale\n",
        "        pos[2] = self._ref_ee_pos[2]\n",
        "        # if the new position is out of the bounds, then we don't apply the action\n",
        "        if not np.logical_and(np.all(pos[:2] >= self._xy_bounds[:, 0]),\n",
        "                              np.all(pos[:2] <= self._xy_bounds[:, 1])):\n",
        "            return False\n",
        "\n",
        "        # move the end-effector to the new position\n",
        "        jnt_pos = self.robot.arm.compute_ik(pos, ori=self._ref_ee_ori)\n",
        "        for step in range(self._action_repeat):\n",
        "            self.robot.arm.set_jpos(jnt_pos)\n",
        "            self.robot.pb_client.stepSimulation()\n",
        "\n",
        "        return False\n",
        "\n",
        "    def render(self, mode='human', **kwargs):\n",
        "        robot_base = self.robot.arm.robot_base_pos\n",
        "        self.robot.cam.setup_camera(focus_pt=robot_base,\n",
        "                                    dist=2,\n",
        "                                    yaw=85,\n",
        "                                    pitch=-20,\n",
        "                                    roll=0)\n",
        "        rgb, _ = self.robot.cam.get_images(get_rgb=True,\n",
        "                                           get_depth=False)\n",
        "        return rgb\n",
        "\n",
        "\n",
        "module_name = __name__\n",
        "\n",
        "env_name = 'URPusher-v1'\n",
        "if env_name in registry.env_specs:\n",
        "    del registry.env_specs[env_name]\n",
        "register(\n",
        "    id=env_name,\n",
        "    entry_point=f'{module_name}:URRobotPusherGym',\n",
        ")"
      ]
    },
    {
      "cell_type": "markdown",
      "metadata": {
        "id": "qShYr_NlkKEl"
      },
      "source": [
        "# Learning from Demonstrations\n",
        "\n",
        "To generate a dataset of demonstrations to learn from, we've provided you a pre-trained expert model."
      ]
    },
    {
      "cell_type": "code",
      "execution_count": null,
      "metadata": {
        "colab": {
          "base_uri": "https://localhost:8080/"
        },
        "id": "BQxMB7CslEY8",
        "outputId": "e5e7e05a-c1cc-4e4e-ce70-5224b2914366"
      },
      "outputs": [
        {
          "output_type": "stream",
          "name": "stdout",
          "text": [
            "WARNING: combining -O with -r or -p will mean that all downloaded content\n",
            "will be placed in the single file you specified.\n",
            "\n",
            "--2022-03-07 14:57:30--  https://docs.google.com/uc?export=download&id=1vlOBeo3caEbl17JEEyxRWbCnFZ--dyXH\n",
            "Resolving docs.google.com (docs.google.com)... 74.125.31.113, 74.125.31.102, 74.125.31.100, ...\n",
            "Connecting to docs.google.com (docs.google.com)|74.125.31.113|:443... connected.\n",
            "HTTP request sent, awaiting response... 303 See Other\n",
            "Location: https://doc-0k-00-docs.googleusercontent.com/docs/securesc/ha0ro937gcuc7l7deffksulhg5h7mbp1/utla453e8lg7oispcaqivtr560lupljd/1646665050000/13713566268573616286/*/1vlOBeo3caEbl17JEEyxRWbCnFZ--dyXH?e=download [following]\n",
            "Warning: wildcards not supported in HTTP.\n",
            "--2022-03-07 14:57:30--  https://doc-0k-00-docs.googleusercontent.com/docs/securesc/ha0ro937gcuc7l7deffksulhg5h7mbp1/utla453e8lg7oispcaqivtr560lupljd/1646665050000/13713566268573616286/*/1vlOBeo3caEbl17JEEyxRWbCnFZ--dyXH?e=download\n",
            "Resolving doc-0k-00-docs.googleusercontent.com (doc-0k-00-docs.googleusercontent.com)... 172.217.193.132, 2607:f8b0:400c:c03::84\n",
            "Connecting to doc-0k-00-docs.googleusercontent.com (doc-0k-00-docs.googleusercontent.com)|172.217.193.132|:443... connected.\n",
            "HTTP request sent, awaiting response... 200 OK\n",
            "Length: 167875 (164K) [application/x-zip]\n",
            "Saving to: ‘pusher_expert_model.pt’\n",
            "\n",
            "pusher_expert_model 100%[===================>] 163.94K  --.-KB/s    in 0.002s  \n",
            "\n",
            "2022-03-07 14:57:31 (85.1 MB/s) - ‘pusher_expert_model.pt’ saved [167875/167875]\n",
            "\n",
            "FINISHED --2022-03-07 14:57:31--\n",
            "Total wall clock time: 0.5s\n",
            "Downloaded: 1 files, 164K in 0.002s (85.1 MB/s)\n"
          ]
        }
      ],
      "source": [
        "# Download the expert model\n",
        "!wget --no-check-certificate -r 'https://docs.google.com/uc?export=download&id=1vlOBeo3caEbl17JEEyxRWbCnFZ--dyXH' -O pusher_expert_model.pt"
      ]
    },
    {
      "cell_type": "markdown",
      "metadata": {
        "id": "NYdWirh62l56"
      },
      "source": [
        "## Utility functions"
      ]
    },
    {
      "cell_type": "code",
      "execution_count": null,
      "metadata": {
        "id": "FySbQl8brSF8"
      },
      "outputs": [],
      "source": [
        "def create_actor(env):\n",
        "    ob_dim = env.observation_space.shape[0]\n",
        "    action_dim = env.action_space.shape[0]\n",
        "    actor_body = MLP(input_size=ob_dim,\n",
        "                    hidden_sizes=[64],\n",
        "                    output_size=64,\n",
        "                    hidden_act=nn.Tanh,\n",
        "                    output_act=nn.Tanh)\n",
        "    actor = DiagGaussianPolicy(actor_body,\n",
        "                               in_features=64,\n",
        "                               action_dim=action_dim)\n",
        "    return actor\n",
        "\n",
        "def load_expert_agent(env, device, expert_model_path='pusher_expert_model.pt'):\n",
        "    expert_actor = create_actor(env=env)\n",
        "    expert_agent = BasicAgent(actor=expert_actor)\n",
        "    print(f'Loading expert model from: {expert_model_path}.')\n",
        "    ckpt_data = torch.load(expert_model_path, map_location=torch.device(f'{device}'))\n",
        "    load_state_dict(expert_agent.actor,\n",
        "                    ckpt_data['actor_state_dict'])\n",
        "    freeze_model(expert_agent.actor)\n",
        "    return expert_agent\n",
        "\n",
        "def generate_demonstration_data(expert_agent, env, num_trials):\n",
        "    return run_inference(expert_agent, env, num_trials, return_on_done=True)\n",
        "\n",
        "def run_inference(agent, env, num_trials, return_on_done=False, sample=True, disable_tqdm=False, render=False):\n",
        "    runner = EpisodicRunner(agent=agent, env=env)\n",
        "    trajs = []\n",
        "    for trial_id in tqdm(range(num_trials), desc='Run', disable=disable_tqdm):\n",
        "        env.reset()\n",
        "        traj = runner(time_steps=cfg.alg.episode_steps,\n",
        "                      sample=sample,\n",
        "                      return_on_done=return_on_done,\n",
        "                      evaluation=True,\n",
        "                      render_image=render)\n",
        "        trajs.append(traj)\n",
        "    return trajs\n",
        "\n",
        "def eval_agent(agent, env, num_trials, disable_tqdm=False, render=False):\n",
        "    trajs = run_inference(agent, env, num_trials, return_on_done=True, \n",
        "                          disable_tqdm=disable_tqdm, render=render)\n",
        "    tsps = []\n",
        "    successes = []\n",
        "    rets = []\n",
        "    for traj in trajs:\n",
        "        tsps = traj.steps_til_done.copy().tolist()\n",
        "        rewards = traj.raw_rewards\n",
        "        infos = traj.infos\n",
        "        for ej in range(rewards.shape[1]):\n",
        "            ret = np.sum(rewards[:tsps[ej], ej])\n",
        "            rets.append(ret)\n",
        "            successes.append(infos[tsps[ej] - 1][ej]['success'])\n",
        "        if render:\n",
        "            save_traj(traj, 'tmp')\n",
        "    ret_mean = np.mean(rets)\n",
        "    ret_std = np.std(rets)\n",
        "    success_rate = np.mean(successes)\n",
        "    return success_rate, ret_mean, ret_std, rets, successes"
      ]
    },
    {
      "cell_type": "code",
      "execution_count": null,
      "metadata": {
        "id": "uVQB5rzR75r5"
      },
      "outputs": [],
      "source": [
        "@dataclass\n",
        "class BasicAgent:\n",
        "    actor: nn.Module\n",
        "\n",
        "    def __post_init__(self):\n",
        "        move_to([self.actor],\n",
        "                device=cfg.alg.device)\n",
        "\n",
        "    @torch.no_grad()\n",
        "    def get_action(self, ob, sample=True, *args, **kwargs):\n",
        "        t_ob = torch_float(ob, device=cfg.alg.device)\n",
        "        # the policy returns a multi-variate gaussian distribution\n",
        "        act_dist, _ = self.actor(t_ob)\n",
        "        # sample from the distribution\n",
        "        action = action_from_dist(act_dist,\n",
        "                                  sample=sample)\n",
        "        # get the log-probability of the sampled actions\n",
        "        log_prob = action_log_prob(action, act_dist)\n",
        "        # get the entropy of the action distribution\n",
        "        entropy = action_entropy(act_dist, log_prob)\n",
        "        action_info = dict(\n",
        "            log_prob=torch_to_np(log_prob),\n",
        "            entropy=torch_to_np(entropy),\n",
        "        )\n",
        "        return torch_to_np(action), action_info\n"
      ]
    },
    {
      "cell_type": "code",
      "execution_count": null,
      "metadata": {
        "id": "UMppa3Af84Jt"
      },
      "outputs": [],
      "source": [
        "def set_configs(exp_name='bc'):\n",
        "    set_config('ppo')\n",
        "    cfg.alg.seed = seed\n",
        "    cfg.alg.num_envs = 1\n",
        "    cfg.alg.episode_steps = 150\n",
        "    cfg.alg.max_steps = 600000\n",
        "    cfg.alg.device = 'cuda' if torch.cuda.is_available() else 'cpu'\n",
        "    cfg.alg.env_name = 'URPusher-v1'\n",
        "    cfg.alg.save_dir = Path.cwd().absolute().joinpath('data').as_posix()\n",
        "    cfg.alg.save_dir += f'/{exp_name}'\n",
        "    setattr(cfg.alg, 'diff_cfg', dict(save_dir=cfg.alg.save_dir))\n",
        "\n",
        "    print(f'====================================')\n",
        "    print(f'      Device:{cfg.alg.device}')\n",
        "    print(f'====================================')"
      ]
    },
    {
      "cell_type": "markdown",
      "metadata": {
        "id": "1LTmNxX-176i"
      },
      "source": [
        "## Generating demonstrations\n",
        "\n",
        "Now that you've downloaded the expert policy model, let's load the expert agent."
      ]
    },
    {
      "cell_type": "code",
      "execution_count": null,
      "metadata": {
        "colab": {
          "base_uri": "https://localhost:8080/"
        },
        "id": "aIepfAR0pzuy",
        "outputId": "5cb8154e-0eac-4875-8c23-13b681f3f038"
      },
      "outputs": [
        {
          "output_type": "stream",
          "name": "stderr",
          "text": [
            "\u001b[32m[INFO]\u001b[0m[2022-03-07 15:51:59]: \u001b[32mAlogrithm type:<class 'easyrl.configs.ppo_config.PPOConfig'>\u001b[0m\n",
            "\u001b[32m[INFO]\u001b[0m[2022-03-07 15:51:59]: \u001b[32mCreating 1 environments.\u001b[0m\n"
          ]
        },
        {
          "output_type": "stream",
          "name": "stdout",
          "text": [
            "====================================\n",
            "      Device:cpu\n",
            "====================================\n",
            "Loading expert model from: pusher_expert_model.pt.\n"
          ]
        },
        {
          "output_type": "stream",
          "name": "stderr",
          "text": [
            "/usr/local/lib/python3.7/dist-packages/gym/logger.py:30: UserWarning: \u001b[33mWARN: Box bound precision lowered by casting to float32\u001b[0m\n",
            "  warnings.warn(colorize('%s: %s'%('WARN', msg % args), 'yellow'))\n"
          ]
        }
      ],
      "source": [
        "# load the expert agent\n",
        "set_configs()\n",
        "env = make_vec_env(cfg.alg.env_name,\n",
        "                   cfg.alg.num_envs,\n",
        "                   seed=cfg.alg.seed)\n",
        "expert_agent = load_expert_agent(env, device=cfg.alg.device)"
      ]
    },
    {
      "cell_type": "markdown",
      "metadata": {
        "id": "f9STNFnFyJJi"
      },
      "source": [
        "Let's check how good the expert policy is and visualize its performance using `eval_agent` which takes an agent and evaluates it in a specified environment. This function will return to you the succes rate over all trajectories, the mean and standard deviation of total returns, the total returns of each trajectory, and the success of each trajectory."
      ]
    },
    {
      "cell_type": "code",
      "execution_count": null,
      "metadata": {
        "colab": {
          "base_uri": "https://localhost:8080/",
          "height": 67,
          "referenced_widgets": [
            "e541c898259f4e87979c9a43355d95c2",
            "a146599ac5fd4bec997db9516a1818fd",
            "df8d79cc03a2497b864277dc2c2388fb",
            "c075602a8c714727b0b3ade1740d805f",
            "528d08055a35476c85263060ed30924c",
            "2cf2d5b1e9c2437da84834332b630177",
            "2afed3bfe0b54548b2b6983eeaaff679",
            "1ff86f25de8d43fdad732fd2fece7526",
            "f8e408ecb4264bddbca6788e3a30d84b",
            "f736d53d94934c7a9c153f8651ab5c3e",
            "cb2410aa2f004f8cbf0e0141740577f4"
          ]
        },
        "id": "aOJmhwpmyJJj",
        "outputId": "711518e8-e87a-4990-db41-520161cf6c95"
      },
      "outputs": [
        {
          "output_type": "display_data",
          "data": {
            "application/vnd.jupyter.widget-view+json": {
              "model_id": "e541c898259f4e87979c9a43355d95c2",
              "version_minor": 0,
              "version_major": 2
            },
            "text/plain": [
              "Run:   0%|          | 0/500 [00:00<?, ?it/s]"
            ]
          },
          "metadata": {}
        },
        {
          "output_type": "stream",
          "name": "stdout",
          "text": [
            "Expert policy success rate:0.86\n"
          ]
        }
      ],
      "source": [
        "success_rate, ret_mean, ret_std, rets, successes = eval_agent(expert_agent, env, 500)\n",
        "# you might see some variance in the success rate here, \n",
        "# if you rollout the policies more times, the success rate will be more stable\n",
        "print(f'Expert policy success rate:{success_rate}')"
      ]
    },
    {
      "cell_type": "code",
      "execution_count": null,
      "metadata": {
        "colab": {
          "base_uri": "https://localhost:8080/",
          "height": 49,
          "referenced_widgets": [
            "b3872f1b0cb34be2837ce46b42ebb549",
            "8342d8cf7e424df0bb8900c51129dcf0",
            "80606229c0304416992ffe790e688b0d",
            "1e94473ac3fa41ee96349a96372f6ed1",
            "6de666ca58204157bfe8521fb28cafc6",
            "a370cf61cf024e289cfa1f37f7b4045f",
            "2cb57313b8fa40ea9670f340d2480e91",
            "6b5bef5c500441d2a9c4f5ba11ef3af9",
            "4579b864d19c4edf8d65b33d65028e8b",
            "c3d8abb1b3544965bfbc0a0b43a65573",
            "0167bdd867154c5d9da0714974deddd5"
          ]
        },
        "id": "i_j_Nd4FyxUM",
        "outputId": "5ee80548-3c03-4e1d-e098-8cb2f5f11016"
      },
      "outputs": [
        {
          "output_type": "display_data",
          "data": {
            "application/vnd.jupyter.widget-view+json": {
              "model_id": "b3872f1b0cb34be2837ce46b42ebb549",
              "version_minor": 0,
              "version_major": 2
            },
            "text/plain": [
              "Run:   0%|          | 0/5 [00:00<?, ?it/s]"
            ]
          },
          "metadata": {}
        }
      ],
      "source": [
        "# if you set `render=True`, it will save each evaluation trajectory in `tmp`\n",
        "# and you can use `play_video` to visually check the trajectory\n",
        "success_rate, ret_mean, ret_std, rets, successes = eval_agent(expert_agent, env, 5, render=True)"
      ]
    },
    {
      "cell_type": "code",
      "execution_count": null,
      "metadata": {
        "colab": {
          "base_uri": "https://localhost:8080/",
          "height": 321
        },
        "id": "fzdpunm85f9G",
        "outputId": "6504cde1-48e5-4804-8333-e73a8a36db9d"
      },
      "outputs": [
        {
          "output_type": "display_data",
          "data": {
            "text/html": [
              "\n",
              "    <video width=400 controls>\n",
              "        <source src=\"data:video/mp4;base64,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\" type=\"video/mp4\">\n",
              "    </video>\n",
              "    "
            ],
            "text/plain": [
              "<IPython.core.display.HTML object>"
            ]
          },
          "metadata": {}
        }
      ],
      "source": [
        "play_video('tmp', video_id=2)"
      ]
    },
    {
      "cell_type": "markdown",
      "metadata": {
        "id": "43jIXtG82l5-"
      },
      "source": [
        "Finally, let's generate a dataset of 50 expert demonstrations."
      ]
    },
    {
      "cell_type": "code",
      "execution_count": null,
      "metadata": {
        "colab": {
          "base_uri": "https://localhost:8080/",
          "height": 49,
          "referenced_widgets": [
            "8e08bc08cf734433a702513a919270c6",
            "08c3379882fc4b87a0bddffda7e3e57c",
            "353dfef2ebb544538b56efa915ab397e",
            "ab13d92923c24955ac1796d4a8419ad1",
            "c794a83f2bc848b7a0821ca1fb1d4313",
            "2af21f0d5c2f4f0ea082fedddcee1d0c",
            "aa4bf166ec4c4f22b50b82eb2d2c628d",
            "6c9f79ff074245f6948c478d976ccb80",
            "6207830c643d493a89ae4ac2ea2186be",
            "fad24b00a7cd4e1c94f8506a5eb38b7e",
            "2c9d46d4051a4e2da6adb87909b95996"
          ]
        },
        "id": "StpJmhoHrfSl",
        "outputId": "fd3219ff-b14c-48ce-d63a-040086a340b7"
      },
      "outputs": [
        {
          "output_type": "display_data",
          "data": {
            "application/vnd.jupyter.widget-view+json": {
              "model_id": "8e08bc08cf734433a702513a919270c6",
              "version_minor": 0,
              "version_major": 2
            },
            "text/plain": [
              "Run:   0%|          | 0/50 [00:00<?, ?it/s]"
            ]
          },
          "metadata": {}
        }
      ],
      "source": [
        "expert_trajs = generate_demonstration_data(expert_agent=expert_agent,\n",
        "                                           env=env,\n",
        "                                           num_trials=50)"
      ]
    },
    {
      "cell_type": "markdown",
      "metadata": {
        "id": "8oc16tBF2qbS"
      },
      "source": [
        "## Behavior Cloning (BC)\n",
        "\n",
        "Now that we have expert demonstrations, let's use supervised learning (behavior cloning) to clone expert behavior. "
      ]
    },
    {
      "cell_type": "code",
      "execution_count": null,
      "metadata": {
        "id": "llNeMbYH1vB7"
      },
      "outputs": [],
      "source": [
        "class TrajDataset(Dataset):\n",
        "    def __init__(self, trajs):\n",
        "        states = []\n",
        "        actions = []\n",
        "        for traj in trajs:\n",
        "            states.append(traj.obs)\n",
        "            actions.append(traj.actions)\n",
        "        self.states = np.concatenate(states, axis=0)\n",
        "        self.actions = np.concatenate(actions, axis=0)\n",
        "\n",
        "    def __len__(self):\n",
        "        return self.states.shape[0]\n",
        "\n",
        "    def __getitem__(self, idx):\n",
        "        sample = dict()\n",
        "        sample['state'] = self.states[idx]\n",
        "        sample['action'] = self.actions[idx]\n",
        "        return sample\n",
        "    \n",
        "    def add_traj(self, traj=None, states=None, actions=None):\n",
        "        if traj is not None:\n",
        "            self.states = np.concatenate((self.states, traj.obs), axis=0)\n",
        "            self.actions = np.concatenate((self.actions, traj.actions), axis=0)\n",
        "        else:\n",
        "            self.states = np.concatenate((self.states, states), axis=0)\n",
        "            self.actions = np.concatenate((self.actions, actions), axis=0)            \n",
        "\n",
        "def train_bc_agent(agent, trajs, max_epochs=5000, batch_size=256, lr=0.0005, disable_tqdm=True):\n",
        "    dataset = TrajDataset(trajs)\n",
        "    dataloader = DataLoader(dataset, \n",
        "                            batch_size=batch_size, \n",
        "                            shuffle=True)\n",
        "    optimizer = optim.Adam(agent.actor.parameters(),\n",
        "                           lr=lr)\n",
        "    pbar = tqdm(range(max_epochs), desc='Epoch', disable=disable_tqdm)\n",
        "    logs = dict(loss=[], epoch=[])\n",
        "    for iter in pbar:\n",
        "        avg_loss = []\n",
        "        for batch_idx, sample in enumerate(dataloader):\n",
        "            states = sample['state'].float().to(cfg.alg.device)\n",
        "            expert_actions = sample['action'].float().to(cfg.alg.device)\n",
        "            #### TODO: optimize the policy with the expert data,\n",
        "            #### save the loss in a variable named as 'loss'\n",
        "            #actions, action_info = agent.get_action(states)\n",
        "            probs,_ = agent.actor(states)\n",
        "            loss = -torch.mean(probs.log_prob(expert_actions))\n",
        "            optimizer.zero_grad()\n",
        "            loss.backward()\n",
        "            grad_norm = clip_grad(agent.actor.parameters(),\n",
        "                              cfg.alg.max_grad_norm)\n",
        "            optimizer.step()\n",
        "            ####\n",
        "            pbar.set_postfix({'loss': loss.item()})\n",
        "            avg_loss.append(loss.item())\n",
        "        logs['loss'].append(np.mean(avg_loss))\n",
        "        logs['epoch'].append(iter)\n",
        "    return agent, logs, len(dataset)"
      ]
    },
    {
      "cell_type": "markdown",
      "metadata": {
        "id": "iissIMPP3em1"
      },
      "source": [
        "**Q1 (30 pts)**: In the real-world collecting expert demonstrations can be expensive. It would be ideal if we can learn a good policy with only a few demonstrations. To gain an understanding of how much data is necessary, lets measure the performance of the learned policy with varying amounts of expert data. Fill in the missing code and train a BC policy using `train_bc_agent` (the default hyperparameters should be sufficient) with $1, 3, 15, 25, 50$ expert trajectories (note that we've already generated 50 trajectories above so you can just index into these!). You should store each of the trained agents (as well as the mean and std of return) for future comparison against in future parts of this assignment. \n",
        "\n",
        "Once you have trained the BC policy, evaluate your policy on $200$ episodes and plot the average success rate (returned by 'eval_agent') as a function of the number of expert transitions used in training. Note that not all trajectories have the same length. We can think of the number of expert transitions as the number of supervised learning examples or in other words, dataset size (which is returned by `train_bc_agent`). "
      ]
    },
    {
      "cell_type": "code",
      "execution_count": null,
      "metadata": {
        "id": "r82rPZFqaJfE"
      },
      "outputs": [],
      "source": [
        "#### TODO: run BC with 1, 3, 15, 25, 50 demonstrations respectively and plot success\n",
        "num_traj = [1, 3, 15, 25, 50]\n",
        "num_transitions = []\n",
        "trained_agent = []\n",
        "for i in range(len(num_traj)):\n",
        "  trajs = expert_trajs[0:num_traj[i]]\n",
        "  set_configs()\n",
        "  env = make_vec_env(cfg.alg.env_name,\n",
        "                   cfg.alg.num_envs,\n",
        "                   seed=cfg.alg.seed)\n",
        "  agent = BasicAgent(create_actor(env=env))\n",
        "  agent, logs, dataset_len = train_bc_agent(agent, trajs, max_epochs=5000, batch_size=256, lr=0.0005, disable_tqdm=True)\n",
        "  trained_agent.append(agent)\n",
        "  num_transitions.append(dataset_len)\n",
        "#agent.actor.forward\n"
      ]
    },
    {
      "cell_type": "code",
      "execution_count": null,
      "metadata": {
        "id": "B_kbAGkvn2_P"
      },
      "outputs": [],
      "source": [
        "success_log = []\n",
        "for i in range(len(trained_agent)):\n",
        "  success_rate, ret_mean, ret_std, rets, successes = eval_agent(trained_agent[i], env, 200)\n",
        "  success_log.append(success_rate)\n",
        "#print(f'Agent success rate:{success_rate}')"
      ]
    },
    {
      "cell_type": "code",
      "execution_count": null,
      "metadata": {
        "colab": {
          "base_uri": "https://localhost:8080/",
          "height": 351
        },
        "id": "bEtt20tDti1u",
        "outputId": "e218b2f2-9f64-4be9-e494-b968be3a3fce"
      },
      "outputs": [
        {
          "output_type": "execute_result",
          "data": {
            "text/plain": [
              "Text(0, 0.5, 'trained agent success rate')"
            ]
          },
          "metadata": {},
          "execution_count": 24
        },
        {
          "output_type": "display_data",
          "data": {
            "image/png": "[encoded data removed]",
            "text/plain": [
              "<Figure size 360x360 with 1 Axes>"
            ]
          },
          "metadata": {
            "needs_background": "light"
          }
        }
      ],
      "source": [
        "fig,ax= plt.subplots(figsize=(5,5))\n",
        "ax.plot(num_transitions,success_log)\n",
        "ax.set_xlabel('number of expert transitions')\n",
        "ax.set_ylabel('trained agent success rate')"
      ]
    },
    {
      "cell_type": "markdown",
      "metadata": {
        "id": "rggQT1s8yJJm"
      },
      "source": [
        "## DAgger\n",
        "\n",
        "As we have learned in the class, behavior cloning suffers from co-variate shift. One way to mitigate this issue is using DAgger. The key idea of DAgger is as follows: \n",
        "1. Train a behavior cloned policy $\\pi_{\\theta_k}$ by using an expert dataset $D$\n",
        "2. Rollout the current policy $\\pi_{\\theta_k}$ and get a trajectory $(s_0, a_0, s_1, a_1, ...)$.\n",
        "3. Query the expert again and get the expert actions $(a^*_0, a^*_1, ...)$. We can add these extra expert demonstration data $D_k=(s_0, a^*_0, s_1, a^*_1, ...)$ to $D$: $D=D\\cup D_k$. \n",
        "4. Optimize the current policy again with the aggregated dataset $D$.\n",
        "5. Repeat step 2 to 4.\n",
        "\n",
        "In the following section, you will implement DAgger algorithm."
      ]
    },
    {
      "cell_type": "code",
      "execution_count": null,
      "metadata": {
        "id": "vjKKIPqxyJJm"
      },
      "outputs": [],
      "source": [
        "@dataclass\n",
        "class DaggerAgent:\n",
        "    actor: nn.Module\n",
        "    expert_actor: nn.Module\n",
        "    lr: float\n",
        "\n",
        "    def __post_init__(self):\n",
        "        move_to([self.actor, self.expert_actor],\n",
        "                device=cfg.alg.device)\n",
        "        freeze_model(self.expert_actor)\n",
        "        self.optimizer = optim.Adam(self.actor.parameters(),\n",
        "                                    lr=self.lr)\n",
        "    \n",
        "    @torch.no_grad()\n",
        "    def get_action(self, ob, sample=True, *args, **kwargs):\n",
        "        t_ob = torch_float(ob, device=cfg.alg.device)\n",
        "        # the policy returns a multi-variate gaussian distribution\n",
        "        act_dist, _ = self.actor(t_ob)\n",
        "        # sample from the distribution\n",
        "        action = action_from_dist(act_dist,\n",
        "                                  sample=sample)\n",
        "        # get the log-probability of the sampled actions\n",
        "        log_prob = action_log_prob(action, act_dist)\n",
        "        # get the entropy of the action distribution\n",
        "        entropy = action_entropy(act_dist, log_prob)\n",
        "        action_info = dict(\n",
        "            log_prob=torch_to_np(log_prob),\n",
        "            entropy=torch_to_np(entropy),\n",
        "        )\n",
        "        # get the expert action from the expert policy\n",
        "        exp_act_dist, _ = self.expert_actor(t_ob)\n",
        "        action_info['exp_act'] = exp_act_dist.mean\n",
        "        return torch_to_np(action), action_info\n",
        "\n",
        "    def optimize(self, data, **kwargs):\n",
        "        for key, val in data.items():\n",
        "            data[key] = torch_float(val, device=cfg.alg.device)\n",
        "        ob = data['state']\n",
        "        exp_act = data['action']\n",
        "        #### TODO: optimize the policy\n",
        "        probs,_ = self.actor(ob)\n",
        "        loss = -torch.mean(probs.log_prob(exp_act))\n",
        "        self.optimizer.zero_grad()\n",
        "        loss.backward()\n",
        "        ####\n",
        "        \n",
        "        grad_norm = clip_grad(self.actor.parameters(),\n",
        "                              cfg.alg.max_grad_norm)\n",
        "        self.optimizer.step()\n",
        "\n",
        "        optim_info = dict(\n",
        "            loss=loss.item(),\n",
        "            grad_norm=grad_norm,\n",
        "        )\n",
        "        return optim_info\n",
        "    \n",
        "    def save_model(self, is_best=False, step=None):\n",
        "        data_to_save = {\n",
        "            'actor_state_dict': self.actor.state_dict()\n",
        "        }\n",
        "        save_model(data_to_save, cfg.alg, is_best=is_best, step=step)"
      ]
    },
    {
      "cell_type": "code",
      "execution_count": null,
      "metadata": {
        "id": "Mi2w-7rMyJJm"
      },
      "outputs": [],
      "source": [
        "@dataclass\n",
        "class DaggerEngine:\n",
        "    agent: Any\n",
        "    runner: Any\n",
        "    env: Any\n",
        "    trajs: Any\n",
        "\n",
        "    def __post_init__(self):\n",
        "        self.dataset = TrajDataset(self.trajs)\n",
        "        \n",
        "    def train(self):\n",
        "        success_rates = []\n",
        "        dataset_sizes = []\n",
        "        self.cur_step = 0\n",
        "        for iter_t in count():\n",
        "            if iter_t % cfg.alg.eval_interval == 0:\n",
        "                success_rate, ret_mean, ret_std, rets, successes = eval_agent(self.agent, \n",
        "                                                                              self.env, \n",
        "                                                                              200,\n",
        "                                                                              disable_tqdm=True)\n",
        "                success_rates.append(success_rate)\n",
        "                dataset_sizes.append(len(self.dataset))\n",
        "            # rollout the current policy and get a trajectory\n",
        "            traj = self.runner(sample=True, get_last_val=False, time_steps=cfg.alg.episode_steps)\n",
        "            # optimize the policy\n",
        "            self.train_once(traj)\n",
        "            if self.cur_step > cfg.alg.max_steps:\n",
        "                break\n",
        "        return dataset_sizes, success_rates\n",
        "\n",
        "    def train_once(self, traj):\n",
        "        self.cur_step += traj.total_steps\n",
        "\n",
        "        action_infos = traj.action_infos\n",
        "        exp_act = torch.stack([ainfo['exp_act'] for ainfo in action_infos])\n",
        "\n",
        "        self.dataset.add_traj(states=traj.obs,\n",
        "                              actions=exp_act.cpu())\n",
        "        rollout_dataloader = DataLoader(self.dataset,\n",
        "                                        batch_size=cfg.alg.batch_size,\n",
        "                                        shuffle=True,\n",
        "                                       )\n",
        "        optim_infos = []\n",
        "        for oe in range(cfg.alg.opt_epochs):\n",
        "            for batch_ndx, batch_data in enumerate(rollout_dataloader):\n",
        "                optim_info = self.agent.optimize(batch_data)\n",
        "                optim_infos.append(optim_info)        "
      ]
    },
    {
      "cell_type": "code",
      "execution_count": null,
      "metadata": {
        "id": "dmR9pws5yJJm"
      },
      "outputs": [],
      "source": [
        "def train_dagger(expert_actor, trajs, actor=None):\n",
        "    expert_actor = deepcopy(expert_actor)\n",
        "    actor = deepcopy(actor)\n",
        "    set_configs('dagger')\n",
        "    cfg.alg.episode_steps = 30\n",
        "    cfg.alg.max_steps = 1200\n",
        "    cfg.alg.eval_interval = 1\n",
        "    cfg.alg.log_interval = 1\n",
        "    cfg.alg.batch_size = 256\n",
        "    cfg.alg.opt_epochs = 500\n",
        "    set_random_seed(cfg.alg.seed)\n",
        "    env = make_vec_env(cfg.alg.env_name,\n",
        "                       cfg.alg.num_envs,\n",
        "                       seed=cfg.alg.seed)\n",
        "    env.reset()\n",
        "    if actor is None:\n",
        "        actor = create_actor(env=env)\n",
        "    dagger_agent = DaggerAgent(actor=actor, expert_actor=expert_actor, lr=0.001)\n",
        "    runner = EpisodicRunner(agent=dagger_agent, env=env)\n",
        "    engine = DaggerEngine(agent=dagger_agent,\n",
        "                          env=env,\n",
        "                          runner=runner,\n",
        "                          trajs=trajs)\n",
        "    dataset_sizes, success_rates = engine.train()\n",
        "    return dagger_agent, dataset_sizes, success_rates"
      ]
    },
    {
      "cell_type": "markdown",
      "metadata": {
        "id": "eiCsY4bfLuK4"
      },
      "source": [
        "**Q2 (30 pts)**: Complete the missing code for `DaggerAgent` (define the loss function and optimize the policy). Train a DAgger agent using `train_dagger` with the behaviorally cloned agent that was trained on just one demonstration as the initial policy, $\\pi_{\\theta_k}$, the same demonstration as the initial dataset, $D$, and the expert that will provide expert actions as our pre-trained expert model.\n",
        "\n",
        "Similar to Q1, plot the success rate curves for both DAgger and BC as a function of the number of expert transitions (e.g., dataset size) available at training. Your DAgger and BC curves should reach similarly high performance with enough data while DAgger will reach a high success rate earlier."
      ]
    },
    {
      "cell_type": "code",
      "execution_count": null,
      "metadata": {
        "id": "bUu6sO9VyJJn"
      },
      "outputs": [],
      "source": [
        "#### TODO: train DAgger agent and plot the success rate curves for BC and DAgger together\n",
        "start_agent =  trained_agent[0]\n",
        "trajs = expert_trajs[0:1]\n",
        "dagger_agent, dataset_sizes, success_rates = train_dagger(expert_agent.actor, trajs, actor=start_agent.actor)"
      ]
    },
    {
      "cell_type": "code",
      "execution_count": null,
      "metadata": {
        "colab": {
          "base_uri": "https://localhost:8080/",
          "height": 389
        },
        "id": "MQ5jpdsRud7c",
        "outputId": "255ac44f-6193-4dee-a0d1-ae7fe3e9461e"
      },
      "outputs": [
        {
          "output_type": "execute_result",
          "data": {
            "text/plain": [
              "<matplotlib.legend.Legend at 0x7f2e16a9b0d0>"
            ]
          },
          "metadata": {},
          "execution_count": 36
        },
        {
          "output_type": "display_data",
          "data": {
            "image/png": "[encoded data removed]",
            "text/plain": [
              "<Figure size 360x360 with 1 Axes>"
            ]
          },
          "metadata": {
            "needs_background": "light"
          }
        }
      ],
      "source": [
        "fig,ax= plt.subplots(figsize=(5,5))\n",
        "ax.plot(dataset_sizes,success_rates,label='DAgger')\n",
        "ax.plot(num_transitions,success_log,label='BC')\n",
        "ax.set_xlabel('number of expert transitions')\n",
        "ax.set_ylabel('trained agent success rate')\n",
        "fig.legend()"
      ]
    },
    {
      "cell_type": "markdown",
      "metadata": {
        "id": "USXTaSC-yJJo"
      },
      "source": [
        "# RL Finetune\n",
        "\n",
        "In DAgger, an expert is required to query the optimal action at every step during training time. However, an expert may not always be available. In the context of autonomous vehicles, for behavior cloning an expert driver is only required to collect the initial dataset of expert demonstrations while for DAgger we would need an expert to see everything the vehicle does and relabel the data in a continuous cycle during all of training. Clearly this approach does not scale, especially if obtaining these expert labels is costly.\n",
        "\n",
        "In such cases where an expert is unavailable during the training process, if we have access to the reward function in addition to a few demonstrations, then we can combine RL and behavior cloning to improve performance. \n",
        "\n",
        "In the following section, we will use PPO to finetune the behavior-cloned policy. We have provided you with a `train_ppo` function that you are free to modify. Note that typically we use multi-process to roll out many agents in parallel in PPO. It typically leads to faster and more stable learning. One way to get around parallelization is to have one policy update step after collecting many rollouts with the same policy. Here, our environment terminates after $30$ steps and gets reset, but `episode_steps` is set to 900, so we will have $30$ agents' rollout experience for every single step of policy optimization."
      ]
    },
    {
      "cell_type": "code",
      "execution_count": null,
      "metadata": {
        "id": "lG9_a5WtyJJo"
      },
      "outputs": [],
      "source": [
        "def train_ppo(actor=None, save_dir=None, max_steps=1000000):\n",
        "    set_config('ppo')\n",
        "    cfg.alg.num_envs = 1\n",
        "    cfg.alg.episode_steps = 900\n",
        "    cfg.alg.max_steps = max_steps\n",
        "    cfg.alg.deque_size = 20\n",
        "    cfg.alg.eval_interval = 10\n",
        "    cfg.alg.log_interval = 1\n",
        "    cfg.alg.device = 'cuda' if torch.cuda.is_available() else 'cpu'\n",
        "    cfg.alg.env_name = 'URPusher-v1'\n",
        "    cfg.alg.save_dir = Path.cwd().absolute().joinpath('data').as_posix()\n",
        "    cfg.alg.save_dir += '/rl_finetune' if save_dir is None else f'/{save_dir}'\n",
        "    setattr(cfg.alg, 'diff_cfg', dict(save_dir=cfg.alg.save_dir))\n",
        "\n",
        "    print(f'====================================')\n",
        "    print(f'      Device:{cfg.alg.device}')\n",
        "    print(f'      Total number of steps:{cfg.alg.max_steps}')\n",
        "    print(f'====================================')\n",
        "\n",
        "    set_random_seed(cfg.alg.seed)\n",
        "    env = make_vec_env(cfg.alg.env_name,\n",
        "                       cfg.alg.num_envs,\n",
        "                       seed=cfg.alg.seed)\n",
        "    env.reset()\n",
        "    ob_size = env.observation_space.shape[0]\n",
        "\n",
        "    if actor is None:\n",
        "        actor = create_actor(env=env)\n",
        "    actor = deepcopy(actor)\n",
        "\n",
        "    critic_body = MLP(input_size=ob_size,\n",
        "                     hidden_sizes=[64],\n",
        "                     output_size=64,\n",
        "                     hidden_act=nn.Tanh,\n",
        "                     output_act=nn.Tanh)\n",
        "\n",
        "    critic = ValueNet(critic_body, in_features=64)\n",
        "    agent = PPOAgent(actor=actor, critic=critic, env=env)\n",
        "    runner = EpisodicRunner(agent=agent, env=env)\n",
        "    engine = PPOEngine(agent=agent,\n",
        "                       runner=runner)\n",
        "    engine.train()\n",
        "    return agent, engine, cfg.alg.save_dir"
      ]
    },
    {
      "cell_type": "markdown",
      "metadata": {
        "id": "jLbAZ37RyJJo"
      },
      "source": [
        "**Q3 (20 pts)**: Compare the learning curves (both the return curve and the success rate curve) of the following two cases. Train both for 600K steps.\n",
        "* train a policy from scratch for the pusher environment\n",
        "* finetune a behavior-cloned policies with RL (specifically here, use the BC agent trained with 3 demonstration trajectories from Q1)\n",
        "\n",
        "On the return and success rate curves, also plot the average return with its uncertainty as well as the average success rate for the BC agent trained on 3 demonstrations without any fine-turning (you should've cached this from Q1)."
      ]
    },
    {
      "cell_type": "code",
      "source": [
        "success_rate, ret_mean, ret_std, rets, successes = eval_agent(trained_agent[1], env, 200)"
      ],
      "metadata": {
        "colab": {
          "base_uri": "https://localhost:8080/",
          "height": 49,
          "referenced_widgets": [
            "e5dc5628c4be4d1a9ac1602a422786b9",
            "05ef8646251f44a7bc45d573f35a4867",
            "5ed98da9178443a4a199d0c236ef2cbb",
            "c679d2bb3642478192de07d3bd6ebebe",
            "1ef026a30d7c48a59bf3d9e44df561f0",
            "8af1178265bc48d8a9b4fd5160aa960b",
            "7d7f2f49cbce41bf8c43e99537a4f620",
            "f8e7c91b366f4d38bbcb2d59517039ed",
            "821fb3cdd9f644ba817f3f44a73ef939",
            "db9e26370142424f86a224305ec37a0f",
            "1d6eee9a903348ff84a0e31b9f0b1dbe"
          ]
        },
        "id": "0mQLbdKBzkV7",
        "outputId": "0c8fde64-40ec-49ff-adb4-3f28a6632d8b"
      },
      "execution_count": null,
      "outputs": [
        {
          "output_type": "display_data",
          "data": {
            "application/vnd.jupyter.widget-view+json": {
              "model_id": "e5dc5628c4be4d1a9ac1602a422786b9",
              "version_minor": 0,
              "version_major": 2
            },
            "text/plain": [
              "Run:   0%|          | 0/200 [00:00<?, ?it/s]"
            ]
          },
          "metadata": {}
        }
      ]
    },
    {
      "cell_type": "code",
      "execution_count": null,
      "metadata": {
        "id": "NbSvSvCWyJJo"
      },
      "outputs": [],
      "source": [
        "#### TODO: use PPO to (1) train a policy from scratch and (2) finetune the behavior cloned policy \n",
        "#### trained with 3 demonstration trajectories\n",
        "# (1)\n",
        "\n",
        "train_ppo(actor=None, save_dir=None, max_steps=600000)"
      ]
    },
    {
      "cell_type": "code",
      "execution_count": null,
      "metadata": {
        "id": "Na6VeSbkH1UC"
      },
      "outputs": [],
      "source": [
        "# 2\n",
        "expert_agent = trained_agent[1]\n",
        "expert_actor = expert_agent.actor\n",
        "trajs = expert_trajs[0:3]\n",
        "train_ppo(actor=expert_actor, save_dir='rl_finetune2', max_steps=600000)"
      ]
    },
    {
      "cell_type": "code",
      "execution_count": null,
      "metadata": {
        "colab": {
          "base_uri": "https://localhost:8080/",
          "height": 240
        },
        "id": "yqZjoVXIGeR7",
        "outputId": "4f1d5a47-6b81-4d07-c9ba-9213d4c06c08"
      },
      "outputs": [
        {
          "output_type": "display_data",
          "data": {
            "image/png": "[encoded data removed]",
            "text/plain": [
              "<Figure size 288x216 with 1 Axes>"
            ]
          },
          "metadata": {
            "needs_background": "light"
          }
        }
      ],
      "source": [
        "data_log1 = read_tf_log('/content/data/rl_finetune/seed_0/log')\n",
        "#return_dict1 ={'return':[data_log1[0],data_log1[1]]}\n",
        "data_log2 = read_tf_log('/content/data/rl_finetune2/seed_0/log')\n",
        "return_dict ={'return_scratch':[data_log1[0],data_log1[1]],'return_finetune':[data_log2[0],data_log2[1]]}\n",
        "plot_curves(return_dict, 'return curve')\n",
        "steps = np.arange(600000)\n",
        "plt.plot(steps,ret_mean*np.ones(600000),color='red')\n",
        "plt.fill_between(steps,ret_mean-ret_std,ret_mean+ret_std,alpha=0.3,color='red')\n",
        "plt.ticklabel_format(axis=\"x\", style=\"sci\", scilimits=(0,0))\n",
        "#plot_curves(return_dict1, 'policy from scratch return curve')"
      ]
    },
    {
      "cell_type": "code",
      "execution_count": null,
      "metadata": {
        "colab": {
          "base_uri": "https://localhost:8080/",
          "height": 240
        },
        "id": "bI7IolafG5kq",
        "outputId": "cdc9c162-e370-4d0b-d89e-48679513a88e"
      },
      "outputs": [
        {
          "output_type": "display_data",
          "data": {
            "image/png": "[encoded data removed]",
            "text/plain": [
              "<Figure size 288x216 with 1 Axes>"
            ]
          },
          "metadata": {
            "needs_background": "light"
          }
        }
      ],
      "source": [
        "#data_log1 = read_tf_log('/content/data/rl_finetune/seed_0/log')\n",
        "#return_dict1 ={'return':[data_log1[0],data_log1[1]]}\n",
        "#data_log2 = read_tf_log('/content/data/rl_finetune2/seed_0/log')\n",
        "success_dict ={'return_scratch':[data_log1[0],data_log1[2]],'return_finetune':[data_log2[0],data_log2[2]]}\n",
        "plot_curves(success_dict, 'success curve')\n",
        "steps = np.arange(600000)\n",
        "plt.plot(steps,success_rate*np.ones(600000),color='red')\n",
        "plt.ticklabel_format(axis=\"x\", style=\"sci\", scilimits=(0,0))"
      ]
    },
    {
      "cell_type": "markdown",
      "metadata": {
        "id": "Tg1dXaEI3_zO"
      },
      "source": [
        "**Q (20 pts):** Do you see any difference in performance at the end of training? How about in learning or convergence rate? What about in comparison to the BC agent without fine-tuning? If so, describe them in detail.\n",
        "\n",
        "**A:** At the end of the training, I do see that the performance of the second model(fine tune from behavioral clone with 3 demonstrations) is slightly better than the first model (from scratch). The overall success rate is higher and more stable. Compared to training from scratch, the finetune model seems to have a phase of faster convergence between 200k to 400k steps. It seems that the finetune model was mostly following demonstration at the beginning with a mediocre success rate and quickly improved learning over 200k to 400k. The from scratch model, on the other hand, improved learning relatively steadily and slowly. Both methods all perform much better than BC agent without finetuning. The success rate can reach much higher. This indicates that combining RL and BC does provide much better performance. "
      ]
    },
    {
      "cell_type": "markdown",
      "metadata": {
        "id": "3XKefZnUkhn9"
      },
      "source": [
        "# Suboptimal Demonstrations\n",
        "\n",
        "In many cases, we might not have a good expert model available. Thus, the demonstrations we get from the expert will not be optimal. In the following section, we will use a sub-optimal expert model to generate the demonstration data, use such data to train a BC agent, and see if the policy can be improved by RL."
      ]
    },
    {
      "cell_type": "code",
      "execution_count": null,
      "metadata": {
        "id": "D_rn4MTlkgwd"
      },
      "outputs": [],
      "source": [
        "# Download the suboptimal expert model\n",
        "!wget --no-check-certificate -r 'https://docs.google.com/uc?export=download&id=1AzWwGkOcZxrx43kNhD-7TPj06bIKRSXX' -O pusher_suboptimal_expert_model.pt"
      ]
    },
    {
      "cell_type": "code",
      "execution_count": null,
      "metadata": {
        "id": "lm6zsswIk-GG"
      },
      "outputs": [],
      "source": [
        "# same as before, let's load a suboptimal expert model\n",
        "set_configs()\n",
        "env = make_vec_env(cfg.alg.env_name,\n",
        "                   cfg.alg.num_envs,\n",
        "                   seed=cfg.alg.seed)\n",
        "sub_expert_agent = load_expert_agent(env, device=cfg.alg.device, expert_model_path='pusher_suboptimal_expert_model.pt')"
      ]
    },
    {
      "cell_type": "code",
      "execution_count": null,
      "metadata": {
        "id": "46UVq87olOtp",
        "colab": {
          "base_uri": "https://localhost:8080/",
          "height": 67,
          "referenced_widgets": [
            "c6f082c24f8442459aadd20e736c8a56",
            "39161c7d70b8426fbfcde6c72df99f5f",
            "5218f859552041e78cd45335af29c3aa",
            "e17d2279fa674722ab2e441522129591",
            "78438157db294b84a41b48765f51b0d2",
            "d1a3ac41558f40efad08e2fa6cea886e",
            "1bcc129b3c814e43aad397a662d28b95",
            "bf263c42cfae41a5b93fc0e21a41310e",
            "ba078403917c4dfd85077c2605bf32a8",
            "7ea44c0855fc417fb0e4341ab0451cb0",
            "f1d5ed9722a44489bf843e04d6e4b236"
          ]
        },
        "outputId": "ba1cdcb5-18f3-47dd-ae6c-146bb6290d25"
      },
      "outputs": [
        {
          "output_type": "display_data",
          "data": {
            "application/vnd.jupyter.widget-view+json": {
              "model_id": "c6f082c24f8442459aadd20e736c8a56",
              "version_minor": 0,
              "version_major": 2
            },
            "text/plain": [
              "Run:   0%|          | 0/500 [00:00<?, ?it/s]"
            ]
          },
          "metadata": {}
        },
        {
          "output_type": "stream",
          "name": "stdout",
          "text": [
            "Expert policy success rate:0.626\n"
          ]
        }
      ],
      "source": [
        "# let's see how good the expert model is\n",
        "success_rate, ret_mean, ret_std, rets, successes = eval_agent(sub_expert_agent, env, 500)\n",
        "print(f'Expert policy success rate:{success_rate}')"
      ]
    },
    {
      "cell_type": "code",
      "execution_count": null,
      "metadata": {
        "id": "NSKBXNkemyvr",
        "colab": {
          "base_uri": "https://localhost:8080/",
          "height": 49,
          "referenced_widgets": [
            "a631d5497e2b4c8e97be119a6d752f81",
            "90a9e71da48a4b7fb1acd4b8fa23bb97",
            "d905be22a1f94216ad91f27f8e85c780",
            "33205ef4ba654fc09e64887a73c77e7c",
            "dd6a81d080bc4b64aa7a5fc7b5e45458",
            "bcc95d17048646d9990180a29c8f1916",
            "85cb1230f537425a8ac4ee7ffbedd69e",
            "13c3c3b0081a49f1973171fcef4b392c",
            "d089de6632674e52aefc8c1ca749d73e",
            "bbc77089ab594aae82d383a9561fe1de",
            "c0c874cea08740c2b637785da7ce5bf2"
          ]
        },
        "outputId": "b7aebc73-961e-474c-8a4d-d1c858d38f9e"
      },
      "outputs": [
        {
          "output_type": "display_data",
          "data": {
            "application/vnd.jupyter.widget-view+json": {
              "model_id": "a631d5497e2b4c8e97be119a6d752f81",
              "version_minor": 0,
              "version_major": 2
            },
            "text/plain": [
              "Run:   0%|          | 0/50 [00:00<?, ?it/s]"
            ]
          },
          "metadata": {}
        }
      ],
      "source": [
        "# let's use this suboptimal expert model to generate some demonstrations\n",
        "sub_expert_trajs = generate_demonstration_data(expert_agent=sub_expert_agent,\n",
        "                                               env=env,\n",
        "                                               num_trials=50)"
      ]
    },
    {
      "cell_type": "markdown",
      "metadata": {
        "id": "2hkjfWp22l6F"
      },
      "source": [
        "**Q4.1 (10 pts)**: Similar to Q1, train a BC policy using `train_bc_agent` with $1, 3, 15, 25, 50$ suboptimal trajectories. Once you have trained the BC policy (cloned on suboptimal data), evaluate your policy on $200$ episodes and plot the average success rate (returned by 'eval_agent') as a function of the number of expert transitions used in training."
      ]
    },
    {
      "cell_type": "code",
      "execution_count": null,
      "metadata": {
        "id": "CZDHchoCmfRQ"
      },
      "outputs": [],
      "source": [
        "### TODO run BC with 1, 3, 15, 25, 50 demonstrations respectively and plot success\n",
        "num_traj = [1, 3, 15, 25, 50]\n",
        "num_transitions_sub = []\n",
        "trained_agent_sub = []\n",
        "for i in range(len(num_traj)):\n",
        "  trajs = sub_expert_trajs[0:num_traj[i]]\n",
        "  set_configs()\n",
        "  env = make_vec_env(cfg.alg.env_name,\n",
        "                   cfg.alg.num_envs,\n",
        "                   seed=cfg.alg.seed)\n",
        "  agent = BasicAgent(create_actor(env=env))\n",
        "  agent, logs, dataset_len = train_bc_agent(agent, trajs, max_epochs=5000, batch_size=256, lr=0.0005, disable_tqdm=True)\n",
        "  trained_agent_sub.append(agent)\n",
        "  num_transitions_sub.append(dataset_len)"
      ]
    },
    {
      "cell_type": "code",
      "source": [
        "success_log = []\n",
        "for i in range(len(trained_agent_sub)):\n",
        "  success_rate, ret_mean, ret_std, rets, successes = eval_agent(trained_agent_sub[i], env, 200)\n",
        "  success_log.append(success_rate)\n",
        "#print(f'Agent success rate:{success_rate}')"
      ],
      "metadata": {
        "id": "sVCPMNDcrpx4"
      },
      "execution_count": null,
      "outputs": []
    },
    {
      "cell_type": "code",
      "source": [
        "fig,ax= plt.subplots(figsize=(5,5))\n",
        "ax.plot(num_transitions,success_log)\n",
        "ax.set_xlabel('number of expert transitions')\n",
        "ax.set_ylabel('trained agent success rate')"
      ],
      "metadata": {
        "colab": {
          "base_uri": "https://localhost:8080/",
          "height": 351
        },
        "id": "xndpASr0shcv",
        "outputId": "22da0c9f-fd56-475f-f3ad-c57e97605425"
      },
      "execution_count": null,
      "outputs": [
        {
          "output_type": "execute_result",
          "data": {
            "text/plain": [
              "Text(0, 0.5, 'trained agent success rate')"
            ]
          },
          "metadata": {},
          "execution_count": 63
        },
        {
          "output_type": "display_data",
          "data": {
            "image/png": "[encoded data removed]",
            "text/plain": [
              "<Figure size 360x360 with 1 Axes>"
            ]
          },
          "metadata": {
            "needs_background": "light"
          }
        }
      ]
    },
    {
      "cell_type": "markdown",
      "metadata": {
        "id": "M70CtVFNFKwN"
      },
      "source": [
        "**Q4.2 (20 pts)**: Similar to in Q3, run RL-finetune with the behavior-cloned policy trained from 3 suboptimal demonstration trajectories. Plot the return and success rate of the agent. On the same graph, also plot the same values for the from scratch and RL-finetune'd on 3 optimal demonstrations policies. Does RL-finetune help improve the policy performance?\n",
        "\n",
        "**A**: (sorry that I didn't plot all threee curves on the same plot, but you could refer to the previous one for optimal demonstration + finetune. My runtime disconnected and the data is lost and I don't have time to run it again to plot. Thanks for understanding) For the suboptimal demonstration as a starting point, it seems that RL-finetune doesn't help with fine tuning as much. There is a slight increase of return over the course of training but the success rate is quite unstable. Compared to the optimal demonstration, the suboptimal demonstration seems easier to get stuck during training."
      ]
    },
    {
      "cell_type": "code",
      "execution_count": null,
      "metadata": {
        "id": "T5Zt-D0gtXuv"
      },
      "outputs": [],
      "source": [
        "### TODO finetune bc policy trained on 3 suboptimal demonstrations. \n",
        "### plot in comparison with from scratch and finetune on optimal demonstrations\n",
        "success_rate, ret_mean, ret_std, rets, successes = eval_agent(trained_agent_sub[1], env, 200)\n",
        "expert_agent = trained_agent_sub[1]\n",
        "expert_actor = expert_agent.actor\n",
        "train_ppo(actor=expert_actor, save_dir='rl_finetune3', max_steps=600000)"
      ]
    },
    {
      "cell_type": "code",
      "source": [
        "data_log1 = read_tf_log('/content/data/rl_finetune/seed_0/log')\n",
        "#return_dict1 ={'return':[data_log1[0],data_log1[1]]}\n",
        "data_log3 = read_tf_log('/content/data/rl_finetune3/seed_0/log')\n",
        "return_dict ={'return_scratch':[data_log1[0],data_log1[1]],'return_finetune_sub':[data_log3[0],data_log3[1]]}\n",
        "plot_curves(return_dict, 'return curve')\n",
        "steps = np.arange(600000)\n",
        "plt.plot(steps,ret_mean*np.ones(600000),color='red')\n",
        "plt.fill_between(steps,ret_mean-ret_std,ret_mean+ret_std,alpha=0.3,color='red')\n",
        "plt.ticklabel_format(axis=\"x\", style=\"sci\", scilimits=(0,0))\n",
        "#plot_curves(return_dict1, 'policy from scratch return curve')"
      ],
      "metadata": {
        "colab": {
          "base_uri": "https://localhost:8080/",
          "height": 240
        },
        "id": "xuTZPjo_0yj_",
        "outputId": "5728d876-1b78-4896-8f2f-85d991aee0ef"
      },
      "execution_count": null,
      "outputs": [
        {
          "output_type": "display_data",
          "data": {
            "image/png": "[encoded data removed]",
            "text/plain": [
              "<Figure size 288x216 with 1 Axes>"
            ]
          },
          "metadata": {
            "needs_background": "light"
          }
        }
      ]
    },
    {
      "cell_type": "code",
      "source": [
        "success_dict ={'return_scratch':[data_log1[0],data_log1[2]],'return_finetune':[data_log3[0],data_log3[2]]}\n",
        "plot_curves(success_dict, 'success curve')\n",
        "steps = np.arange(600000)\n",
        "plt.plot(steps,success_rate*np.ones(600000),color='red')\n",
        "plt.ticklabel_format(axis=\"x\", style=\"sci\", scilimits=(0,0))"
      ],
      "metadata": {
        "colab": {
          "base_uri": "https://localhost:8080/",
          "height": 240
        },
        "id": "PhSgpK5n1KgL",
        "outputId": "f8ec2ab3-0f99-4836-cb2b-79a02955c493"
      },
      "execution_count": null,
      "outputs": [
        {
          "output_type": "display_data",
          "data": {
            "image/png": "[encoded data removed]",
            "text/plain": [
              "<Figure size 288x216 with 1 Axes>"
            ]
          },
          "metadata": {
            "needs_background": "light"
          }
        }
      ]
    },
    {
      "cell_type": "markdown",
      "metadata": {
        "id": "PKnGJE7JqE2K"
      },
      "source": [
        "# More Advanced Ideas (Bonus, Optional)\n",
        "\n",
        "So far, we have seen how behavior cloning, DAgger, and behavior cloning with RL finetuning work. There are many more ideas one can try to make use of the demonstration data. For example, we can optimize the policy with the RL loss and behavior-cloning loss together as done in this work - [Learning Complex Dexterous Manipulation with\n",
        "Deep Reinforcement Learning and Demonstrations, Equation (6)](https://arxiv.org/pdf/1709.10087.pdf) - discussed in lecture.\n",
        " \n",
        "Try to implement it yourself on the Pusher environment. You are free to use any publicly avaiable RL library. You can also try out a sparse-reward setting for the Pusher environment with expert demonstrations. \n",
        "\n",
        "**Q (20 pts)**: Plot the return as well as the success rate curves. Compare the curves with the curves from the RL-scratch (training with RL from scratch) experiment.\n",
        "\n",
        "**A**:\n"
      ]
    },
    {
      "cell_type": "markdown",
      "metadata": {
        "id": "HvRqdXaKVtcL"
      },
      "source": [
        "# Survey (bonus points, 10 pts)\n",
        "Please fill out [this anonymous survey](https://forms.gle/WLqXaptTV22wbKdC8) and enter the code below to receive credit. Thanks!"
      ]
    },
    {
      "cell_type": "markdown",
      "metadata": {
        "id": "5IJcl7M8yJJp"
      },
      "source": [
        "**Code:** self_driving_on_rainbow_road"
      ]
    },
    {
      "cell_type": "code",
      "execution_count": null,
      "metadata": {
        "id": "20q_lA3F2l6I"
      },
      "outputs": [],
      "source": []
    }
  ],
  "metadata": {
    "colab": {
      "collapsed_sections": [],
      "provenance": [],
      "include_colab_link": true
    },
    "kernelspec": {
      "display_name": "Python 3 (ipykernel)",
      "language": "python",
      "name": "python3"
    },
    "language_info": {
      "codemirror_mode": {
        "name": "ipython",
        "version": 3
      },
      "file_extension": ".py",
      "mimetype": "text/x-python",
      "name": "python",
      "nbconvert_exporter": "python",
      "pygments_lexer": "ipython3",
      "version": "3.8.6"
    },
    "widgets": {
      "application/vnd.jupyter.widget-state+json": {
        "e541c898259f4e87979c9a43355d95c2": {
          "model_module": "@jupyter-widgets/controls",
          "model_name": "HBoxModel",
          "model_module_version": "1.5.0",
          "state": {
            "_view_name": "HBoxView",
            "_dom_classes": [],
            "_model_name": "HBoxModel",
            "_view_module": "@jupyter-widgets/controls",
            "_model_module_version": "1.5.0",
            "_view_count": null,
            "_view_module_version": "1.5.0",
            "box_style": "",
            "layout": "IPY_MODEL_a146599ac5fd4bec997db9516a1818fd",
            "_model_module": "@jupyter-widgets/controls",
            "children": [
              "IPY_MODEL_df8d79cc03a2497b864277dc2c2388fb",
              "IPY_MODEL_c075602a8c714727b0b3ade1740d805f",
              "IPY_MODEL_528d08055a35476c85263060ed30924c"
            ]
          }
        },
        "a146599ac5fd4bec997db9516a1818fd": {
          "model_module": "@jupyter-widgets/base",
          "model_name": "LayoutModel",
          "model_module_version": "1.2.0",
          "state": {
            "_view_name": "LayoutView",
            "grid_template_rows": null,
            "right": null,
            "justify_content": null,
            "_view_module": "@jupyter-widgets/base",
            "overflow": null,
            "_model_module_version": "1.2.0",
            "_view_count": null,
            "flex_flow": null,
            "width": null,
            "min_width": null,
            "border": null,
            "align_items": null,
            "bottom": null,
            "_model_module": "@jupyter-widgets/base",
            "top": null,
            "grid_column": null,
            "overflow_y": null,
            "overflow_x": null,
            "grid_auto_flow": null,
            "grid_area": null,
            "grid_template_columns": null,
            "flex": null,
            "_model_name": "LayoutModel",
            "justify_items": null,
            "grid_row": null,
            "max_height": null,
            "align_content": null,
            "visibility": null,
            "align_self": null,
            "height": null,
            "min_height": null,
            "padding": null,
            "grid_auto_rows": null,
            "grid_gap": null,
            "max_width": null,
            "order": null,
            "_view_module_version": "1.2.0",
            "grid_template_areas": null,
            "object_position": null,
            "object_fit": null,
            "grid_auto_columns": null,
            "margin": null,
            "display": null,
            "left": null
          }
        },
        "df8d79cc03a2497b864277dc2c2388fb": {
          "model_module": "@jupyter-widgets/controls",
          "model_name": "HTMLModel",
          "model_module_version": "1.5.0",
          "state": {
            "_view_name": "HTMLView",
            "style": "IPY_MODEL_2cf2d5b1e9c2437da84834332b630177",
            "_dom_classes": [],
            "description": "",
            "_model_name": "HTMLModel",
            "placeholder": "​",
            "_view_module": "@jupyter-widgets/controls",
            "_model_module_version": "1.5.0",
            "value": "Run: 100%",
            "_view_count": null,
            "_view_module_version": "1.5.0",
            "description_tooltip": null,
            "_model_module": "@jupyter-widgets/controls",
            "layout": "IPY_MODEL_2afed3bfe0b54548b2b6983eeaaff679"
          }
        },
        "c075602a8c714727b0b3ade1740d805f": {
          "model_module": "@jupyter-widgets/controls",
          "model_name": "FloatProgressModel",
          "model_module_version": "1.5.0",
          "state": {
            "_view_name": "ProgressView",
            "style": "IPY_MODEL_1ff86f25de8d43fdad732fd2fece7526",
            "_dom_classes": [],
            "description": "",
            "_model_name": "FloatProgressModel",
            "bar_style": "success",
            "max": 500,
            "_view_module": "@jupyter-widgets/controls",
            "_model_module_version": "1.5.0",
            "value": 500,
            "_view_count": null,
            "_view_module_version": "1.5.0",
            "orientation": "horizontal",
            "min": 0,
            "description_tooltip": null,
            "_model_module": "@jupyter-widgets/controls",
            "layout": "IPY_MODEL_f8e408ecb4264bddbca6788e3a30d84b"
          }
        },
        "528d08055a35476c85263060ed30924c": {
          "model_module": "@jupyter-widgets/controls",
          "model_name": "HTMLModel",
          "model_module_version": "1.5.0",
          "state": {
            "_view_name": "HTMLView",
            "style": "IPY_MODEL_f736d53d94934c7a9c153f8651ab5c3e",
            "_dom_classes": [],
            "description": "",
            "_model_name": "HTMLModel",
            "placeholder": "​",
            "_view_module": "@jupyter-widgets/controls",
            "_model_module_version": "1.5.0",
            "value": " 500/500 [01:01&lt;00:00,  8.59it/s]",
            "_view_count": null,
            "_view_module_version": "1.5.0",
            "description_tooltip": null,
            "_model_module": "@jupyter-widgets/controls",
            "layout": "IPY_MODEL_cb2410aa2f004f8cbf0e0141740577f4"
          }
        },
        "2cf2d5b1e9c2437da84834332b630177": {
          "model_module": "@jupyter-widgets/controls",
          "model_name": "DescriptionStyleModel",
          "model_module_version": "1.5.0",
          "state": {
            "_view_name": "StyleView",
            "_model_name": "DescriptionStyleModel",
            "description_width": "",
            "_view_module": "@jupyter-widgets/base",
            "_model_module_version": "1.5.0",
            "_view_count": null,
            "_view_module_version": "1.2.0",
            "_model_module": "@jupyter-widgets/controls"
          }
        },
        "2afed3bfe0b54548b2b6983eeaaff679": {
          "model_module": "@jupyter-widgets/base",
          "model_name": "LayoutModel",
          "model_module_version": "1.2.0",
          "state": {
            "_view_name": "LayoutView",
            "grid_template_rows": null,
            "right": null,
            "justify_content": null,
            "_view_module": "@jupyter-widgets/base",
            "overflow": null,
            "_model_module_version": "1.2.0",
            "_view_count": null,
            "flex_flow": null,
            "width": null,
            "min_width": null,
            "border": null,
            "align_items": null,
            "bottom": null,
            "_model_module": "@jupyter-widgets/base",
            "top": null,
            "grid_column": null,
            "overflow_y": null,
            "overflow_x": null,
            "grid_auto_flow": null,
            "grid_area": null,
            "grid_template_columns": null,
            "flex": null,
            "_model_name": "LayoutModel",
            "justify_items": null,
            "grid_row": null,
            "max_height": null,
            "align_content": null,
            "visibility": null,
            "align_self": null,
            "height": null,
            "min_height": null,
            "padding": null,
            "grid_auto_rows": null,
            "grid_gap": null,
            "max_width": null,
            "order": null,
            "_view_module_version": "1.2.0",
            "grid_template_areas": null,
            "object_position": null,
            "object_fit": null,
            "grid_auto_columns": null,
            "margin": null,
            "display": null,
            "left": null
          }
        },
        "1ff86f25de8d43fdad732fd2fece7526": {
          "model_module": "@jupyter-widgets/controls",
          "model_name": "ProgressStyleModel",
          "model_module_version": "1.5.0",
          "state": {
            "_view_name": "StyleView",
            "_model_name": "ProgressStyleModel",
            "description_width": "",
            "_view_module": "@jupyter-widgets/base",
            "_model_module_version": "1.5.0",
            "_view_count": null,
            "_view_module_version": "1.2.0",
            "bar_color": null,
            "_model_module": "@jupyter-widgets/controls"
          }
        },
        "f8e408ecb4264bddbca6788e3a30d84b": {
          "model_module": "@jupyter-widgets/base",
          "model_name": "LayoutModel",
          "model_module_version": "1.2.0",
          "state": {
            "_view_name": "LayoutView",
            "grid_template_rows": null,
            "right": null,
            "justify_content": null,
            "_view_module": "@jupyter-widgets/base",
            "overflow": null,
            "_model_module_version": "1.2.0",
            "_view_count": null,
            "flex_flow": null,
            "width": null,
            "min_width": null,
            "border": null,
            "align_items": null,
            "bottom": null,
            "_model_module": "@jupyter-widgets/base",
            "top": null,
            "grid_column": null,
            "overflow_y": null,
            "overflow_x": null,
            "grid_auto_flow": null,
            "grid_area": null,
            "grid_template_columns": null,
            "flex": null,
            "_model_name": "LayoutModel",
            "justify_items": null,
            "grid_row": null,
            "max_height": null,
            "align_content": null,
            "visibility": null,
            "align_self": null,
            "height": null,
            "min_height": null,
            "padding": null,
            "grid_auto_rows": null,
            "grid_gap": null,
            "max_width": null,
            "order": null,
            "_view_module_version": "1.2.0",
            "grid_template_areas": null,
            "object_position": null,
            "object_fit": null,
            "grid_auto_columns": null,
            "margin": null,
            "display": null,
            "left": null
          }
        },
        "f736d53d94934c7a9c153f8651ab5c3e": {
          "model_module": "@jupyter-widgets/controls",
          "model_name": "DescriptionStyleModel",
          "model_module_version": "1.5.0",
          "state": {
            "_view_name": "StyleView",
            "_model_name": "DescriptionStyleModel",
            "description_width": "",
            "_view_module": "@jupyter-widgets/base",
            "_model_module_version": "1.5.0",
            "_view_count": null,
            "_view_module_version": "1.2.0",
            "_model_module": "@jupyter-widgets/controls"
          }
        },
        "cb2410aa2f004f8cbf0e0141740577f4": {
          "model_module": "@jupyter-widgets/base",
          "model_name": "LayoutModel",
          "model_module_version": "1.2.0",
          "state": {
            "_view_name": "LayoutView",
            "grid_template_rows": null,
            "right": null,
            "justify_content": null,
            "_view_module": "@jupyter-widgets/base",
            "overflow": null,
            "_model_module_version": "1.2.0",
            "_view_count": null,
            "flex_flow": null,
            "width": null,
            "min_width": null,
            "border": null,
            "align_items": null,
            "bottom": null,
            "_model_module": "@jupyter-widgets/base",
            "top": null,
            "grid_column": null,
            "overflow_y": null,
            "overflow_x": null,
            "grid_auto_flow": null,
            "grid_area": null,
            "grid_template_columns": null,
            "flex": null,
            "_model_name": "LayoutModel",
            "justify_items": null,
            "grid_row": null,
            "max_height": null,
            "align_content": null,
            "visibility": null,
            "align_self": null,
            "height": null,
            "min_height": null,
            "padding": null,
            "grid_auto_rows": null,
            "grid_gap": null,
            "max_width": null,
            "order": null,
            "_view_module_version": "1.2.0",
            "grid_template_areas": null,
            "object_position": null,
            "object_fit": null,
            "grid_auto_columns": null,
            "margin": null,
            "display": null,
            "left": null
          }
        },
        "b3872f1b0cb34be2837ce46b42ebb549": {
          "model_module": "@jupyter-widgets/controls",
          "model_name": "HBoxModel",
          "model_module_version": "1.5.0",
          "state": {
            "_view_name": "HBoxView",
            "_dom_classes": [],
            "_model_name": "HBoxModel",
            "_view_module": "@jupyter-widgets/controls",
            "_model_module_version": "1.5.0",
            "_view_count": null,
            "_view_module_version": "1.5.0",
            "box_style": "",
            "layout": "IPY_MODEL_8342d8cf7e424df0bb8900c51129dcf0",
            "_model_module": "@jupyter-widgets/controls",
            "children": [
              "IPY_MODEL_80606229c0304416992ffe790e688b0d",
              "IPY_MODEL_1e94473ac3fa41ee96349a96372f6ed1",
              "IPY_MODEL_6de666ca58204157bfe8521fb28cafc6"
            ]
          }
        },
        "8342d8cf7e424df0bb8900c51129dcf0": {
          "model_module": "@jupyter-widgets/base",
          "model_name": "LayoutModel",
          "model_module_version": "1.2.0",
          "state": {
            "_view_name": "LayoutView",
            "grid_template_rows": null,
            "right": null,
            "justify_content": null,
            "_view_module": "@jupyter-widgets/base",
            "overflow": null,
            "_model_module_version": "1.2.0",
            "_view_count": null,
            "flex_flow": null,
            "width": null,
            "min_width": null,
            "border": null,
            "align_items": null,
            "bottom": null,
            "_model_module": "@jupyter-widgets/base",
            "top": null,
            "grid_column": null,
            "overflow_y": null,
            "overflow_x": null,
            "grid_auto_flow": null,
            "grid_area": null,
            "grid_template_columns": null,
            "flex": null,
            "_model_name": "LayoutModel",
            "justify_items": null,
            "grid_row": null,
            "max_height": null,
            "align_content": null,
            "visibility": null,
            "align_self": null,
            "height": null,
            "min_height": null,
            "padding": null,
            "grid_auto_rows": null,
            "grid_gap": null,
            "max_width": null,
            "order": null,
            "_view_module_version": "1.2.0",
            "grid_template_areas": null,
            "object_position": null,
            "object_fit": null,
            "grid_auto_columns": null,
            "margin": null,
            "display": null,
            "left": null
          }
        },
        "80606229c0304416992ffe790e688b0d": {
          "model_module": "@jupyter-widgets/controls",
          "model_name": "HTMLModel",
          "model_module_version": "1.5.0",
          "state": {
            "_view_name": "HTMLView",
            "style": "IPY_MODEL_a370cf61cf024e289cfa1f37f7b4045f",
            "_dom_classes": [],
            "description": "",
            "_model_name": "HTMLModel",
            "placeholder": "​",
            "_view_module": "@jupyter-widgets/controls",
            "_model_module_version": "1.5.0",
            "value": "Run: 100%",
            "_view_count": null,
            "_view_module_version": "1.5.0",
            "description_tooltip": null,
            "_model_module": "@jupyter-widgets/controls",
            "layout": "IPY_MODEL_2cb57313b8fa40ea9670f340d2480e91"
          }
        },
        "1e94473ac3fa41ee96349a96372f6ed1": {
          "model_module": "@jupyter-widgets/controls",
          "model_name": "FloatProgressModel",
          "model_module_version": "1.5.0",
          "state": {
            "_view_name": "ProgressView",
            "style": "IPY_MODEL_6b5bef5c500441d2a9c4f5ba11ef3af9",
            "_dom_classes": [],
            "description": "",
            "_model_name": "FloatProgressModel",
            "bar_style": "success",
            "max": 5,
            "_view_module": "@jupyter-widgets/controls",
            "_model_module_version": "1.5.0",
            "value": 5,
            "_view_count": null,
            "_view_module_version": "1.5.0",
            "orientation": "horizontal",
            "min": 0,
            "description_tooltip": null,
            "_model_module": "@jupyter-widgets/controls",
            "layout": "IPY_MODEL_4579b864d19c4edf8d65b33d65028e8b"
          }
        },
        "6de666ca58204157bfe8521fb28cafc6": {
          "model_module": "@jupyter-widgets/controls",
          "model_name": "HTMLModel",
          "model_module_version": "1.5.0",
          "state": {
            "_view_name": "HTMLView",
            "style": "IPY_MODEL_c3d8abb1b3544965bfbc0a0b43a65573",
            "_dom_classes": [],
            "description": "",
            "_model_name": "HTMLModel",
            "placeholder": "​",
            "_view_module": "@jupyter-widgets/controls",
            "_model_module_version": "1.5.0",
            "value": " 5/5 [00:24&lt;00:00,  4.96s/it]",
            "_view_count": null,
            "_view_module_version": "1.5.0",
            "description_tooltip": null,
            "_model_module": "@jupyter-widgets/controls",
            "layout": "IPY_MODEL_0167bdd867154c5d9da0714974deddd5"
          }
        },
        "a370cf61cf024e289cfa1f37f7b4045f": {
          "model_module": "@jupyter-widgets/controls",
          "model_name": "DescriptionStyleModel",
          "model_module_version": "1.5.0",
          "state": {
            "_view_name": "StyleView",
            "_model_name": "DescriptionStyleModel",
            "description_width": "",
            "_view_module": "@jupyter-widgets/base",
            "_model_module_version": "1.5.0",
            "_view_count": null,
            "_view_module_version": "1.2.0",
            "_model_module": "@jupyter-widgets/controls"
          }
        },
        "2cb57313b8fa40ea9670f340d2480e91": {
          "model_module": "@jupyter-widgets/base",
          "model_name": "LayoutModel",
          "model_module_version": "1.2.0",
          "state": {
            "_view_name": "LayoutView",
            "grid_template_rows": null,
            "right": null,
            "justify_content": null,
            "_view_module": "@jupyter-widgets/base",
            "overflow": null,
            "_model_module_version": "1.2.0",
            "_view_count": null,
            "flex_flow": null,
            "width": null,
            "min_width": null,
            "border": null,
            "align_items": null,
            "bottom": null,
            "_model_module": "@jupyter-widgets/base",
            "top": null,
            "grid_column": null,
            "overflow_y": null,
            "overflow_x": null,
            "grid_auto_flow": null,
            "grid_area": null,
            "grid_template_columns": null,
            "flex": null,
            "_model_name": "LayoutModel",
            "justify_items": null,
            "grid_row": null,
            "max_height": null,
            "align_content": null,
            "visibility": null,
            "align_self": null,
            "height": null,
            "min_height": null,
            "padding": null,
            "grid_auto_rows": null,
            "grid_gap": null,
            "max_width": null,
            "order": null,
            "_view_module_version": "1.2.0",
            "grid_template_areas": null,
            "object_position": null,
            "object_fit": null,
            "grid_auto_columns": null,
            "margin": null,
            "display": null,
            "left": null
          }
        },
        "6b5bef5c500441d2a9c4f5ba11ef3af9": {
          "model_module": "@jupyter-widgets/controls",
          "model_name": "ProgressStyleModel",
          "model_module_version": "1.5.0",
          "state": {
            "_view_name": "StyleView",
            "_model_name": "ProgressStyleModel",
            "description_width": "",
            "_view_module": "@jupyter-widgets/base",
            "_model_module_version": "1.5.0",
            "_view_count": null,
            "_view_module_version": "1.2.0",
            "bar_color": null,
            "_model_module": "@jupyter-widgets/controls"
          }
        },
        "4579b864d19c4edf8d65b33d65028e8b": {
          "model_module": "@jupyter-widgets/base",
          "model_name": "LayoutModel",
          "model_module_version": "1.2.0",
          "state": {
            "_view_name": "LayoutView",
            "grid_template_rows": null,
            "right": null,
            "justify_content": null,
            "_view_module": "@jupyter-widgets/base",
            "overflow": null,
            "_model_module_version": "1.2.0",
            "_view_count": null,
            "flex_flow": null,
            "width": null,
            "min_width": null,
            "border": null,
            "align_items": null,
            "bottom": null,
            "_model_module": "@jupyter-widgets/base",
            "top": null,
            "grid_column": null,
            "overflow_y": null,
            "overflow_x": null,
            "grid_auto_flow": null,
            "grid_area": null,
            "grid_template_columns": null,
            "flex": null,
            "_model_name": "LayoutModel",
            "justify_items": null,
            "grid_row": null,
            "max_height": null,
            "align_content": null,
            "visibility": null,
            "align_self": null,
            "height": null,
            "min_height": null,
            "padding": null,
            "grid_auto_rows": null,
            "grid_gap": null,
            "max_width": null,
            "order": null,
            "_view_module_version": "1.2.0",
            "grid_template_areas": null,
            "object_position": null,
            "object_fit": null,
            "grid_auto_columns": null,
            "margin": null,
            "display": null,
            "left": null
          }
        },
        "c3d8abb1b3544965bfbc0a0b43a65573": {
          "model_module": "@jupyter-widgets/controls",
          "model_name": "DescriptionStyleModel",
          "model_module_version": "1.5.0",
          "state": {
            "_view_name": "StyleView",
            "_model_name": "DescriptionStyleModel",
            "description_width": "",
            "_view_module": "@jupyter-widgets/base",
            "_model_module_version": "1.5.0",
            "_view_count": null,
            "_view_module_version": "1.2.0",
            "_model_module": "@jupyter-widgets/controls"
          }
        },
        "0167bdd867154c5d9da0714974deddd5": {
          "model_module": "@jupyter-widgets/base",
          "model_name": "LayoutModel",
          "model_module_version": "1.2.0",
          "state": {
            "_view_name": "LayoutView",
            "grid_template_rows": null,
            "right": null,
            "justify_content": null,
            "_view_module": "@jupyter-widgets/base",
            "overflow": null,
            "_model_module_version": "1.2.0",
            "_view_count": null,
            "flex_flow": null,
            "width": null,
            "min_width": null,
            "border": null,
            "align_items": null,
            "bottom": null,
            "_model_module": "@jupyter-widgets/base",
            "top": null,
            "grid_column": null,
            "overflow_y": null,
            "overflow_x": null,
            "grid_auto_flow": null,
            "grid_area": null,
            "grid_template_columns": null,
            "flex": null,
            "_model_name": "LayoutModel",
            "justify_items": null,
            "grid_row": null,
            "max_height": null,
            "align_content": null,
            "visibility": null,
            "align_self": null,
            "height": null,
            "min_height": null,
            "padding": null,
            "grid_auto_rows": null,
            "grid_gap": null,
            "max_width": null,
            "order": null,
            "_view_module_version": "1.2.0",
            "grid_template_areas": null,
            "object_position": null,
            "object_fit": null,
            "grid_auto_columns": null,
            "margin": null,
            "display": null,
            "left": null
          }
        },
        "8e08bc08cf734433a702513a919270c6": {
          "model_module": "@jupyter-widgets/controls",
          "model_name": "HBoxModel",
          "model_module_version": "1.5.0",
          "state": {
            "_view_name": "HBoxView",
            "_dom_classes": [],
            "_model_name": "HBoxModel",
            "_view_module": "@jupyter-widgets/controls",
            "_model_module_version": "1.5.0",
            "_view_count": null,
            "_view_module_version": "1.5.0",
            "box_style": "",
            "layout": "IPY_MODEL_08c3379882fc4b87a0bddffda7e3e57c",
            "_model_module": "@jupyter-widgets/controls",
            "children": [
              "IPY_MODEL_353dfef2ebb544538b56efa915ab397e",
              "IPY_MODEL_ab13d92923c24955ac1796d4a8419ad1",
              "IPY_MODEL_c794a83f2bc848b7a0821ca1fb1d4313"
            ]
          }
        },
        "08c3379882fc4b87a0bddffda7e3e57c": {
          "model_module": "@jupyter-widgets/base",
          "model_name": "LayoutModel",
          "model_module_version": "1.2.0",
          "state": {
            "_view_name": "LayoutView",
            "grid_template_rows": null,
            "right": null,
            "justify_content": null,
            "_view_module": "@jupyter-widgets/base",
            "overflow": null,
            "_model_module_version": "1.2.0",
            "_view_count": null,
            "flex_flow": null,
            "width": null,
            "min_width": null,
            "border": null,
            "align_items": null,
            "bottom": null,
            "_model_module": "@jupyter-widgets/base",
            "top": null,
            "grid_column": null,
            "overflow_y": null,
            "overflow_x": null,
            "grid_auto_flow": null,
            "grid_area": null,
            "grid_template_columns": null,
            "flex": null,
            "_model_name": "LayoutModel",
            "justify_items": null,
            "grid_row": null,
            "max_height": null,
            "align_content": null,
            "visibility": null,
            "align_self": null,
            "height": null,
            "min_height": null,
            "padding": null,
            "grid_auto_rows": null,
            "grid_gap": null,
            "max_width": null,
            "order": null,
            "_view_module_version": "1.2.0",
            "grid_template_areas": null,
            "object_position": null,
            "object_fit": null,
            "grid_auto_columns": null,
            "margin": null,
            "display": null,
            "left": null
          }
        },
        "353dfef2ebb544538b56efa915ab397e": {
          "model_module": "@jupyter-widgets/controls",
          "model_name": "HTMLModel",
          "model_module_version": "1.5.0",
          "state": {
            "_view_name": "HTMLView",
            "style": "IPY_MODEL_2af21f0d5c2f4f0ea082fedddcee1d0c",
            "_dom_classes": [],
            "description": "",
            "_model_name": "HTMLModel",
            "placeholder": "​",
            "_view_module": "@jupyter-widgets/controls",
            "_model_module_version": "1.5.0",
            "value": "Run: 100%",
            "_view_count": null,
            "_view_module_version": "1.5.0",
            "description_tooltip": null,
            "_model_module": "@jupyter-widgets/controls",
            "layout": "IPY_MODEL_aa4bf166ec4c4f22b50b82eb2d2c628d"
          }
        },
        "ab13d92923c24955ac1796d4a8419ad1": {
          "model_module": "@jupyter-widgets/controls",
          "model_name": "FloatProgressModel",
          "model_module_version": "1.5.0",
          "state": {
            "_view_name": "ProgressView",
            "style": "IPY_MODEL_6c9f79ff074245f6948c478d976ccb80",
            "_dom_classes": [],
            "description": "",
            "_model_name": "FloatProgressModel",
            "bar_style": "success",
            "max": 50,
            "_view_module": "@jupyter-widgets/controls",
            "_model_module_version": "1.5.0",
            "value": 50,
            "_view_count": null,
            "_view_module_version": "1.5.0",
            "orientation": "horizontal",
            "min": 0,
            "description_tooltip": null,
            "_model_module": "@jupyter-widgets/controls",
            "layout": "IPY_MODEL_6207830c643d493a89ae4ac2ea2186be"
          }
        },
        "c794a83f2bc848b7a0821ca1fb1d4313": {
          "model_module": "@jupyter-widgets/controls",
          "model_name": "HTMLModel",
          "model_module_version": "1.5.0",
          "state": {
            "_view_name": "HTMLView",
            "style": "IPY_MODEL_fad24b00a7cd4e1c94f8506a5eb38b7e",
            "_dom_classes": [],
            "description": "",
            "_model_name": "HTMLModel",
            "placeholder": "​",
            "_view_module": "@jupyter-widgets/controls",
            "_model_module_version": "1.5.0",
            "value": " 50/50 [00:05&lt;00:00,  8.80it/s]",
            "_view_count": null,
            "_view_module_version": "1.5.0",
            "description_tooltip": null,
            "_model_module": "@jupyter-widgets/controls",
            "layout": "IPY_MODEL_2c9d46d4051a4e2da6adb87909b95996"
          }
        },
        "2af21f0d5c2f4f0ea082fedddcee1d0c": {
          "model_module": "@jupyter-widgets/controls",
          "model_name": "DescriptionStyleModel",
          "model_module_version": "1.5.0",
          "state": {
            "_view_name": "StyleView",
            "_model_name": "DescriptionStyleModel",
            "description_width": "",
            "_view_module": "@jupyter-widgets/base",
            "_model_module_version": "1.5.0",
            "_view_count": null,
            "_view_module_version": "1.2.0",
            "_model_module": "@jupyter-widgets/controls"
          }
        },
        "aa4bf166ec4c4f22b50b82eb2d2c628d": {
          "model_module": "@jupyter-widgets/base",
          "model_name": "LayoutModel",
          "model_module_version": "1.2.0",
          "state": {
            "_view_name": "LayoutView",
            "grid_template_rows": null,
            "right": null,
            "justify_content": null,
            "_view_module": "@jupyter-widgets/base",
            "overflow": null,
            "_model_module_version": "1.2.0",
            "_view_count": null,
            "flex_flow": null,
            "width": null,
            "min_width": null,
            "border": null,
            "align_items": null,
            "bottom": null,
            "_model_module": "@jupyter-widgets/base",
            "top": null,
            "grid_column": null,
            "overflow_y": null,
            "overflow_x": null,
            "grid_auto_flow": null,
            "grid_area": null,
            "grid_template_columns": null,
            "flex": null,
            "_model_name": "LayoutModel",
            "justify_items": null,
            "grid_row": null,
            "max_height": null,
            "align_content": null,
            "visibility": null,
            "align_self": null,
            "height": null,
            "min_height": null,
            "padding": null,
            "grid_auto_rows": null,
            "grid_gap": null,
            "max_width": null,
            "order": null,
            "_view_module_version": "1.2.0",
            "grid_template_areas": null,
            "object_position": null,
            "object_fit": null,
            "grid_auto_columns": null,
            "margin": null,
            "display": null,
            "left": null
          }
        },
        "6c9f79ff074245f6948c478d976ccb80": {
          "model_module": "@jupyter-widgets/controls",
          "model_name": "ProgressStyleModel",
          "model_module_version": "1.5.0",
          "state": {
            "_view_name": "StyleView",
            "_model_name": "ProgressStyleModel",
            "description_width": "",
            "_view_module": "@jupyter-widgets/base",
            "_model_module_version": "1.5.0",
            "_view_count": null,
            "_view_module_version": "1.2.0",
            "bar_color": null,
            "_model_module": "@jupyter-widgets/controls"
          }
        },
        "6207830c643d493a89ae4ac2ea2186be": {
          "model_module": "@jupyter-widgets/base",
          "model_name": "LayoutModel",
          "model_module_version": "1.2.0",
          "state": {
            "_view_name": "LayoutView",
            "grid_template_rows": null,
            "right": null,
            "justify_content": null,
            "_view_module": "@jupyter-widgets/base",
            "overflow": null,
            "_model_module_version": "1.2.0",
            "_view_count": null,
            "flex_flow": null,
            "width": null,
            "min_width": null,
            "border": null,
            "align_items": null,
            "bottom": null,
            "_model_module": "@jupyter-widgets/base",
            "top": null,
            "grid_column": null,
            "overflow_y": null,
            "overflow_x": null,
            "grid_auto_flow": null,
            "grid_area": null,
            "grid_template_columns": null,
            "flex": null,
            "_model_name": "LayoutModel",
            "justify_items": null,
            "grid_row": null,
            "max_height": null,
            "align_content": null,
            "visibility": null,
            "align_self": null,
            "height": null,
            "min_height": null,
            "padding": null,
            "grid_auto_rows": null,
            "grid_gap": null,
            "max_width": null,
            "order": null,
            "_view_module_version": "1.2.0",
            "grid_template_areas": null,
            "object_position": null,
            "object_fit": null,
            "grid_auto_columns": null,
            "margin": null,
            "display": null,
            "left": null
          }
        },
        "fad24b00a7cd4e1c94f8506a5eb38b7e": {
          "model_module": "@jupyter-widgets/controls",
          "model_name": "DescriptionStyleModel",
          "model_module_version": "1.5.0",
          "state": {
            "_view_name": "StyleView",
            "_model_name": "DescriptionStyleModel",
            "description_width": "",
            "_view_module": "@jupyter-widgets/base",
            "_model_module_version": "1.5.0",
            "_view_count": null,
            "_view_module_version": "1.2.0",
            "_model_module": "@jupyter-widgets/controls"
          }
        },
        "2c9d46d4051a4e2da6adb87909b95996": {
          "model_module": "@jupyter-widgets/base",
          "model_name": "LayoutModel",
          "model_module_version": "1.2.0",
          "state": {
            "_view_name": "LayoutView",
            "grid_template_rows": null,
            "right": null,
            "justify_content": null,
            "_view_module": "@jupyter-widgets/base",
            "overflow": null,
            "_model_module_version": "1.2.0",
            "_view_count": null,
            "flex_flow": null,
            "width": null,
            "min_width": null,
            "border": null,
            "align_items": null,
            "bottom": null,
            "_model_module": "@jupyter-widgets/base",
            "top": null,
            "grid_column": null,
            "overflow_y": null,
            "overflow_x": null,
            "grid_auto_flow": null,
            "grid_area": null,
            "grid_template_columns": null,
            "flex": null,
            "_model_name": "LayoutModel",
            "justify_items": null,
            "grid_row": null,
            "max_height": null,
            "align_content": null,
            "visibility": null,
            "align_self": null,
            "height": null,
            "min_height": null,
            "padding": null,
            "grid_auto_rows": null,
            "grid_gap": null,
            "max_width": null,
            "order": null,
            "_view_module_version": "1.2.0",
            "grid_template_areas": null,
            "object_position": null,
            "object_fit": null,
            "grid_auto_columns": null,
            "margin": null,
            "display": null,
            "left": null
          }
        },
        "e5dc5628c4be4d1a9ac1602a422786b9": {
          "model_module": "@jupyter-widgets/controls",
          "model_name": "HBoxModel",
          "model_module_version": "1.5.0",
          "state": {
            "_view_name": "HBoxView",
            "_dom_classes": [],
            "_model_name": "HBoxModel",
            "_view_module": "@jupyter-widgets/controls",
            "_model_module_version": "1.5.0",
            "_view_count": null,
            "_view_module_version": "1.5.0",
            "box_style": "",
            "layout": "IPY_MODEL_05ef8646251f44a7bc45d573f35a4867",
            "_model_module": "@jupyter-widgets/controls",
            "children": [
              "IPY_MODEL_5ed98da9178443a4a199d0c236ef2cbb",
              "IPY_MODEL_c679d2bb3642478192de07d3bd6ebebe",
              "IPY_MODEL_1ef026a30d7c48a59bf3d9e44df561f0"
            ]
          }
        },
        "05ef8646251f44a7bc45d573f35a4867": {
          "model_module": "@jupyter-widgets/base",
          "model_name": "LayoutModel",
          "model_module_version": "1.2.0",
          "state": {
            "_view_name": "LayoutView",
            "grid_template_rows": null,
            "right": null,
            "justify_content": null,
            "_view_module": "@jupyter-widgets/base",
            "overflow": null,
            "_model_module_version": "1.2.0",
            "_view_count": null,
            "flex_flow": null,
            "width": null,
            "min_width": null,
            "border": null,
            "align_items": null,
            "bottom": null,
            "_model_module": "@jupyter-widgets/base",
            "top": null,
            "grid_column": null,
            "overflow_y": null,
            "overflow_x": null,
            "grid_auto_flow": null,
            "grid_area": null,
            "grid_template_columns": null,
            "flex": null,
            "_model_name": "LayoutModel",
            "justify_items": null,
            "grid_row": null,
            "max_height": null,
            "align_content": null,
            "visibility": null,
            "align_self": null,
            "height": null,
            "min_height": null,
            "padding": null,
            "grid_auto_rows": null,
            "grid_gap": null,
            "max_width": null,
            "order": null,
            "_view_module_version": "1.2.0",
            "grid_template_areas": null,
            "object_position": null,
            "object_fit": null,
            "grid_auto_columns": null,
            "margin": null,
            "display": null,
            "left": null
          }
        },
        "5ed98da9178443a4a199d0c236ef2cbb": {
          "model_module": "@jupyter-widgets/controls",
          "model_name": "HTMLModel",
          "model_module_version": "1.5.0",
          "state": {
            "_view_name": "HTMLView",
            "style": "IPY_MODEL_8af1178265bc48d8a9b4fd5160aa960b",
            "_dom_classes": [],
            "description": "",
            "_model_name": "HTMLModel",
            "placeholder": "​",
            "_view_module": "@jupyter-widgets/controls",
            "_model_module_version": "1.5.0",
            "value": "Run: 100%",
            "_view_count": null,
            "_view_module_version": "1.5.0",
            "description_tooltip": null,
            "_model_module": "@jupyter-widgets/controls",
            "layout": "IPY_MODEL_7d7f2f49cbce41bf8c43e99537a4f620"
          }
        },
        "c679d2bb3642478192de07d3bd6ebebe": {
          "model_module": "@jupyter-widgets/controls",
          "model_name": "FloatProgressModel",
          "model_module_version": "1.5.0",
          "state": {
            "_view_name": "ProgressView",
            "style": "IPY_MODEL_f8e7c91b366f4d38bbcb2d59517039ed",
            "_dom_classes": [],
            "description": "",
            "_model_name": "FloatProgressModel",
            "bar_style": "success",
            "max": 200,
            "_view_module": "@jupyter-widgets/controls",
            "_model_module_version": "1.5.0",
            "value": 200,
            "_view_count": null,
            "_view_module_version": "1.5.0",
            "orientation": "horizontal",
            "min": 0,
            "description_tooltip": null,
            "_model_module": "@jupyter-widgets/controls",
            "layout": "IPY_MODEL_821fb3cdd9f644ba817f3f44a73ef939"
          }
        },
        "1ef026a30d7c48a59bf3d9e44df561f0": {
          "model_module": "@jupyter-widgets/controls",
          "model_name": "HTMLModel",
          "model_module_version": "1.5.0",
          "state": {
            "_view_name": "HTMLView",
            "style": "IPY_MODEL_db9e26370142424f86a224305ec37a0f",
            "_dom_classes": [],
            "description": "",
            "_model_name": "HTMLModel",
            "placeholder": "​",
            "_view_module": "@jupyter-widgets/controls",
            "_model_module_version": "1.5.0",
            "value": " 200/200 [00:24&lt;00:00,  9.18it/s]",
            "_view_count": null,
            "_view_module_version": "1.5.0",
            "description_tooltip": null,
            "_model_module": "@jupyter-widgets/controls",
            "layout": "IPY_MODEL_1d6eee9a903348ff84a0e31b9f0b1dbe"
          }
        },
        "8af1178265bc48d8a9b4fd5160aa960b": {
          "model_module": "@jupyter-widgets/controls",
          "model_name": "DescriptionStyleModel",
          "model_module_version": "1.5.0",
          "state": {
            "_view_name": "StyleView",
            "_model_name": "DescriptionStyleModel",
            "description_width": "",
            "_view_module": "@jupyter-widgets/base",
            "_model_module_version": "1.5.0",
            "_view_count": null,
            "_view_module_version": "1.2.0",
            "_model_module": "@jupyter-widgets/controls"
          }
        },
        "7d7f2f49cbce41bf8c43e99537a4f620": {
          "model_module": "@jupyter-widgets/base",
          "model_name": "LayoutModel",
          "model_module_version": "1.2.0",
          "state": {
            "_view_name": "LayoutView",
            "grid_template_rows": null,
            "right": null,
            "justify_content": null,
            "_view_module": "@jupyter-widgets/base",
            "overflow": null,
            "_model_module_version": "1.2.0",
            "_view_count": null,
            "flex_flow": null,
            "width": null,
            "min_width": null,
            "border": null,
            "align_items": null,
            "bottom": null,
            "_model_module": "@jupyter-widgets/base",
            "top": null,
            "grid_column": null,
            "overflow_y": null,
            "overflow_x": null,
            "grid_auto_flow": null,
            "grid_area": null,
            "grid_template_columns": null,
            "flex": null,
            "_model_name": "LayoutModel",
            "justify_items": null,
            "grid_row": null,
            "max_height": null,
            "align_content": null,
            "visibility": null,
            "align_self": null,
            "height": null,
            "min_height": null,
            "padding": null,
            "grid_auto_rows": null,
            "grid_gap": null,
            "max_width": null,
            "order": null,
            "_view_module_version": "1.2.0",
            "grid_template_areas": null,
            "object_position": null,
            "object_fit": null,
            "grid_auto_columns": null,
            "margin": null,
            "display": null,
            "left": null
          }
        },
        "f8e7c91b366f4d38bbcb2d59517039ed": {
          "model_module": "@jupyter-widgets/controls",
          "model_name": "ProgressStyleModel",
          "model_module_version": "1.5.0",
          "state": {
            "_view_name": "StyleView",
            "_model_name": "ProgressStyleModel",
            "description_width": "",
            "_view_module": "@jupyter-widgets/base",
            "_model_module_version": "1.5.0",
            "_view_count": null,
            "_view_module_version": "1.2.0",
            "bar_color": null,
            "_model_module": "@jupyter-widgets/controls"
          }
        },
        "821fb3cdd9f644ba817f3f44a73ef939": {
          "model_module": "@jupyter-widgets/base",
          "model_name": "LayoutModel",
          "model_module_version": "1.2.0",
          "state": {
            "_view_name": "LayoutView",
            "grid_template_rows": null,
            "right": null,
            "justify_content": null,
            "_view_module": "@jupyter-widgets/base",
            "overflow": null,
            "_model_module_version": "1.2.0",
            "_view_count": null,
            "flex_flow": null,
            "width": null,
            "min_width": null,
            "border": null,
            "align_items": null,
            "bottom": null,
            "_model_module": "@jupyter-widgets/base",
            "top": null,
            "grid_column": null,
            "overflow_y": null,
            "overflow_x": null,
            "grid_auto_flow": null,
            "grid_area": null,
            "grid_template_columns": null,
            "flex": null,
            "_model_name": "LayoutModel",
            "justify_items": null,
            "grid_row": null,
            "max_height": null,
            "align_content": null,
            "visibility": null,
            "align_self": null,
            "height": null,
            "min_height": null,
            "padding": null,
            "grid_auto_rows": null,
            "grid_gap": null,
            "max_width": null,
            "order": null,
            "_view_module_version": "1.2.0",
            "grid_template_areas": null,
            "object_position": null,
            "object_fit": null,
            "grid_auto_columns": null,
            "margin": null,
            "display": null,
            "left": null
          }
        },
        "db9e26370142424f86a224305ec37a0f": {
          "model_module": "@jupyter-widgets/controls",
          "model_name": "DescriptionStyleModel",
          "model_module_version": "1.5.0",
          "state": {
            "_view_name": "StyleView",
            "_model_name": "DescriptionStyleModel",
            "description_width": "",
            "_view_module": "@jupyter-widgets/base",
            "_model_module_version": "1.5.0",
            "_view_count": null,
            "_view_module_version": "1.2.0",
            "_model_module": "@jupyter-widgets/controls"
          }
        },
        "1d6eee9a903348ff84a0e31b9f0b1dbe": {
          "model_module": "@jupyter-widgets/base",
          "model_name": "LayoutModel",
          "model_module_version": "1.2.0",
          "state": {
            "_view_name": "LayoutView",
            "grid_template_rows": null,
            "right": null,
            "justify_content": null,
            "_view_module": "@jupyter-widgets/base",
            "overflow": null,
            "_model_module_version": "1.2.0",
            "_view_count": null,
            "flex_flow": null,
            "width": null,
            "min_width": null,
            "border": null,
            "align_items": null,
            "bottom": null,
            "_model_module": "@jupyter-widgets/base",
            "top": null,
            "grid_column": null,
            "overflow_y": null,
            "overflow_x": null,
            "grid_auto_flow": null,
            "grid_area": null,
            "grid_template_columns": null,
            "flex": null,
            "_model_name": "LayoutModel",
            "justify_items": null,
            "grid_row": null,
            "max_height": null,
            "align_content": null,
            "visibility": null,
            "align_self": null,
            "height": null,
            "min_height": null,
            "padding": null,
            "grid_auto_rows": null,
            "grid_gap": null,
            "max_width": null,
            "order": null,
            "_view_module_version": "1.2.0",
            "grid_template_areas": null,
            "object_position": null,
            "object_fit": null,
            "grid_auto_columns": null,
            "margin": null,
            "display": null,
            "left": null
          }
        },
        "c6f082c24f8442459aadd20e736c8a56": {
          "model_module": "@jupyter-widgets/controls",
          "model_name": "HBoxModel",
          "model_module_version": "1.5.0",
          "state": {
            "_view_name": "HBoxView",
            "_dom_classes": [],
            "_model_name": "HBoxModel",
            "_view_module": "@jupyter-widgets/controls",
            "_model_module_version": "1.5.0",
            "_view_count": null,
            "_view_module_version": "1.5.0",
            "box_style": "",
            "layout": "IPY_MODEL_39161c7d70b8426fbfcde6c72df99f5f",
            "_model_module": "@jupyter-widgets/controls",
            "children": [
              "IPY_MODEL_5218f859552041e78cd45335af29c3aa",
              "IPY_MODEL_e17d2279fa674722ab2e441522129591",
              "IPY_MODEL_78438157db294b84a41b48765f51b0d2"
            ]
          }
        },
        "39161c7d70b8426fbfcde6c72df99f5f": {
          "model_module": "@jupyter-widgets/base",
          "model_name": "LayoutModel",
          "model_module_version": "1.2.0",
          "state": {
            "_view_name": "LayoutView",
            "grid_template_rows": null,
            "right": null,
            "justify_content": null,
            "_view_module": "@jupyter-widgets/base",
            "overflow": null,
            "_model_module_version": "1.2.0",
            "_view_count": null,
            "flex_flow": null,
            "width": null,
            "min_width": null,
            "border": null,
            "align_items": null,
            "bottom": null,
            "_model_module": "@jupyter-widgets/base",
            "top": null,
            "grid_column": null,
            "overflow_y": null,
            "overflow_x": null,
            "grid_auto_flow": null,
            "grid_area": null,
            "grid_template_columns": null,
            "flex": null,
            "_model_name": "LayoutModel",
            "justify_items": null,
            "grid_row": null,
            "max_height": null,
            "align_content": null,
            "visibility": null,
            "align_self": null,
            "height": null,
            "min_height": null,
            "padding": null,
            "grid_auto_rows": null,
            "grid_gap": null,
            "max_width": null,
            "order": null,
            "_view_module_version": "1.2.0",
            "grid_template_areas": null,
            "object_position": null,
            "object_fit": null,
            "grid_auto_columns": null,
            "margin": null,
            "display": null,
            "left": null
          }
        },
        "5218f859552041e78cd45335af29c3aa": {
          "model_module": "@jupyter-widgets/controls",
          "model_name": "HTMLModel",
          "model_module_version": "1.5.0",
          "state": {
            "_view_name": "HTMLView",
            "style": "IPY_MODEL_d1a3ac41558f40efad08e2fa6cea886e",
            "_dom_classes": [],
            "description": "",
            "_model_name": "HTMLModel",
            "placeholder": "​",
            "_view_module": "@jupyter-widgets/controls",
            "_model_module_version": "1.5.0",
            "value": "Run: 100%",
            "_view_count": null,
            "_view_module_version": "1.5.0",
            "description_tooltip": null,
            "_model_module": "@jupyter-widgets/controls",
            "layout": "IPY_MODEL_1bcc129b3c814e43aad397a662d28b95"
          }
        },
        "e17d2279fa674722ab2e441522129591": {
          "model_module": "@jupyter-widgets/controls",
          "model_name": "FloatProgressModel",
          "model_module_version": "1.5.0",
          "state": {
            "_view_name": "ProgressView",
            "style": "IPY_MODEL_bf263c42cfae41a5b93fc0e21a41310e",
            "_dom_classes": [],
            "description": "",
            "_model_name": "FloatProgressModel",
            "bar_style": "success",
            "max": 500,
            "_view_module": "@jupyter-widgets/controls",
            "_model_module_version": "1.5.0",
            "value": 500,
            "_view_count": null,
            "_view_module_version": "1.5.0",
            "orientation": "horizontal",
            "min": 0,
            "description_tooltip": null,
            "_model_module": "@jupyter-widgets/controls",
            "layout": "IPY_MODEL_ba078403917c4dfd85077c2605bf32a8"
          }
        },
        "78438157db294b84a41b48765f51b0d2": {
          "model_module": "@jupyter-widgets/controls",
          "model_name": "HTMLModel",
          "model_module_version": "1.5.0",
          "state": {
            "_view_name": "HTMLView",
            "style": "IPY_MODEL_7ea44c0855fc417fb0e4341ab0451cb0",
            "_dom_classes": [],
            "description": "",
            "_model_name": "HTMLModel",
            "placeholder": "​",
            "_view_module": "@jupyter-widgets/controls",
            "_model_module_version": "1.5.0",
            "value": " 500/500 [00:51&lt;00:00,  9.10it/s]",
            "_view_count": null,
            "_view_module_version": "1.5.0",
            "description_tooltip": null,
            "_model_module": "@jupyter-widgets/controls",
            "layout": "IPY_MODEL_f1d5ed9722a44489bf843e04d6e4b236"
          }
        },
        "d1a3ac41558f40efad08e2fa6cea886e": {
          "model_module": "@jupyter-widgets/controls",
          "model_name": "DescriptionStyleModel",
          "model_module_version": "1.5.0",
          "state": {
            "_view_name": "StyleView",
            "_model_name": "DescriptionStyleModel",
            "description_width": "",
            "_view_module": "@jupyter-widgets/base",
            "_model_module_version": "1.5.0",
            "_view_count": null,
            "_view_module_version": "1.2.0",
            "_model_module": "@jupyter-widgets/controls"
          }
        },
        "1bcc129b3c814e43aad397a662d28b95": {
          "model_module": "@jupyter-widgets/base",
          "model_name": "LayoutModel",
          "model_module_version": "1.2.0",
          "state": {
            "_view_name": "LayoutView",
            "grid_template_rows": null,
            "right": null,
            "justify_content": null,
            "_view_module": "@jupyter-widgets/base",
            "overflow": null,
            "_model_module_version": "1.2.0",
            "_view_count": null,
            "flex_flow": null,
            "width": null,
            "min_width": null,
            "border": null,
            "align_items": null,
            "bottom": null,
            "_model_module": "@jupyter-widgets/base",
            "top": null,
            "grid_column": null,
            "overflow_y": null,
            "overflow_x": null,
            "grid_auto_flow": null,
            "grid_area": null,
            "grid_template_columns": null,
            "flex": null,
            "_model_name": "LayoutModel",
            "justify_items": null,
            "grid_row": null,
            "max_height": null,
            "align_content": null,
            "visibility": null,
            "align_self": null,
            "height": null,
            "min_height": null,
            "padding": null,
            "grid_auto_rows": null,
            "grid_gap": null,
            "max_width": null,
            "order": null,
            "_view_module_version": "1.2.0",
            "grid_template_areas": null,
            "object_position": null,
            "object_fit": null,
            "grid_auto_columns": null,
            "margin": null,
            "display": null,
            "left": null
          }
        },
        "bf263c42cfae41a5b93fc0e21a41310e": {
          "model_module": "@jupyter-widgets/controls",
          "model_name": "ProgressStyleModel",
          "model_module_version": "1.5.0",
          "state": {
            "_view_name": "StyleView",
            "_model_name": "ProgressStyleModel",
            "description_width": "",
            "_view_module": "@jupyter-widgets/base",
            "_model_module_version": "1.5.0",
            "_view_count": null,
            "_view_module_version": "1.2.0",
            "bar_color": null,
            "_model_module": "@jupyter-widgets/controls"
          }
        },
        "ba078403917c4dfd85077c2605bf32a8": {
          "model_module": "@jupyter-widgets/base",
          "model_name": "LayoutModel",
          "model_module_version": "1.2.0",
          "state": {
            "_view_name": "LayoutView",
            "grid_template_rows": null,
            "right": null,
            "justify_content": null,
            "_view_module": "@jupyter-widgets/base",
            "overflow": null,
            "_model_module_version": "1.2.0",
            "_view_count": null,
            "flex_flow": null,
            "width": null,
            "min_width": null,
            "border": null,
            "align_items": null,
            "bottom": null,
            "_model_module": "@jupyter-widgets/base",
            "top": null,
            "grid_column": null,
            "overflow_y": null,
            "overflow_x": null,
            "grid_auto_flow": null,
            "grid_area": null,
            "grid_template_columns": null,
            "flex": null,
            "_model_name": "LayoutModel",
            "justify_items": null,
            "grid_row": null,
            "max_height": null,
            "align_content": null,
            "visibility": null,
            "align_self": null,
            "height": null,
            "min_height": null,
            "padding": null,
            "grid_auto_rows": null,
            "grid_gap": null,
            "max_width": null,
            "order": null,
            "_view_module_version": "1.2.0",
            "grid_template_areas": null,
            "object_position": null,
            "object_fit": null,
            "grid_auto_columns": null,
            "margin": null,
            "display": null,
            "left": null
          }
        },
        "7ea44c0855fc417fb0e4341ab0451cb0": {
          "model_module": "@jupyter-widgets/controls",
          "model_name": "DescriptionStyleModel",
          "model_module_version": "1.5.0",
          "state": {
            "_view_name": "StyleView",
            "_model_name": "DescriptionStyleModel",
            "description_width": "",
            "_view_module": "@jupyter-widgets/base",
            "_model_module_version": "1.5.0",
            "_view_count": null,
            "_view_module_version": "1.2.0",
            "_model_module": "@jupyter-widgets/controls"
          }
        },
        "f1d5ed9722a44489bf843e04d6e4b236": {
          "model_module": "@jupyter-widgets/base",
          "model_name": "LayoutModel",
          "model_module_version": "1.2.0",
          "state": {
            "_view_name": "LayoutView",
            "grid_template_rows": null,
            "right": null,
            "justify_content": null,
            "_view_module": "@jupyter-widgets/base",
            "overflow": null,
            "_model_module_version": "1.2.0",
            "_view_count": null,
            "flex_flow": null,
            "width": null,
            "min_width": null,
            "border": null,
            "align_items": null,
            "bottom": null,
            "_model_module": "@jupyter-widgets/base",
            "top": null,
            "grid_column": null,
            "overflow_y": null,
            "overflow_x": null,
            "grid_auto_flow": null,
            "grid_area": null,
            "grid_template_columns": null,
            "flex": null,
            "_model_name": "LayoutModel",
            "justify_items": null,
            "grid_row": null,
            "max_height": null,
            "align_content": null,
            "visibility": null,
            "align_self": null,
            "height": null,
            "min_height": null,
            "padding": null,
            "grid_auto_rows": null,
            "grid_gap": null,
            "max_width": null,
            "order": null,
            "_view_module_version": "1.2.0",
            "grid_template_areas": null,
            "object_position": null,
            "object_fit": null,
            "grid_auto_columns": null,
            "margin": null,
            "display": null,
            "left": null
          }
        },
        "a631d5497e2b4c8e97be119a6d752f81": {
          "model_module": "@jupyter-widgets/controls",
          "model_name": "HBoxModel",
          "model_module_version": "1.5.0",
          "state": {
            "_view_name": "HBoxView",
            "_dom_classes": [],
            "_model_name": "HBoxModel",
            "_view_module": "@jupyter-widgets/controls",
            "_model_module_version": "1.5.0",
            "_view_count": null,
            "_view_module_version": "1.5.0",
            "box_style": "",
            "layout": "IPY_MODEL_90a9e71da48a4b7fb1acd4b8fa23bb97",
            "_model_module": "@jupyter-widgets/controls",
            "children": [
              "IPY_MODEL_d905be22a1f94216ad91f27f8e85c780",
              "IPY_MODEL_33205ef4ba654fc09e64887a73c77e7c",
              "IPY_MODEL_dd6a81d080bc4b64aa7a5fc7b5e45458"
            ]
          }
        },
        "90a9e71da48a4b7fb1acd4b8fa23bb97": {
          "model_module": "@jupyter-widgets/base",
          "model_name": "LayoutModel",
          "model_module_version": "1.2.0",
          "state": {
            "_view_name": "LayoutView",
            "grid_template_rows": null,
            "right": null,
            "justify_content": null,
            "_view_module": "@jupyter-widgets/base",
            "overflow": null,
            "_model_module_version": "1.2.0",
            "_view_count": null,
            "flex_flow": null,
            "width": null,
            "min_width": null,
            "border": null,
            "align_items": null,
            "bottom": null,
            "_model_module": "@jupyter-widgets/base",
            "top": null,
            "grid_column": null,
            "overflow_y": null,
            "overflow_x": null,
            "grid_auto_flow": null,
            "grid_area": null,
            "grid_template_columns": null,
            "flex": null,
            "_model_name": "LayoutModel",
            "justify_items": null,
            "grid_row": null,
            "max_height": null,
            "align_content": null,
            "visibility": null,
            "align_self": null,
            "height": null,
            "min_height": null,
            "padding": null,
            "grid_auto_rows": null,
            "grid_gap": null,
            "max_width": null,
            "order": null,
            "_view_module_version": "1.2.0",
            "grid_template_areas": null,
            "object_position": null,
            "object_fit": null,
            "grid_auto_columns": null,
            "margin": null,
            "display": null,
            "left": null
          }
        },
        "d905be22a1f94216ad91f27f8e85c780": {
          "model_module": "@jupyter-widgets/controls",
          "model_name": "HTMLModel",
          "model_module_version": "1.5.0",
          "state": {
            "_view_name": "HTMLView",
            "style": "IPY_MODEL_bcc95d17048646d9990180a29c8f1916",
            "_dom_classes": [],
            "description": "",
            "_model_name": "HTMLModel",
            "placeholder": "​",
            "_view_module": "@jupyter-widgets/controls",
            "_model_module_version": "1.5.0",
            "value": "Run: 100%",
            "_view_count": null,
            "_view_module_version": "1.5.0",
            "description_tooltip": null,
            "_model_module": "@jupyter-widgets/controls",
            "layout": "IPY_MODEL_85cb1230f537425a8ac4ee7ffbedd69e"
          }
        },
        "33205ef4ba654fc09e64887a73c77e7c": {
          "model_module": "@jupyter-widgets/controls",
          "model_name": "FloatProgressModel",
          "model_module_version": "1.5.0",
          "state": {
            "_view_name": "ProgressView",
            "style": "IPY_MODEL_13c3c3b0081a49f1973171fcef4b392c",
            "_dom_classes": [],
            "description": "",
            "_model_name": "FloatProgressModel",
            "bar_style": "success",
            "max": 50,
            "_view_module": "@jupyter-widgets/controls",
            "_model_module_version": "1.5.0",
            "value": 50,
            "_view_count": null,
            "_view_module_version": "1.5.0",
            "orientation": "horizontal",
            "min": 0,
            "description_tooltip": null,
            "_model_module": "@jupyter-widgets/controls",
            "layout": "IPY_MODEL_d089de6632674e52aefc8c1ca749d73e"
          }
        },
        "dd6a81d080bc4b64aa7a5fc7b5e45458": {
          "model_module": "@jupyter-widgets/controls",
          "model_name": "HTMLModel",
          "model_module_version": "1.5.0",
          "state": {
            "_view_name": "HTMLView",
            "style": "IPY_MODEL_bbc77089ab594aae82d383a9561fe1de",
            "_dom_classes": [],
            "description": "",
            "_model_name": "HTMLModel",
            "placeholder": "​",
            "_view_module": "@jupyter-widgets/controls",
            "_model_module_version": "1.5.0",
            "value": " 50/50 [00:05&lt;00:00,  9.16it/s]",
            "_view_count": null,
            "_view_module_version": "1.5.0",
            "description_tooltip": null,
            "_model_module": "@jupyter-widgets/controls",
            "layout": "IPY_MODEL_c0c874cea08740c2b637785da7ce5bf2"
          }
        },
        "bcc95d17048646d9990180a29c8f1916": {
          "model_module": "@jupyter-widgets/controls",
          "model_name": "DescriptionStyleModel",
          "model_module_version": "1.5.0",
          "state": {
            "_view_name": "StyleView",
            "_model_name": "DescriptionStyleModel",
            "description_width": "",
            "_view_module": "@jupyter-widgets/base",
            "_model_module_version": "1.5.0",
            "_view_count": null,
            "_view_module_version": "1.2.0",
            "_model_module": "@jupyter-widgets/controls"
          }
        },
        "85cb1230f537425a8ac4ee7ffbedd69e": {
          "model_module": "@jupyter-widgets/base",
          "model_name": "LayoutModel",
          "model_module_version": "1.2.0",
          "state": {
            "_view_name": "LayoutView",
            "grid_template_rows": null,
            "right": null,
            "justify_content": null,
            "_view_module": "@jupyter-widgets/base",
            "overflow": null,
            "_model_module_version": "1.2.0",
            "_view_count": null,
            "flex_flow": null,
            "width": null,
            "min_width": null,
            "border": null,
            "align_items": null,
            "bottom": null,
            "_model_module": "@jupyter-widgets/base",
            "top": null,
            "grid_column": null,
            "overflow_y": null,
            "overflow_x": null,
            "grid_auto_flow": null,
            "grid_area": null,
            "grid_template_columns": null,
            "flex": null,
            "_model_name": "LayoutModel",
            "justify_items": null,
            "grid_row": null,
            "max_height": null,
            "align_content": null,
            "visibility": null,
            "align_self": null,
            "height": null,
            "min_height": null,
            "padding": null,
            "grid_auto_rows": null,
            "grid_gap": null,
            "max_width": null,
            "order": null,
            "_view_module_version": "1.2.0",
            "grid_template_areas": null,
            "object_position": null,
            "object_fit": null,
            "grid_auto_columns": null,
            "margin": null,
            "display": null,
            "left": null
          }
        },
        "13c3c3b0081a49f1973171fcef4b392c": {
          "model_module": "@jupyter-widgets/controls",
          "model_name": "ProgressStyleModel",
          "model_module_version": "1.5.0",
          "state": {
            "_view_name": "StyleView",
            "_model_name": "ProgressStyleModel",
            "description_width": "",
            "_view_module": "@jupyter-widgets/base",
            "_model_module_version": "1.5.0",
            "_view_count": null,
            "_view_module_version": "1.2.0",
            "bar_color": null,
            "_model_module": "@jupyter-widgets/controls"
          }
        },
        "d089de6632674e52aefc8c1ca749d73e": {
          "model_module": "@jupyter-widgets/base",
          "model_name": "LayoutModel",
          "model_module_version": "1.2.0",
          "state": {
            "_view_name": "LayoutView",
            "grid_template_rows": null,
            "right": null,
            "justify_content": null,
            "_view_module": "@jupyter-widgets/base",
            "overflow": null,
            "_model_module_version": "1.2.0",
            "_view_count": null,
            "flex_flow": null,
            "width": null,
            "min_width": null,
            "border": null,
            "align_items": null,
            "bottom": null,
            "_model_module": "@jupyter-widgets/base",
            "top": null,
            "grid_column": null,
            "overflow_y": null,
            "overflow_x": null,
            "grid_auto_flow": null,
            "grid_area": null,
            "grid_template_columns": null,
            "flex": null,
            "_model_name": "LayoutModel",
            "justify_items": null,
            "grid_row": null,
            "max_height": null,
            "align_content": null,
            "visibility": null,
            "align_self": null,
            "height": null,
            "min_height": null,
            "padding": null,
            "grid_auto_rows": null,
            "grid_gap": null,
            "max_width": null,
            "order": null,
            "_view_module_version": "1.2.0",
            "grid_template_areas": null,
            "object_position": null,
            "object_fit": null,
            "grid_auto_columns": null,
            "margin": null,
            "display": null,
            "left": null
          }
        },
        "bbc77089ab594aae82d383a9561fe1de": {
          "model_module": "@jupyter-widgets/controls",
          "model_name": "DescriptionStyleModel",
          "model_module_version": "1.5.0",
          "state": {
            "_view_name": "StyleView",
            "_model_name": "DescriptionStyleModel",
            "description_width": "",
            "_view_module": "@jupyter-widgets/base",
            "_model_module_version": "1.5.0",
            "_view_count": null,
            "_view_module_version": "1.2.0",
            "_model_module": "@jupyter-widgets/controls"
          }
        },
        "c0c874cea08740c2b637785da7ce5bf2": {
          "model_module": "@jupyter-widgets/base",
          "model_name": "LayoutModel",
          "model_module_version": "1.2.0",
          "state": {
            "_view_name": "LayoutView",
            "grid_template_rows": null,
            "right": null,
            "justify_content": null,
            "_view_module": "@jupyter-widgets/base",
            "overflow": null,
            "_model_module_version": "1.2.0",
            "_view_count": null,
            "flex_flow": null,
            "width": null,
            "min_width": null,
            "border": null,
            "align_items": null,
            "bottom": null,
            "_model_module": "@jupyter-widgets/base",
            "top": null,
            "grid_column": null,
            "overflow_y": null,
            "overflow_x": null,
            "grid_auto_flow": null,
            "grid_area": null,
            "grid_template_columns": null,
            "flex": null,
            "_model_name": "LayoutModel",
            "justify_items": null,
            "grid_row": null,
            "max_height": null,
            "align_content": null,
            "visibility": null,
            "align_self": null,
            "height": null,
            "min_height": null,
            "padding": null,
            "grid_auto_rows": null,
            "grid_gap": null,
            "max_width": null,
            "order": null,
            "_view_module_version": "1.2.0",
            "grid_template_areas": null,
            "object_position": null,
            "object_fit": null,
            "grid_auto_columns": null,
            "margin": null,
            "display": null,
            "left": null
          }
        }
      }
    }
  },
  "nbformat": 4,
  "nbformat_minor": 0
}